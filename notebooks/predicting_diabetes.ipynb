{
 "cells": [
  {
   "cell_type": "code",
   "execution_count": 1,
   "metadata": {
    "_cell_guid": "b1076dfc-b9ad-4769-8c92-a6c4dae69d19",
    "_uuid": "8f2839f25d086af736a60e9eeb907d3b93b6e0e5",
    "execution": {
     "iopub.execute_input": "2020-11-25T04:43:36.629086Z",
     "iopub.status.busy": "2020-11-25T04:43:36.628435Z",
     "iopub.status.idle": "2020-11-25T04:43:36.637347Z",
     "shell.execute_reply": "2020-11-25T04:43:36.636703Z"
    },
    "papermill": {
     "duration": 0.035221,
     "end_time": "2020-11-25T04:43:36.637452",
     "exception": false,
     "start_time": "2020-11-25T04:43:36.602231",
     "status": "completed"
    },
    "tags": []
   },
   "outputs": [
    {
     "name": "stdout",
     "output_type": "stream",
     "text": [
      "/kaggle/input/pima-indians-diabetes-database/diabetes.csv\n"
     ]
    }
   ],
   "source": [
    "# This Python 3 environment comes with many helpful analytics libraries installed\n",
    "# It is defined by the kaggle/python Docker image: https://github.com/kaggle/docker-python\n",
    "# For example, here's several helpful packages to load\n",
    "\n",
    "import numpy as np # linear algebra\n",
    "import pandas as pd # data processing, CSV file I/O (e.g. pd.read_csv)\n",
    "\n",
    "# Input data files are available in the read-only \"../input/\" directory\n",
    "# For example, running this (by clicking run or pressing Shift+Enter) will list all files under the input directory\n",
    "\n",
    "import os\n",
    "for dirname, _, filenames in os.walk('/kaggle/input'):\n",
    "    for filename in filenames:\n",
    "        print(os.path.join(dirname, filename))\n",
    "\n",
    "# You can write up to 5GB to the current directory (/kaggle/working/) that gets preserved as output when you create a version using \"Save & Run All\" \n",
    "# You can also write temporary files to /kaggle/temp/, but they won't be saved outside of the current session"
   ]
  },
  {
   "cell_type": "code",
   "execution_count": 2,
   "metadata": {
    "execution": {
     "iopub.execute_input": "2020-11-25T04:43:36.669396Z",
     "iopub.status.busy": "2020-11-25T04:43:36.668746Z",
     "iopub.status.idle": "2020-11-25T04:43:36.671998Z",
     "shell.execute_reply": "2020-11-25T04:43:36.671469Z"
    },
    "papermill": {
     "duration": 0.020852,
     "end_time": "2020-11-25T04:43:36.672098",
     "exception": false,
     "start_time": "2020-11-25T04:43:36.651246",
     "status": "completed"
    },
    "tags": []
   },
   "outputs": [],
   "source": [
    "features_names = ['pregnant', 'glucose', 'bp', 'skin', 'insulin', 'bmi', 'pedigree', 'age', 'label']"
   ]
  },
  {
   "cell_type": "code",
   "execution_count": 3,
   "metadata": {
    "execution": {
     "iopub.execute_input": "2020-11-25T04:43:36.704294Z",
     "iopub.status.busy": "2020-11-25T04:43:36.703468Z",
     "iopub.status.idle": "2020-11-25T04:43:36.716113Z",
     "shell.execute_reply": "2020-11-25T04:43:36.716589Z"
    },
    "papermill": {
     "duration": 0.031509,
     "end_time": "2020-11-25T04:43:36.716738",
     "exception": false,
     "start_time": "2020-11-25T04:43:36.685229",
     "status": "completed"
    },
    "tags": []
   },
   "outputs": [],
   "source": [
    "## load the data this time with new feature names\n",
    "\n",
    "df_diabetes_data = pd.read_csv('../input/pima-indians-diabetes-database/diabetes.csv', header=None, names=features_names)"
   ]
  },
  {
   "cell_type": "code",
   "execution_count": 4,
   "metadata": {
    "execution": {
     "iopub.execute_input": "2020-11-25T04:43:36.761357Z",
     "iopub.status.busy": "2020-11-25T04:43:36.751984Z",
     "iopub.status.idle": "2020-11-25T04:43:36.777181Z",
     "shell.execute_reply": "2020-11-25T04:43:36.776548Z"
    },
    "papermill": {
     "duration": 0.046867,
     "end_time": "2020-11-25T04:43:36.777282",
     "exception": false,
     "start_time": "2020-11-25T04:43:36.730415",
     "status": "completed"
    },
    "tags": []
   },
   "outputs": [
    {
     "data": {
      "text/html": [
       "<div>\n",
       "<style scoped>\n",
       "    .dataframe tbody tr th:only-of-type {\n",
       "        vertical-align: middle;\n",
       "    }\n",
       "\n",
       "    .dataframe tbody tr th {\n",
       "        vertical-align: top;\n",
       "    }\n",
       "\n",
       "    .dataframe thead th {\n",
       "        text-align: right;\n",
       "    }\n",
       "</style>\n",
       "<table border=\"1\" class=\"dataframe\">\n",
       "  <thead>\n",
       "    <tr style=\"text-align: right;\">\n",
       "      <th></th>\n",
       "      <th>pregnant</th>\n",
       "      <th>glucose</th>\n",
       "      <th>bp</th>\n",
       "      <th>skin</th>\n",
       "      <th>insulin</th>\n",
       "      <th>bmi</th>\n",
       "      <th>pedigree</th>\n",
       "      <th>age</th>\n",
       "      <th>label</th>\n",
       "    </tr>\n",
       "  </thead>\n",
       "  <tbody>\n",
       "    <tr>\n",
       "      <th>0</th>\n",
       "      <td>Pregnancies</td>\n",
       "      <td>Glucose</td>\n",
       "      <td>BloodPressure</td>\n",
       "      <td>SkinThickness</td>\n",
       "      <td>Insulin</td>\n",
       "      <td>BMI</td>\n",
       "      <td>DiabetesPedigreeFunction</td>\n",
       "      <td>Age</td>\n",
       "      <td>Outcome</td>\n",
       "    </tr>\n",
       "    <tr>\n",
       "      <th>1</th>\n",
       "      <td>6</td>\n",
       "      <td>148</td>\n",
       "      <td>72</td>\n",
       "      <td>35</td>\n",
       "      <td>0</td>\n",
       "      <td>33.6</td>\n",
       "      <td>0.627</td>\n",
       "      <td>50</td>\n",
       "      <td>1</td>\n",
       "    </tr>\n",
       "    <tr>\n",
       "      <th>2</th>\n",
       "      <td>1</td>\n",
       "      <td>85</td>\n",
       "      <td>66</td>\n",
       "      <td>29</td>\n",
       "      <td>0</td>\n",
       "      <td>26.6</td>\n",
       "      <td>0.351</td>\n",
       "      <td>31</td>\n",
       "      <td>0</td>\n",
       "    </tr>\n",
       "    <tr>\n",
       "      <th>3</th>\n",
       "      <td>8</td>\n",
       "      <td>183</td>\n",
       "      <td>64</td>\n",
       "      <td>0</td>\n",
       "      <td>0</td>\n",
       "      <td>23.3</td>\n",
       "      <td>0.672</td>\n",
       "      <td>32</td>\n",
       "      <td>1</td>\n",
       "    </tr>\n",
       "    <tr>\n",
       "      <th>4</th>\n",
       "      <td>1</td>\n",
       "      <td>89</td>\n",
       "      <td>66</td>\n",
       "      <td>23</td>\n",
       "      <td>94</td>\n",
       "      <td>28.1</td>\n",
       "      <td>0.167</td>\n",
       "      <td>21</td>\n",
       "      <td>0</td>\n",
       "    </tr>\n",
       "  </tbody>\n",
       "</table>\n",
       "</div>"
      ],
      "text/plain": [
       "      pregnant  glucose             bp           skin  insulin   bmi  \\\n",
       "0  Pregnancies  Glucose  BloodPressure  SkinThickness  Insulin   BMI   \n",
       "1            6      148             72             35        0  33.6   \n",
       "2            1       85             66             29        0  26.6   \n",
       "3            8      183             64              0        0  23.3   \n",
       "4            1       89             66             23       94  28.1   \n",
       "\n",
       "                   pedigree  age    label  \n",
       "0  DiabetesPedigreeFunction  Age  Outcome  \n",
       "1                     0.627   50        1  \n",
       "2                     0.351   31        0  \n",
       "3                     0.672   32        1  \n",
       "4                     0.167   21        0  "
      ]
     },
     "execution_count": 4,
     "metadata": {},
     "output_type": "execute_result"
    }
   ],
   "source": [
    "df_diabetes_data.head()"
   ]
  },
  {
   "cell_type": "code",
   "execution_count": 5,
   "metadata": {
    "execution": {
     "iopub.execute_input": "2020-11-25T04:43:36.810745Z",
     "iopub.status.busy": "2020-11-25T04:43:36.809969Z",
     "iopub.status.idle": "2020-11-25T04:43:36.812699Z",
     "shell.execute_reply": "2020-11-25T04:43:36.812190Z"
    },
    "papermill": {
     "duration": 0.021237,
     "end_time": "2020-11-25T04:43:36.812821",
     "exception": false,
     "start_time": "2020-11-25T04:43:36.791584",
     "status": "completed"
    },
    "tags": []
   },
   "outputs": [],
   "source": [
    "df_diabetes_data2=df_diabetes_data.iloc[1:768,]"
   ]
  },
  {
   "cell_type": "code",
   "execution_count": 6,
   "metadata": {
    "execution": {
     "iopub.execute_input": "2020-11-25T04:43:36.847809Z",
     "iopub.status.busy": "2020-11-25T04:43:36.846966Z",
     "iopub.status.idle": "2020-11-25T04:43:36.852109Z",
     "shell.execute_reply": "2020-11-25T04:43:36.851582Z"
    },
    "papermill": {
     "duration": 0.024911,
     "end_time": "2020-11-25T04:43:36.852218",
     "exception": false,
     "start_time": "2020-11-25T04:43:36.827307",
     "status": "completed"
    },
    "tags": []
   },
   "outputs": [
    {
     "data": {
      "text/plain": [
       "(767, 9)"
      ]
     },
     "execution_count": 6,
     "metadata": {},
     "output_type": "execute_result"
    }
   ],
   "source": [
    "df_diabetes_data2.shape"
   ]
  },
  {
   "cell_type": "code",
   "execution_count": 7,
   "metadata": {
    "execution": {
     "iopub.execute_input": "2020-11-25T04:43:36.896108Z",
     "iopub.status.busy": "2020-11-25T04:43:36.891184Z",
     "iopub.status.idle": "2020-11-25T04:43:36.901014Z",
     "shell.execute_reply": "2020-11-25T04:43:36.900387Z"
    },
    "papermill": {
     "duration": 0.034081,
     "end_time": "2020-11-25T04:43:36.901107",
     "exception": false,
     "start_time": "2020-11-25T04:43:36.867026",
     "status": "completed"
    },
    "tags": []
   },
   "outputs": [
    {
     "data": {
      "text/html": [
       "<div>\n",
       "<style scoped>\n",
       "    .dataframe tbody tr th:only-of-type {\n",
       "        vertical-align: middle;\n",
       "    }\n",
       "\n",
       "    .dataframe tbody tr th {\n",
       "        vertical-align: top;\n",
       "    }\n",
       "\n",
       "    .dataframe thead th {\n",
       "        text-align: right;\n",
       "    }\n",
       "</style>\n",
       "<table border=\"1\" class=\"dataframe\">\n",
       "  <thead>\n",
       "    <tr style=\"text-align: right;\">\n",
       "      <th></th>\n",
       "      <th>pregnant</th>\n",
       "      <th>glucose</th>\n",
       "      <th>bp</th>\n",
       "      <th>skin</th>\n",
       "      <th>insulin</th>\n",
       "      <th>bmi</th>\n",
       "      <th>pedigree</th>\n",
       "      <th>age</th>\n",
       "      <th>label</th>\n",
       "    </tr>\n",
       "  </thead>\n",
       "  <tbody>\n",
       "    <tr>\n",
       "      <th>1</th>\n",
       "      <td>6</td>\n",
       "      <td>148</td>\n",
       "      <td>72</td>\n",
       "      <td>35</td>\n",
       "      <td>0</td>\n",
       "      <td>33.6</td>\n",
       "      <td>0.627</td>\n",
       "      <td>50</td>\n",
       "      <td>1</td>\n",
       "    </tr>\n",
       "    <tr>\n",
       "      <th>2</th>\n",
       "      <td>1</td>\n",
       "      <td>85</td>\n",
       "      <td>66</td>\n",
       "      <td>29</td>\n",
       "      <td>0</td>\n",
       "      <td>26.6</td>\n",
       "      <td>0.351</td>\n",
       "      <td>31</td>\n",
       "      <td>0</td>\n",
       "    </tr>\n",
       "    <tr>\n",
       "      <th>3</th>\n",
       "      <td>8</td>\n",
       "      <td>183</td>\n",
       "      <td>64</td>\n",
       "      <td>0</td>\n",
       "      <td>0</td>\n",
       "      <td>23.3</td>\n",
       "      <td>0.672</td>\n",
       "      <td>32</td>\n",
       "      <td>1</td>\n",
       "    </tr>\n",
       "    <tr>\n",
       "      <th>4</th>\n",
       "      <td>1</td>\n",
       "      <td>89</td>\n",
       "      <td>66</td>\n",
       "      <td>23</td>\n",
       "      <td>94</td>\n",
       "      <td>28.1</td>\n",
       "      <td>0.167</td>\n",
       "      <td>21</td>\n",
       "      <td>0</td>\n",
       "    </tr>\n",
       "    <tr>\n",
       "      <th>5</th>\n",
       "      <td>0</td>\n",
       "      <td>137</td>\n",
       "      <td>40</td>\n",
       "      <td>35</td>\n",
       "      <td>168</td>\n",
       "      <td>43.1</td>\n",
       "      <td>2.288</td>\n",
       "      <td>33</td>\n",
       "      <td>1</td>\n",
       "    </tr>\n",
       "  </tbody>\n",
       "</table>\n",
       "</div>"
      ],
      "text/plain": [
       "  pregnant glucose  bp skin insulin   bmi pedigree age label\n",
       "1        6     148  72   35       0  33.6    0.627  50     1\n",
       "2        1      85  66   29       0  26.6    0.351  31     0\n",
       "3        8     183  64    0       0  23.3    0.672  32     1\n",
       "4        1      89  66   23      94  28.1    0.167  21     0\n",
       "5        0     137  40   35     168  43.1    2.288  33     1"
      ]
     },
     "execution_count": 7,
     "metadata": {},
     "output_type": "execute_result"
    }
   ],
   "source": [
    "df_diabetes_data2.head()"
   ]
  },
  {
   "cell_type": "code",
   "execution_count": 8,
   "metadata": {
    "execution": {
     "iopub.execute_input": "2020-11-25T04:43:36.936218Z",
     "iopub.status.busy": "2020-11-25T04:43:36.935492Z",
     "iopub.status.idle": "2020-11-25T04:43:36.939616Z",
     "shell.execute_reply": "2020-11-25T04:43:36.939130Z"
    },
    "papermill": {
     "duration": 0.023158,
     "end_time": "2020-11-25T04:43:36.939709",
     "exception": false,
     "start_time": "2020-11-25T04:43:36.916551",
     "status": "completed"
    },
    "tags": []
   },
   "outputs": [],
   "source": [
    "feature_select_cols = ['pregnant', 'insulin', 'bmi', 'age']"
   ]
  },
  {
   "cell_type": "code",
   "execution_count": 9,
   "metadata": {
    "execution": {
     "iopub.execute_input": "2020-11-25T04:43:36.980871Z",
     "iopub.status.busy": "2020-11-25T04:43:36.980161Z",
     "iopub.status.idle": "2020-11-25T04:43:36.984281Z",
     "shell.execute_reply": "2020-11-25T04:43:36.983808Z"
    },
    "papermill": {
     "duration": 0.029263,
     "end_time": "2020-11-25T04:43:36.984375",
     "exception": false,
     "start_time": "2020-11-25T04:43:36.955112",
     "status": "completed"
    },
    "tags": []
   },
   "outputs": [],
   "source": [
    "X_feature = df_diabetes_data2[feature_select_cols]"
   ]
  },
  {
   "cell_type": "code",
   "execution_count": 10,
   "metadata": {
    "execution": {
     "iopub.execute_input": "2020-11-25T04:43:37.021853Z",
     "iopub.status.busy": "2020-11-25T04:43:37.020930Z",
     "iopub.status.idle": "2020-11-25T04:43:37.024441Z",
     "shell.execute_reply": "2020-11-25T04:43:37.023634Z"
    },
    "papermill": {
     "duration": 0.02365,
     "end_time": "2020-11-25T04:43:37.024566",
     "exception": false,
     "start_time": "2020-11-25T04:43:37.000916",
     "status": "completed"
    },
    "tags": []
   },
   "outputs": [],
   "source": [
    "Y_target = df_diabetes_data2['label']"
   ]
  },
  {
   "cell_type": "code",
   "execution_count": 11,
   "metadata": {
    "execution": {
     "iopub.execute_input": "2020-11-25T04:43:37.083464Z",
     "iopub.status.busy": "2020-11-25T04:43:37.082665Z",
     "iopub.status.idle": "2020-11-25T04:43:37.088357Z",
     "shell.execute_reply": "2020-11-25T04:43:37.087638Z"
    },
    "papermill": {
     "duration": 0.040093,
     "end_time": "2020-11-25T04:43:37.088482",
     "exception": false,
     "start_time": "2020-11-25T04:43:37.048389",
     "status": "completed"
    },
    "tags": []
   },
   "outputs": [
    {
     "data": {
      "text/html": [
       "<div>\n",
       "<style scoped>\n",
       "    .dataframe tbody tr th:only-of-type {\n",
       "        vertical-align: middle;\n",
       "    }\n",
       "\n",
       "    .dataframe tbody tr th {\n",
       "        vertical-align: top;\n",
       "    }\n",
       "\n",
       "    .dataframe thead th {\n",
       "        text-align: right;\n",
       "    }\n",
       "</style>\n",
       "<table border=\"1\" class=\"dataframe\">\n",
       "  <thead>\n",
       "    <tr style=\"text-align: right;\">\n",
       "      <th></th>\n",
       "      <th>pregnant</th>\n",
       "      <th>insulin</th>\n",
       "      <th>bmi</th>\n",
       "      <th>age</th>\n",
       "    </tr>\n",
       "  </thead>\n",
       "  <tbody>\n",
       "    <tr>\n",
       "      <th>1</th>\n",
       "      <td>6</td>\n",
       "      <td>0</td>\n",
       "      <td>33.6</td>\n",
       "      <td>50</td>\n",
       "    </tr>\n",
       "    <tr>\n",
       "      <th>2</th>\n",
       "      <td>1</td>\n",
       "      <td>0</td>\n",
       "      <td>26.6</td>\n",
       "      <td>31</td>\n",
       "    </tr>\n",
       "    <tr>\n",
       "      <th>3</th>\n",
       "      <td>8</td>\n",
       "      <td>0</td>\n",
       "      <td>23.3</td>\n",
       "      <td>32</td>\n",
       "    </tr>\n",
       "    <tr>\n",
       "      <th>4</th>\n",
       "      <td>1</td>\n",
       "      <td>94</td>\n",
       "      <td>28.1</td>\n",
       "      <td>21</td>\n",
       "    </tr>\n",
       "    <tr>\n",
       "      <th>5</th>\n",
       "      <td>0</td>\n",
       "      <td>168</td>\n",
       "      <td>43.1</td>\n",
       "      <td>33</td>\n",
       "    </tr>\n",
       "  </tbody>\n",
       "</table>\n",
       "</div>"
      ],
      "text/plain": [
       "  pregnant insulin   bmi age\n",
       "1        6       0  33.6  50\n",
       "2        1       0  26.6  31\n",
       "3        8       0  23.3  32\n",
       "4        1      94  28.1  21\n",
       "5        0     168  43.1  33"
      ]
     },
     "execution_count": 11,
     "metadata": {},
     "output_type": "execute_result"
    }
   ],
   "source": [
    "X_feature.head()"
   ]
  },
  {
   "cell_type": "code",
   "execution_count": 12,
   "metadata": {
    "execution": {
     "iopub.execute_input": "2020-11-25T04:43:37.143521Z",
     "iopub.status.busy": "2020-11-25T04:43:37.142805Z",
     "iopub.status.idle": "2020-11-25T04:43:37.148677Z",
     "shell.execute_reply": "2020-11-25T04:43:37.147998Z"
    },
    "papermill": {
     "duration": 0.035534,
     "end_time": "2020-11-25T04:43:37.148820",
     "exception": false,
     "start_time": "2020-11-25T04:43:37.113286",
     "status": "completed"
    },
    "tags": []
   },
   "outputs": [
    {
     "data": {
      "text/plain": [
       "(767,)"
      ]
     },
     "execution_count": 12,
     "metadata": {},
     "output_type": "execute_result"
    }
   ],
   "source": [
    "Y_target.shape"
   ]
  },
  {
   "cell_type": "code",
   "execution_count": 13,
   "metadata": {
    "execution": {
     "iopub.execute_input": "2020-11-25T04:43:37.203232Z",
     "iopub.status.busy": "2020-11-25T04:43:37.202605Z",
     "iopub.status.idle": "2020-11-25T04:43:38.061176Z",
     "shell.execute_reply": "2020-11-25T04:43:38.061655Z"
    },
    "papermill": {
     "duration": 0.887946,
     "end_time": "2020-11-25T04:43:38.061841",
     "exception": false,
     "start_time": "2020-11-25T04:43:37.173895",
     "status": "completed"
    },
    "tags": []
   },
   "outputs": [],
   "source": [
    "## split the data into x y test train data, 75% train 25% test data by default\n",
    "\n",
    "from sklearn.model_selection import train_test_split\n",
    "x_train, x_test, y_train, y_test = train_test_split(X_feature,Y_target,random_state=1)"
   ]
  },
  {
   "cell_type": "code",
   "execution_count": 14,
   "metadata": {
    "execution": {
     "iopub.execute_input": "2020-11-25T04:43:38.100378Z",
     "iopub.status.busy": "2020-11-25T04:43:38.099736Z",
     "iopub.status.idle": "2020-11-25T04:43:38.204286Z",
     "shell.execute_reply": "2020-11-25T04:43:38.203645Z"
    },
    "papermill": {
     "duration": 0.125238,
     "end_time": "2020-11-25T04:43:38.204386",
     "exception": false,
     "start_time": "2020-11-25T04:43:38.079148",
     "status": "completed"
    },
    "tags": []
   },
   "outputs": [
    {
     "data": {
      "text/plain": [
       "LogisticRegression()"
      ]
     },
     "execution_count": 14,
     "metadata": {},
     "output_type": "execute_result"
    }
   ],
   "source": [
    "from sklearn.linear_model import LogisticRegression\n",
    "\n",
    "## need to do linear regression on the training data so we can see how well our test data does the prediction\n",
    "\n",
    "logreg = LogisticRegression()\n",
    "logreg.fit(x_train,y_train)"
   ]
  },
  {
   "cell_type": "code",
   "execution_count": 15,
   "metadata": {
    "execution": {
     "iopub.execute_input": "2020-11-25T04:43:38.247399Z",
     "iopub.status.busy": "2020-11-25T04:43:38.246590Z",
     "iopub.status.idle": "2020-11-25T04:43:38.251502Z",
     "shell.execute_reply": "2020-11-25T04:43:38.250911Z"
    },
    "papermill": {
     "duration": 0.02946,
     "end_time": "2020-11-25T04:43:38.251606",
     "exception": false,
     "start_time": "2020-11-25T04:43:38.222146",
     "status": "completed"
    },
    "tags": []
   },
   "outputs": [
    {
     "data": {
      "text/plain": [
       "array(['0', '0', '0', '0', '0', '0', '0', '0', '0', '0', '0', '0', '1',\n",
       "       '1', '0', '0', '0', '0', '0', '0', '0', '0', '1', '1', '0', '0',\n",
       "       '0', '0', '0', '0', '0', '0', '0', '0', '0', '0', '1', '0', '0',\n",
       "       '1', '0', '0', '0', '0', '0', '0', '1', '0', '0', '0', '0', '0',\n",
       "       '0', '0', '1', '0', '0', '0', '1', '0', '1', '0', '1', '0', '1',\n",
       "       '0', '1', '0', '1', '1', '1', '1', '0', '0', '1', '0', '0', '0',\n",
       "       '0', '1', '1', '0', '1', '0', '1', '0', '0', '1', '0', '0', '0',\n",
       "       '0', '0', '0', '0', '0', '0', '1', '1', '1', '0', '0', '1', '0',\n",
       "       '0', '0', '0', '1', '0', '0', '0', '0', '0', '0', '1', '0', '0',\n",
       "       '0', '0', '0', '0', '1', '0', '1', '0', '0', '0', '0', '1', '0',\n",
       "       '1', '0', '0', '0', '0', '0', '0', '1', '0', '0', '0', '0', '0',\n",
       "       '1', '0', '1', '0', '0', '0', '0', '0', '1', '0', '0', '1', '0',\n",
       "       '1', '0', '0', '0', '1', '1', '1', '0', '0', '1', '0', '0', '1',\n",
       "       '1', '1', '0', '0', '0', '0', '1', '0', '0', '0', '0', '1', '0',\n",
       "       '0', '0', '0', '0', '0', '1', '0', '1', '1', '0'], dtype=object)"
      ]
     },
     "execution_count": 15,
     "metadata": {},
     "output_type": "execute_result"
    }
   ],
   "source": [
    "## using the test data and new linear regression equation, predict 50 new values for sales 'y' values \n",
    "y_pred = logreg.predict(x_test)\n",
    "y_pred"
   ]
  },
  {
   "cell_type": "code",
   "execution_count": 16,
   "metadata": {
    "execution": {
     "iopub.execute_input": "2020-11-25T04:43:38.292186Z",
     "iopub.status.busy": "2020-11-25T04:43:38.291468Z",
     "iopub.status.idle": "2020-11-25T04:43:38.294251Z",
     "shell.execute_reply": "2020-11-25T04:43:38.294695Z"
    },
    "papermill": {
     "duration": 0.0253,
     "end_time": "2020-11-25T04:43:38.294834",
     "exception": false,
     "start_time": "2020-11-25T04:43:38.269534",
     "status": "completed"
    },
    "tags": []
   },
   "outputs": [],
   "source": [
    "from sklearn import metrics"
   ]
  },
  {
   "cell_type": "code",
   "execution_count": 17,
   "metadata": {
    "execution": {
     "iopub.execute_input": "2020-11-25T04:43:38.335961Z",
     "iopub.status.busy": "2020-11-25T04:43:38.335183Z",
     "iopub.status.idle": "2020-11-25T04:43:38.341345Z",
     "shell.execute_reply": "2020-11-25T04:43:38.340832Z"
    },
    "papermill": {
     "duration": 0.028454,
     "end_time": "2020-11-25T04:43:38.341436",
     "exception": false,
     "start_time": "2020-11-25T04:43:38.312982",
     "status": "completed"
    },
    "tags": []
   },
   "outputs": [
    {
     "name": "stdout",
     "output_type": "stream",
     "text": [
      "0.7239583333333334\n"
     ]
    }
   ],
   "source": [
    "print(metrics.accuracy_score(y_test,y_pred))"
   ]
  },
  {
   "cell_type": "code",
   "execution_count": 18,
   "metadata": {
    "execution": {
     "iopub.execute_input": "2020-11-25T04:43:38.384682Z",
     "iopub.status.busy": "2020-11-25T04:43:38.383801Z",
     "iopub.status.idle": "2020-11-25T04:43:38.388407Z",
     "shell.execute_reply": "2020-11-25T04:43:38.387891Z"
    },
    "papermill": {
     "duration": 0.028382,
     "end_time": "2020-11-25T04:43:38.388505",
     "exception": false,
     "start_time": "2020-11-25T04:43:38.360123",
     "status": "completed"
    },
    "tags": []
   },
   "outputs": [
    {
     "name": "stdout",
     "output_type": "stream",
     "text": [
      "actual:     ['0' '0' '0' '0' '0' '0' '0' '0' '0' '0' '1' '0' '1' '1' '0' '1' '1' '0'\n",
      " '0' '0' '1' '1' '1' '1' '0' '0' '0' '1' '0' '0']\n",
      "predicted:  ['0' '0' '0' '0' '0' '0' '0' '0' '0' '0' '0' '0' '1' '1' '0' '0' '0' '0'\n",
      " '0' '0' '0' '0' '1' '1' '0' '0' '0' '0' '0' '0']\n"
     ]
    }
   ],
   "source": [
    "print('actual:    ', y_test.values[0:30])\n",
    "print('predicted: ', y_pred[0:30])"
   ]
  },
  {
   "cell_type": "code",
   "execution_count": null,
   "metadata": {
    "papermill": {
     "duration": 0.018801,
     "end_time": "2020-11-25T04:43:38.426737",
     "exception": false,
     "start_time": "2020-11-25T04:43:38.407936",
     "status": "completed"
    },
    "tags": []
   },
   "outputs": [],
   "source": []
  }
 ],
 "metadata": {
  "kernelspec": {
   "display_name": "Python 3",
   "language": "python",
   "name": "python3"
  },
  "language_info": {
   "codemirror_mode": {
    "name": "ipython",
    "version": 3
   },
   "file_extension": ".py",
   "mimetype": "text/x-python",
   "name": "python",
   "nbconvert_exporter": "python",
   "pygments_lexer": "ipython3",
   "version": "3.7.6"
  },
  "papermill": {
   "duration": 6.246363,
   "end_time": "2020-11-25T04:43:38.553940",
   "environment_variables": {},
   "exception": null,
   "input_path": "__notebook__.ipynb",
   "output_path": "__notebook__.ipynb",
   "parameters": {},
   "start_time": "2020-11-25T04:43:32.307577",
   "version": "2.1.0"
  }
 },
 "nbformat": 4,
 "nbformat_minor": 4
}
