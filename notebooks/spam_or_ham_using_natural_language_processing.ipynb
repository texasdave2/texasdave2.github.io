{
 "cells": [
  {
   "cell_type": "code",
   "execution_count": 1,
   "metadata": {
    "_cell_guid": "b1076dfc-b9ad-4769-8c92-a6c4dae69d19",
    "_uuid": "8f2839f25d086af736a60e9eeb907d3b93b6e0e5",
    "execution": {
     "iopub.execute_input": "2020-11-25T04:42:29.320091Z",
     "iopub.status.busy": "2020-11-25T04:42:29.319155Z",
     "iopub.status.idle": "2020-11-25T04:42:31.412032Z",
     "shell.execute_reply": "2020-11-25T04:42:31.411182Z"
    },
    "papermill": {
     "duration": 2.131094,
     "end_time": "2020-11-25T04:42:31.412178",
     "exception": false,
     "start_time": "2020-11-25T04:42:29.281084",
     "status": "completed"
    },
    "tags": []
   },
   "outputs": [
    {
     "name": "stdout",
     "output_type": "stream",
     "text": [
      "/kaggle/input/sms-spam-collection-dataset/spam.csv\n"
     ]
    }
   ],
   "source": [
    "import numpy as np # linear algebra\n",
    "import pandas as pd # data processing, CSV file I/O (e.g. pd.read_csv)\n",
    "import os\n",
    "for dirname, _, filenames in os.walk('/kaggle/input'):\n",
    "    for filename in filenames:\n",
    "        print(os.path.join(dirname, filename))\n",
    "        \n",
    "import string\n",
    "import nltk\n",
    "import matplotlib.pyplot as plt\n",
    "import seaborn as sns\n",
    "from nltk.corpus import stopwords"
   ]
  },
  {
   "cell_type": "markdown",
   "metadata": {
    "papermill": {
     "duration": 0.029042,
     "end_time": "2020-11-25T04:42:31.471632",
     "exception": false,
     "start_time": "2020-11-25T04:42:31.442590",
     "status": "completed"
    },
    "tags": []
   },
   "source": [
    "#### Load the csv file, in this case we needed to add some encoding to it so that the unicode characters wouldn't break the \n"
   ]
  },
  {
   "cell_type": "code",
   "execution_count": 2,
   "metadata": {
    "_cell_guid": "79c7e3d0-c299-4dcb-8224-4455121ee9b0",
    "_uuid": "d629ff2d2480ee46fbb7e2d37f6b5fab8052498a",
    "execution": {
     "iopub.execute_input": "2020-11-25T04:42:31.543855Z",
     "iopub.status.busy": "2020-11-25T04:42:31.542927Z",
     "iopub.status.idle": "2020-11-25T04:42:31.578045Z",
     "shell.execute_reply": "2020-11-25T04:42:31.577249Z"
    },
    "papermill": {
     "duration": 0.077228,
     "end_time": "2020-11-25T04:42:31.578181",
     "exception": false,
     "start_time": "2020-11-25T04:42:31.500953",
     "status": "completed"
    },
    "tags": []
   },
   "outputs": [],
   "source": [
    "df = pd.read_csv(\"/kaggle/input/sms-spam-collection-dataset/spam.csv\", encoding='latin-1')"
   ]
  },
  {
   "cell_type": "code",
   "execution_count": 3,
   "metadata": {
    "execution": {
     "iopub.execute_input": "2020-11-25T04:42:31.656118Z",
     "iopub.status.busy": "2020-11-25T04:42:31.647756Z",
     "iopub.status.idle": "2020-11-25T04:42:31.667426Z",
     "shell.execute_reply": "2020-11-25T04:42:31.666694Z"
    },
    "papermill": {
     "duration": 0.059469,
     "end_time": "2020-11-25T04:42:31.667545",
     "exception": false,
     "start_time": "2020-11-25T04:42:31.608076",
     "status": "completed"
    },
    "tags": []
   },
   "outputs": [
    {
     "data": {
      "text/html": [
       "<div>\n",
       "<style scoped>\n",
       "    .dataframe tbody tr th:only-of-type {\n",
       "        vertical-align: middle;\n",
       "    }\n",
       "\n",
       "    .dataframe tbody tr th {\n",
       "        vertical-align: top;\n",
       "    }\n",
       "\n",
       "    .dataframe thead th {\n",
       "        text-align: right;\n",
       "    }\n",
       "</style>\n",
       "<table border=\"1\" class=\"dataframe\">\n",
       "  <thead>\n",
       "    <tr style=\"text-align: right;\">\n",
       "      <th></th>\n",
       "      <th>v1</th>\n",
       "      <th>v2</th>\n",
       "      <th>Unnamed: 2</th>\n",
       "      <th>Unnamed: 3</th>\n",
       "      <th>Unnamed: 4</th>\n",
       "    </tr>\n",
       "  </thead>\n",
       "  <tbody>\n",
       "    <tr>\n",
       "      <th>0</th>\n",
       "      <td>ham</td>\n",
       "      <td>Go until jurong point, crazy.. Available only ...</td>\n",
       "      <td>NaN</td>\n",
       "      <td>NaN</td>\n",
       "      <td>NaN</td>\n",
       "    </tr>\n",
       "    <tr>\n",
       "      <th>1</th>\n",
       "      <td>ham</td>\n",
       "      <td>Ok lar... Joking wif u oni...</td>\n",
       "      <td>NaN</td>\n",
       "      <td>NaN</td>\n",
       "      <td>NaN</td>\n",
       "    </tr>\n",
       "    <tr>\n",
       "      <th>2</th>\n",
       "      <td>spam</td>\n",
       "      <td>Free entry in 2 a wkly comp to win FA Cup fina...</td>\n",
       "      <td>NaN</td>\n",
       "      <td>NaN</td>\n",
       "      <td>NaN</td>\n",
       "    </tr>\n",
       "    <tr>\n",
       "      <th>3</th>\n",
       "      <td>ham</td>\n",
       "      <td>U dun say so early hor... U c already then say...</td>\n",
       "      <td>NaN</td>\n",
       "      <td>NaN</td>\n",
       "      <td>NaN</td>\n",
       "    </tr>\n",
       "    <tr>\n",
       "      <th>4</th>\n",
       "      <td>ham</td>\n",
       "      <td>Nah I don't think he goes to usf, he lives aro...</td>\n",
       "      <td>NaN</td>\n",
       "      <td>NaN</td>\n",
       "      <td>NaN</td>\n",
       "    </tr>\n",
       "  </tbody>\n",
       "</table>\n",
       "</div>"
      ],
      "text/plain": [
       "     v1                                                 v2 Unnamed: 2  \\\n",
       "0   ham  Go until jurong point, crazy.. Available only ...        NaN   \n",
       "1   ham                      Ok lar... Joking wif u oni...        NaN   \n",
       "2  spam  Free entry in 2 a wkly comp to win FA Cup fina...        NaN   \n",
       "3   ham  U dun say so early hor... U c already then say...        NaN   \n",
       "4   ham  Nah I don't think he goes to usf, he lives aro...        NaN   \n",
       "\n",
       "  Unnamed: 3 Unnamed: 4  \n",
       "0        NaN        NaN  \n",
       "1        NaN        NaN  \n",
       "2        NaN        NaN  \n",
       "3        NaN        NaN  \n",
       "4        NaN        NaN  "
      ]
     },
     "execution_count": 3,
     "metadata": {},
     "output_type": "execute_result"
    }
   ],
   "source": [
    "##  see what we're dealing with by getting the top 5 rows and columns\n",
    "\n",
    "df.head()"
   ]
  },
  {
   "cell_type": "markdown",
   "metadata": {
    "papermill": {
     "duration": 0.031392,
     "end_time": "2020-11-25T04:42:31.729318",
     "exception": false,
     "start_time": "2020-11-25T04:42:31.697926",
     "status": "completed"
    },
    "tags": []
   },
   "source": [
    "We see that there are more than the columns we really need so let's subset them to the first two columns and all rows.  The format is iloc[ROW RANGE,COLUMN RANGE]"
   ]
  },
  {
   "cell_type": "code",
   "execution_count": 4,
   "metadata": {
    "execution": {
     "iopub.execute_input": "2020-11-25T04:42:31.802997Z",
     "iopub.status.busy": "2020-11-25T04:42:31.801909Z",
     "iopub.status.idle": "2020-11-25T04:42:31.806106Z",
     "shell.execute_reply": "2020-11-25T04:42:31.805359Z"
    },
    "papermill": {
     "duration": 0.046282,
     "end_time": "2020-11-25T04:42:31.806264",
     "exception": false,
     "start_time": "2020-11-25T04:42:31.759982",
     "status": "completed"
    },
    "tags": []
   },
   "outputs": [],
   "source": [
    "df_sms = df.iloc[:,0:2]"
   ]
  },
  {
   "cell_type": "code",
   "execution_count": 5,
   "metadata": {
    "execution": {
     "iopub.execute_input": "2020-11-25T04:42:31.881418Z",
     "iopub.status.busy": "2020-11-25T04:42:31.880126Z",
     "iopub.status.idle": "2020-11-25T04:42:31.885343Z",
     "shell.execute_reply": "2020-11-25T04:42:31.884593Z"
    },
    "papermill": {
     "duration": 0.048493,
     "end_time": "2020-11-25T04:42:31.885470",
     "exception": false,
     "start_time": "2020-11-25T04:42:31.836977",
     "status": "completed"
    },
    "tags": []
   },
   "outputs": [
    {
     "data": {
      "text/html": [
       "<div>\n",
       "<style scoped>\n",
       "    .dataframe tbody tr th:only-of-type {\n",
       "        vertical-align: middle;\n",
       "    }\n",
       "\n",
       "    .dataframe tbody tr th {\n",
       "        vertical-align: top;\n",
       "    }\n",
       "\n",
       "    .dataframe thead th {\n",
       "        text-align: right;\n",
       "    }\n",
       "</style>\n",
       "<table border=\"1\" class=\"dataframe\">\n",
       "  <thead>\n",
       "    <tr style=\"text-align: right;\">\n",
       "      <th></th>\n",
       "      <th>v1</th>\n",
       "      <th>v2</th>\n",
       "    </tr>\n",
       "  </thead>\n",
       "  <tbody>\n",
       "    <tr>\n",
       "      <th>0</th>\n",
       "      <td>ham</td>\n",
       "      <td>Go until jurong point, crazy.. Available only ...</td>\n",
       "    </tr>\n",
       "    <tr>\n",
       "      <th>1</th>\n",
       "      <td>ham</td>\n",
       "      <td>Ok lar... Joking wif u oni...</td>\n",
       "    </tr>\n",
       "    <tr>\n",
       "      <th>2</th>\n",
       "      <td>spam</td>\n",
       "      <td>Free entry in 2 a wkly comp to win FA Cup fina...</td>\n",
       "    </tr>\n",
       "    <tr>\n",
       "      <th>3</th>\n",
       "      <td>ham</td>\n",
       "      <td>U dun say so early hor... U c already then say...</td>\n",
       "    </tr>\n",
       "    <tr>\n",
       "      <th>4</th>\n",
       "      <td>ham</td>\n",
       "      <td>Nah I don't think he goes to usf, he lives aro...</td>\n",
       "    </tr>\n",
       "  </tbody>\n",
       "</table>\n",
       "</div>"
      ],
      "text/plain": [
       "     v1                                                 v2\n",
       "0   ham  Go until jurong point, crazy.. Available only ...\n",
       "1   ham                      Ok lar... Joking wif u oni...\n",
       "2  spam  Free entry in 2 a wkly comp to win FA Cup fina...\n",
       "3   ham  U dun say so early hor... U c already then say...\n",
       "4   ham  Nah I don't think he goes to usf, he lives aro..."
      ]
     },
     "execution_count": 5,
     "metadata": {},
     "output_type": "execute_result"
    }
   ],
   "source": [
    "df_sms.head()"
   ]
  },
  {
   "cell_type": "markdown",
   "metadata": {
    "papermill": {
     "duration": 0.0305,
     "end_time": "2020-11-25T04:42:31.947136",
     "exception": false,
     "start_time": "2020-11-25T04:42:31.916636",
     "status": "completed"
    },
    "tags": []
   },
   "source": [
    "Let's relabel the columns"
   ]
  },
  {
   "cell_type": "code",
   "execution_count": 6,
   "metadata": {
    "execution": {
     "iopub.execute_input": "2020-11-25T04:42:32.019937Z",
     "iopub.status.busy": "2020-11-25T04:42:32.018547Z",
     "iopub.status.idle": "2020-11-25T04:42:32.022630Z",
     "shell.execute_reply": "2020-11-25T04:42:32.021971Z"
    },
    "papermill": {
     "duration": 0.043014,
     "end_time": "2020-11-25T04:42:32.022769",
     "exception": false,
     "start_time": "2020-11-25T04:42:31.979755",
     "status": "completed"
    },
    "tags": []
   },
   "outputs": [],
   "source": [
    "df_sms.columns = ['label', 'message']"
   ]
  },
  {
   "cell_type": "code",
   "execution_count": 7,
   "metadata": {
    "execution": {
     "iopub.execute_input": "2020-11-25T04:42:32.098790Z",
     "iopub.status.busy": "2020-11-25T04:42:32.097644Z",
     "iopub.status.idle": "2020-11-25T04:42:32.102858Z",
     "shell.execute_reply": "2020-11-25T04:42:32.102095Z"
    },
    "papermill": {
     "duration": 0.047579,
     "end_time": "2020-11-25T04:42:32.102987",
     "exception": false,
     "start_time": "2020-11-25T04:42:32.055408",
     "status": "completed"
    },
    "tags": []
   },
   "outputs": [
    {
     "data": {
      "text/html": [
       "<div>\n",
       "<style scoped>\n",
       "    .dataframe tbody tr th:only-of-type {\n",
       "        vertical-align: middle;\n",
       "    }\n",
       "\n",
       "    .dataframe tbody tr th {\n",
       "        vertical-align: top;\n",
       "    }\n",
       "\n",
       "    .dataframe thead th {\n",
       "        text-align: right;\n",
       "    }\n",
       "</style>\n",
       "<table border=\"1\" class=\"dataframe\">\n",
       "  <thead>\n",
       "    <tr style=\"text-align: right;\">\n",
       "      <th></th>\n",
       "      <th>label</th>\n",
       "      <th>message</th>\n",
       "    </tr>\n",
       "  </thead>\n",
       "  <tbody>\n",
       "    <tr>\n",
       "      <th>0</th>\n",
       "      <td>ham</td>\n",
       "      <td>Go until jurong point, crazy.. Available only ...</td>\n",
       "    </tr>\n",
       "    <tr>\n",
       "      <th>1</th>\n",
       "      <td>ham</td>\n",
       "      <td>Ok lar... Joking wif u oni...</td>\n",
       "    </tr>\n",
       "    <tr>\n",
       "      <th>2</th>\n",
       "      <td>spam</td>\n",
       "      <td>Free entry in 2 a wkly comp to win FA Cup fina...</td>\n",
       "    </tr>\n",
       "    <tr>\n",
       "      <th>3</th>\n",
       "      <td>ham</td>\n",
       "      <td>U dun say so early hor... U c already then say...</td>\n",
       "    </tr>\n",
       "    <tr>\n",
       "      <th>4</th>\n",
       "      <td>ham</td>\n",
       "      <td>Nah I don't think he goes to usf, he lives aro...</td>\n",
       "    </tr>\n",
       "  </tbody>\n",
       "</table>\n",
       "</div>"
      ],
      "text/plain": [
       "  label                                            message\n",
       "0   ham  Go until jurong point, crazy.. Available only ...\n",
       "1   ham                      Ok lar... Joking wif u oni...\n",
       "2  spam  Free entry in 2 a wkly comp to win FA Cup fina...\n",
       "3   ham  U dun say so early hor... U c already then say...\n",
       "4   ham  Nah I don't think he goes to usf, he lives aro..."
      ]
     },
     "execution_count": 7,
     "metadata": {},
     "output_type": "execute_result"
    }
   ],
   "source": [
    "df_sms.head()"
   ]
  },
  {
   "cell_type": "markdown",
   "metadata": {
    "papermill": {
     "duration": 0.037319,
     "end_time": "2020-11-25T04:42:32.173804",
     "exception": false,
     "start_time": "2020-11-25T04:42:32.136485",
     "status": "completed"
    },
    "tags": []
   },
   "source": [
    "Let's find out how many items labeled \"spam\" there are and use describe to get some more info like which sms message is the top spam message"
   ]
  },
  {
   "cell_type": "code",
   "execution_count": 8,
   "metadata": {
    "execution": {
     "iopub.execute_input": "2020-11-25T04:42:32.249481Z",
     "iopub.status.busy": "2020-11-25T04:42:32.247918Z",
     "iopub.status.idle": "2020-11-25T04:42:32.316933Z",
     "shell.execute_reply": "2020-11-25T04:42:32.317519Z"
    },
    "papermill": {
     "duration": 0.111762,
     "end_time": "2020-11-25T04:42:32.317685",
     "exception": false,
     "start_time": "2020-11-25T04:42:32.205923",
     "status": "completed"
    },
    "tags": []
   },
   "outputs": [
    {
     "data": {
      "text/html": [
       "<div>\n",
       "<style scoped>\n",
       "    .dataframe tbody tr th:only-of-type {\n",
       "        vertical-align: middle;\n",
       "    }\n",
       "\n",
       "    .dataframe tbody tr th {\n",
       "        vertical-align: top;\n",
       "    }\n",
       "\n",
       "    .dataframe thead tr th {\n",
       "        text-align: left;\n",
       "    }\n",
       "\n",
       "    .dataframe thead tr:last-of-type th {\n",
       "        text-align: right;\n",
       "    }\n",
       "</style>\n",
       "<table border=\"1\" class=\"dataframe\">\n",
       "  <thead>\n",
       "    <tr>\n",
       "      <th></th>\n",
       "      <th colspan=\"4\" halign=\"left\">message</th>\n",
       "    </tr>\n",
       "    <tr>\n",
       "      <th></th>\n",
       "      <th>count</th>\n",
       "      <th>unique</th>\n",
       "      <th>top</th>\n",
       "      <th>freq</th>\n",
       "    </tr>\n",
       "    <tr>\n",
       "      <th>label</th>\n",
       "      <th></th>\n",
       "      <th></th>\n",
       "      <th></th>\n",
       "      <th></th>\n",
       "    </tr>\n",
       "  </thead>\n",
       "  <tbody>\n",
       "    <tr>\n",
       "      <th>ham</th>\n",
       "      <td>4825</td>\n",
       "      <td>4516</td>\n",
       "      <td>Sorry, I'll call later</td>\n",
       "      <td>30</td>\n",
       "    </tr>\n",
       "    <tr>\n",
       "      <th>spam</th>\n",
       "      <td>747</td>\n",
       "      <td>653</td>\n",
       "      <td>Please call our customer service representativ...</td>\n",
       "      <td>4</td>\n",
       "    </tr>\n",
       "  </tbody>\n",
       "</table>\n",
       "</div>"
      ],
      "text/plain": [
       "      message                                                               \n",
       "        count unique                                                top freq\n",
       "label                                                                       \n",
       "ham      4825   4516                             Sorry, I'll call later   30\n",
       "spam      747    653  Please call our customer service representativ...    4"
      ]
     },
     "execution_count": 8,
     "metadata": {},
     "output_type": "execute_result"
    }
   ],
   "source": [
    "df_sms.groupby('label').describe()"
   ]
  },
  {
   "cell_type": "markdown",
   "metadata": {
    "papermill": {
     "duration": 0.032271,
     "end_time": "2020-11-25T04:42:32.382399",
     "exception": false,
     "start_time": "2020-11-25T04:42:32.350128",
     "status": "completed"
    },
    "tags": []
   },
   "source": [
    "Let's find out the length of these messages and place the value of length into a new column"
   ]
  },
  {
   "cell_type": "code",
   "execution_count": 9,
   "metadata": {
    "execution": {
     "iopub.execute_input": "2020-11-25T04:42:32.459525Z",
     "iopub.status.busy": "2020-11-25T04:42:32.458515Z",
     "iopub.status.idle": "2020-11-25T04:42:32.463471Z",
     "shell.execute_reply": "2020-11-25T04:42:32.462407Z"
    },
    "papermill": {
     "duration": 0.048658,
     "end_time": "2020-11-25T04:42:32.463650",
     "exception": false,
     "start_time": "2020-11-25T04:42:32.414992",
     "status": "completed"
    },
    "tags": []
   },
   "outputs": [
    {
     "name": "stderr",
     "output_type": "stream",
     "text": [
      "/opt/conda/lib/python3.7/site-packages/ipykernel_launcher.py:1: SettingWithCopyWarning: \n",
      "A value is trying to be set on a copy of a slice from a DataFrame.\n",
      "Try using .loc[row_indexer,col_indexer] = value instead\n",
      "\n",
      "See the caveats in the documentation: https://pandas.pydata.org/pandas-docs/stable/user_guide/indexing.html#returning-a-view-versus-a-copy\n",
      "  \"\"\"Entry point for launching an IPython kernel.\n"
     ]
    }
   ],
   "source": [
    "df_sms['length'] = df_sms.message.apply(len)"
   ]
  },
  {
   "cell_type": "markdown",
   "metadata": {
    "papermill": {
     "duration": 0.032768,
     "end_time": "2020-11-25T04:42:32.530408",
     "exception": false,
     "start_time": "2020-11-25T04:42:32.497640",
     "status": "completed"
    },
    "tags": []
   },
   "source": [
    "Let's feature engineer the \"spam\" \"ham\" label and make it binary but converting them to 1 , 0 into a new column."
   ]
  },
  {
   "cell_type": "code",
   "execution_count": 10,
   "metadata": {
    "execution": {
     "iopub.execute_input": "2020-11-25T04:42:32.610309Z",
     "iopub.status.busy": "2020-11-25T04:42:32.609379Z",
     "iopub.status.idle": "2020-11-25T04:42:32.614879Z",
     "shell.execute_reply": "2020-11-25T04:42:32.613380Z"
    },
    "papermill": {
     "duration": 0.048915,
     "end_time": "2020-11-25T04:42:32.615014",
     "exception": false,
     "start_time": "2020-11-25T04:42:32.566099",
     "status": "completed"
    },
    "tags": []
   },
   "outputs": [
    {
     "name": "stderr",
     "output_type": "stream",
     "text": [
      "/opt/conda/lib/python3.7/site-packages/ipykernel_launcher.py:1: SettingWithCopyWarning: \n",
      "A value is trying to be set on a copy of a slice from a DataFrame.\n",
      "Try using .loc[row_indexer,col_indexer] = value instead\n",
      "\n",
      "See the caveats in the documentation: https://pandas.pydata.org/pandas-docs/stable/user_guide/indexing.html#returning-a-view-versus-a-copy\n",
      "  \"\"\"Entry point for launching an IPython kernel.\n"
     ]
    }
   ],
   "source": [
    "df_sms['label_num'] = df_sms.label.map({'ham':0, 'spam':1})"
   ]
  },
  {
   "cell_type": "code",
   "execution_count": 11,
   "metadata": {
    "execution": {
     "iopub.execute_input": "2020-11-25T04:42:32.695189Z",
     "iopub.status.busy": "2020-11-25T04:42:32.694271Z",
     "iopub.status.idle": "2020-11-25T04:42:32.700430Z",
     "shell.execute_reply": "2020-11-25T04:42:32.699676Z"
    },
    "papermill": {
     "duration": 0.05166,
     "end_time": "2020-11-25T04:42:32.700552",
     "exception": false,
     "start_time": "2020-11-25T04:42:32.648892",
     "status": "completed"
    },
    "tags": []
   },
   "outputs": [
    {
     "data": {
      "text/html": [
       "<div>\n",
       "<style scoped>\n",
       "    .dataframe tbody tr th:only-of-type {\n",
       "        vertical-align: middle;\n",
       "    }\n",
       "\n",
       "    .dataframe tbody tr th {\n",
       "        vertical-align: top;\n",
       "    }\n",
       "\n",
       "    .dataframe thead th {\n",
       "        text-align: right;\n",
       "    }\n",
       "</style>\n",
       "<table border=\"1\" class=\"dataframe\">\n",
       "  <thead>\n",
       "    <tr style=\"text-align: right;\">\n",
       "      <th></th>\n",
       "      <th>label</th>\n",
       "      <th>message</th>\n",
       "      <th>length</th>\n",
       "      <th>label_num</th>\n",
       "    </tr>\n",
       "  </thead>\n",
       "  <tbody>\n",
       "    <tr>\n",
       "      <th>0</th>\n",
       "      <td>ham</td>\n",
       "      <td>Go until jurong point, crazy.. Available only ...</td>\n",
       "      <td>111</td>\n",
       "      <td>0</td>\n",
       "    </tr>\n",
       "    <tr>\n",
       "      <th>1</th>\n",
       "      <td>ham</td>\n",
       "      <td>Ok lar... Joking wif u oni...</td>\n",
       "      <td>29</td>\n",
       "      <td>0</td>\n",
       "    </tr>\n",
       "    <tr>\n",
       "      <th>2</th>\n",
       "      <td>spam</td>\n",
       "      <td>Free entry in 2 a wkly comp to win FA Cup fina...</td>\n",
       "      <td>155</td>\n",
       "      <td>1</td>\n",
       "    </tr>\n",
       "    <tr>\n",
       "      <th>3</th>\n",
       "      <td>ham</td>\n",
       "      <td>U dun say so early hor... U c already then say...</td>\n",
       "      <td>49</td>\n",
       "      <td>0</td>\n",
       "    </tr>\n",
       "    <tr>\n",
       "      <th>4</th>\n",
       "      <td>ham</td>\n",
       "      <td>Nah I don't think he goes to usf, he lives aro...</td>\n",
       "      <td>61</td>\n",
       "      <td>0</td>\n",
       "    </tr>\n",
       "  </tbody>\n",
       "</table>\n",
       "</div>"
      ],
      "text/plain": [
       "  label                                            message  length  label_num\n",
       "0   ham  Go until jurong point, crazy.. Available only ...     111          0\n",
       "1   ham                      Ok lar... Joking wif u oni...      29          0\n",
       "2  spam  Free entry in 2 a wkly comp to win FA Cup fina...     155          1\n",
       "3   ham  U dun say so early hor... U c already then say...      49          0\n",
       "4   ham  Nah I don't think he goes to usf, he lives aro...      61          0"
      ]
     },
     "execution_count": 11,
     "metadata": {},
     "output_type": "execute_result"
    }
   ],
   "source": [
    "df_sms.head()"
   ]
  },
  {
   "cell_type": "markdown",
   "metadata": {
    "papermill": {
     "duration": 0.034694,
     "end_time": "2020-11-25T04:42:32.770001",
     "exception": false,
     "start_time": "2020-11-25T04:42:32.735307",
     "status": "completed"
    },
    "tags": []
   },
   "source": [
    "Let's set up a text processor function that uses 'stopwords' module and will remove puncuation and any extra stopwords we define"
   ]
  },
  {
   "cell_type": "code",
   "execution_count": 12,
   "metadata": {
    "execution": {
     "iopub.execute_input": "2020-11-25T04:42:32.848853Z",
     "iopub.status.busy": "2020-11-25T04:42:32.847958Z",
     "iopub.status.idle": "2020-11-25T04:42:32.851850Z",
     "shell.execute_reply": "2020-11-25T04:42:32.851174Z"
    },
    "papermill": {
     "duration": 0.047254,
     "end_time": "2020-11-25T04:42:32.851975",
     "exception": false,
     "start_time": "2020-11-25T04:42:32.804721",
     "status": "completed"
    },
    "tags": []
   },
   "outputs": [],
   "source": [
    "def sms_text_process(mess):\n",
    "    STOPWORDS = stopwords.words('english') + ['u', 'ü', 'ur', '4', '2', 'im', 'dont', 'doin', 'ure']\n",
    "    nopunc = [char for char in mess if char not in string.punctuation]\n",
    "    nopunc = ''.join(nopunc)\n",
    "    return ' '.join([word for word in nopunc.split() if word.lower() not in STOPWORDS])"
   ]
  },
  {
   "cell_type": "markdown",
   "metadata": {
    "papermill": {
     "duration": 0.035077,
     "end_time": "2020-11-25T04:42:32.922190",
     "exception": false,
     "start_time": "2020-11-25T04:42:32.887113",
     "status": "completed"
    },
    "tags": []
   },
   "source": [
    "We can view the result by applying it just to the first few rows"
   ]
  },
  {
   "cell_type": "code",
   "execution_count": 13,
   "metadata": {
    "execution": {
     "iopub.execute_input": "2020-11-25T04:42:33.004232Z",
     "iopub.status.busy": "2020-11-25T04:42:33.003251Z",
     "iopub.status.idle": "2020-11-25T04:42:33.021601Z",
     "shell.execute_reply": "2020-11-25T04:42:33.020764Z"
    },
    "papermill": {
     "duration": 0.062912,
     "end_time": "2020-11-25T04:42:33.021744",
     "exception": false,
     "start_time": "2020-11-25T04:42:32.958832",
     "status": "completed"
    },
    "tags": []
   },
   "outputs": [
    {
     "data": {
      "text/plain": [
       "0    Go jurong point crazy Available bugis n great ...\n",
       "1                                Ok lar Joking wif oni\n",
       "2    Free entry wkly comp win FA Cup final tkts 21s...\n",
       "3                      dun say early hor c already say\n",
       "4               Nah think goes usf lives around though\n",
       "Name: message, dtype: object"
      ]
     },
     "execution_count": 13,
     "metadata": {},
     "output_type": "execute_result"
    }
   ],
   "source": [
    "df_sms['message'].head(5).apply(sms_text_process)"
   ]
  },
  {
   "cell_type": "markdown",
   "metadata": {
    "papermill": {
     "duration": 0.035358,
     "end_time": "2020-11-25T04:42:33.093745",
     "exception": false,
     "start_time": "2020-11-25T04:42:33.058387",
     "status": "completed"
    },
    "tags": []
   },
   "source": [
    "Let's apply the processor to all the messages and create a new column with the new clean output"
   ]
  },
  {
   "cell_type": "code",
   "execution_count": 14,
   "metadata": {
    "execution": {
     "iopub.execute_input": "2020-11-25T04:42:33.174002Z",
     "iopub.status.busy": "2020-11-25T04:42:33.172869Z",
     "iopub.status.idle": "2020-11-25T04:42:34.486870Z",
     "shell.execute_reply": "2020-11-25T04:42:34.486122Z"
    },
    "papermill": {
     "duration": 1.355654,
     "end_time": "2020-11-25T04:42:34.487014",
     "exception": false,
     "start_time": "2020-11-25T04:42:33.131360",
     "status": "completed"
    },
    "tags": []
   },
   "outputs": [],
   "source": [
    "df_sms['message_clean'] = df_sms['message'].apply(sms_text_process)"
   ]
  },
  {
   "cell_type": "code",
   "execution_count": 15,
   "metadata": {
    "execution": {
     "iopub.execute_input": "2020-11-25T04:42:34.574874Z",
     "iopub.status.busy": "2020-11-25T04:42:34.573436Z",
     "iopub.status.idle": "2020-11-25T04:42:34.578233Z",
     "shell.execute_reply": "2020-11-25T04:42:34.578851Z"
    },
    "papermill": {
     "duration": 0.055964,
     "end_time": "2020-11-25T04:42:34.579025",
     "exception": false,
     "start_time": "2020-11-25T04:42:34.523061",
     "status": "completed"
    },
    "tags": []
   },
   "outputs": [
    {
     "data": {
      "text/html": [
       "<div>\n",
       "<style scoped>\n",
       "    .dataframe tbody tr th:only-of-type {\n",
       "        vertical-align: middle;\n",
       "    }\n",
       "\n",
       "    .dataframe tbody tr th {\n",
       "        vertical-align: top;\n",
       "    }\n",
       "\n",
       "    .dataframe thead th {\n",
       "        text-align: right;\n",
       "    }\n",
       "</style>\n",
       "<table border=\"1\" class=\"dataframe\">\n",
       "  <thead>\n",
       "    <tr style=\"text-align: right;\">\n",
       "      <th></th>\n",
       "      <th>label</th>\n",
       "      <th>message</th>\n",
       "      <th>length</th>\n",
       "      <th>label_num</th>\n",
       "      <th>message_clean</th>\n",
       "    </tr>\n",
       "  </thead>\n",
       "  <tbody>\n",
       "    <tr>\n",
       "      <th>0</th>\n",
       "      <td>ham</td>\n",
       "      <td>Go until jurong point, crazy.. Available only ...</td>\n",
       "      <td>111</td>\n",
       "      <td>0</td>\n",
       "      <td>Go jurong point crazy Available bugis n great ...</td>\n",
       "    </tr>\n",
       "    <tr>\n",
       "      <th>1</th>\n",
       "      <td>ham</td>\n",
       "      <td>Ok lar... Joking wif u oni...</td>\n",
       "      <td>29</td>\n",
       "      <td>0</td>\n",
       "      <td>Ok lar Joking wif oni</td>\n",
       "    </tr>\n",
       "    <tr>\n",
       "      <th>2</th>\n",
       "      <td>spam</td>\n",
       "      <td>Free entry in 2 a wkly comp to win FA Cup fina...</td>\n",
       "      <td>155</td>\n",
       "      <td>1</td>\n",
       "      <td>Free entry wkly comp win FA Cup final tkts 21s...</td>\n",
       "    </tr>\n",
       "    <tr>\n",
       "      <th>3</th>\n",
       "      <td>ham</td>\n",
       "      <td>U dun say so early hor... U c already then say...</td>\n",
       "      <td>49</td>\n",
       "      <td>0</td>\n",
       "      <td>dun say early hor c already say</td>\n",
       "    </tr>\n",
       "    <tr>\n",
       "      <th>4</th>\n",
       "      <td>ham</td>\n",
       "      <td>Nah I don't think he goes to usf, he lives aro...</td>\n",
       "      <td>61</td>\n",
       "      <td>0</td>\n",
       "      <td>Nah think goes usf lives around though</td>\n",
       "    </tr>\n",
       "  </tbody>\n",
       "</table>\n",
       "</div>"
      ],
      "text/plain": [
       "  label                                            message  length  label_num  \\\n",
       "0   ham  Go until jurong point, crazy.. Available only ...     111          0   \n",
       "1   ham                      Ok lar... Joking wif u oni...      29          0   \n",
       "2  spam  Free entry in 2 a wkly comp to win FA Cup fina...     155          1   \n",
       "3   ham  U dun say so early hor... U c already then say...      49          0   \n",
       "4   ham  Nah I don't think he goes to usf, he lives aro...      61          0   \n",
       "\n",
       "                                       message_clean  \n",
       "0  Go jurong point crazy Available bugis n great ...  \n",
       "1                              Ok lar Joking wif oni  \n",
       "2  Free entry wkly comp win FA Cup final tkts 21s...  \n",
       "3                    dun say early hor c already say  \n",
       "4             Nah think goes usf lives around though  "
      ]
     },
     "execution_count": 15,
     "metadata": {},
     "output_type": "execute_result"
    }
   ],
   "source": [
    "df_sms.head()"
   ]
  },
  {
   "cell_type": "markdown",
   "metadata": {
    "papermill": {
     "duration": 0.036923,
     "end_time": "2020-11-25T04:42:34.652904",
     "exception": false,
     "start_time": "2020-11-25T04:42:34.615981",
     "status": "completed"
    },
    "tags": []
   },
   "source": [
    "In order to do predictive modeling, we must remove the context of the messages and agree that the context simply doesn't matter.\n",
    "\n",
    "We don't necessarily care what the message is about, rather we need to determine a way to analyze the words and phrases in it.\n",
    "\n",
    "We need to break down the sms messages into some form of numerical representation that the computer can ingest and analyze.\n",
    "\n",
    "In NLP this is called tokenization whereby we count the number of times a word appears, no matter where it appears in a message.  Each new word gets a new token.  If a message has the same token structure, it's very likely it is a repeat, and therefore we can begin pattern recognition on that structure and determine if it is spam.\n",
    "\n",
    "CountVectorizer helps us break down text content into a tokenized structure."
   ]
  },
  {
   "cell_type": "code",
   "execution_count": 16,
   "metadata": {
    "execution": {
     "iopub.execute_input": "2020-11-25T04:42:34.733343Z",
     "iopub.status.busy": "2020-11-25T04:42:34.732517Z",
     "iopub.status.idle": "2020-11-25T04:42:34.735723Z",
     "shell.execute_reply": "2020-11-25T04:42:34.734955Z"
    },
    "papermill": {
     "duration": 0.046605,
     "end_time": "2020-11-25T04:42:34.735850",
     "exception": false,
     "start_time": "2020-11-25T04:42:34.689245",
     "status": "completed"
    },
    "tags": []
   },
   "outputs": [],
   "source": [
    "from sklearn.feature_extraction.text import CountVectorizer"
   ]
  },
  {
   "cell_type": "markdown",
   "metadata": {
    "papermill": {
     "duration": 0.036536,
     "end_time": "2020-11-25T04:42:34.809252",
     "exception": false,
     "start_time": "2020-11-25T04:42:34.772716",
     "status": "completed"
    },
    "tags": []
   },
   "source": [
    "Bag of Words is a name for the process (not the name of a module) that takes the content of each message and breaks down the words into numerical counts.  You lose context of the message and essentially now you have a bag of words and not a real sentence. \n",
    "\n",
    "We will apply this process to the clean messages."
   ]
  },
  {
   "cell_type": "code",
   "execution_count": 17,
   "metadata": {
    "execution": {
     "iopub.execute_input": "2020-11-25T04:42:34.890287Z",
     "iopub.status.busy": "2020-11-25T04:42:34.888689Z",
     "iopub.status.idle": "2020-11-25T04:42:36.212480Z",
     "shell.execute_reply": "2020-11-25T04:42:36.211648Z"
    },
    "papermill": {
     "duration": 1.366516,
     "end_time": "2020-11-25T04:42:36.212621",
     "exception": false,
     "start_time": "2020-11-25T04:42:34.846105",
     "status": "completed"
    },
    "tags": []
   },
   "outputs": [],
   "source": [
    "bag_of_words = CountVectorizer(analyzer=sms_text_process).fit(df_sms['message_clean'])"
   ]
  },
  {
   "cell_type": "code",
   "execution_count": 18,
   "metadata": {
    "execution": {
     "iopub.execute_input": "2020-11-25T04:42:36.294345Z",
     "iopub.status.busy": "2020-11-25T04:42:36.293449Z",
     "iopub.status.idle": "2020-11-25T04:42:36.297053Z",
     "shell.execute_reply": "2020-11-25T04:42:36.297899Z"
    },
    "papermill": {
     "duration": 0.047844,
     "end_time": "2020-11-25T04:42:36.298094",
     "exception": false,
     "start_time": "2020-11-25T04:42:36.250250",
     "status": "completed"
    },
    "tags": []
   },
   "outputs": [
    {
     "name": "stdout",
     "output_type": "stream",
     "text": [
      "[' ', '0', '1', '2', '3', '4', '5', '6', '7', '8', '9', 'A', 'B', 'C', 'D', 'E', 'F', 'G', 'H', 'I', 'J', 'K', 'L', 'M', 'N', 'O', 'P', 'Q', 'R', 'S', 'T', 'U', 'V', 'W', 'X', 'Y', 'Z', 'a', 'b', 'c', 'd', 'e', 'f', 'g', 'h', 'i', 'j', 'k', 'l', 'm', 'n', 'o', 'p', 'q', 'r', 's', 't', 'u', 'v', 'w', 'x', 'y', 'z', '\\x89', '\\x8b', '\\x8e', '£', '©', 'ª', '¬', '´', '¼', 'Á', 'Â', 'È', 'Ì', 'Ï', 'Ð', 'Ò', 'Ó', 'Ô', 'Õ', 'Û', 'ä', 'å', 'ö', '÷']\n"
     ]
    }
   ],
   "source": [
    "print(bag_of_words.get_feature_names())"
   ]
  },
  {
   "cell_type": "code",
   "execution_count": 19,
   "metadata": {
    "execution": {
     "iopub.execute_input": "2020-11-25T04:42:36.379738Z",
     "iopub.status.busy": "2020-11-25T04:42:36.378732Z",
     "iopub.status.idle": "2020-11-25T04:42:36.383057Z",
     "shell.execute_reply": "2020-11-25T04:42:36.382310Z"
    },
    "papermill": {
     "duration": 0.047111,
     "end_time": "2020-11-25T04:42:36.383185",
     "exception": false,
     "start_time": "2020-11-25T04:42:36.336074",
     "status": "completed"
    },
    "tags": []
   },
   "outputs": [
    {
     "name": "stdout",
     "output_type": "stream",
     "text": [
      "87\n"
     ]
    }
   ],
   "source": [
    "print(len(bag_of_words.vocabulary_))"
   ]
  },
  {
   "cell_type": "code",
   "execution_count": 20,
   "metadata": {
    "execution": {
     "iopub.execute_input": "2020-11-25T04:42:36.467946Z",
     "iopub.status.busy": "2020-11-25T04:42:36.466912Z",
     "iopub.status.idle": "2020-11-25T04:42:36.470569Z",
     "shell.execute_reply": "2020-11-25T04:42:36.471147Z"
    },
    "papermill": {
     "duration": 0.049352,
     "end_time": "2020-11-25T04:42:36.471333",
     "exception": false,
     "start_time": "2020-11-25T04:42:36.421981",
     "status": "completed"
    },
    "tags": []
   },
   "outputs": [
    {
     "name": "stdout",
     "output_type": "stream",
     "text": [
      "{'G': 17, 'o': 51, ' ': 0, 'j': 46, 'u': 57, 'r': 54, 'n': 50, 'g': 43, 'p': 52, 'i': 45, 't': 56, 'c': 39, 'a': 37, 'z': 62, 'y': 61, 'A': 11, 'v': 58, 'l': 48, 'b': 38, 'e': 41, 's': 55, 'w': 59, 'd': 40, 'f': 42, 'C': 13, 'm': 49, 'O': 25, 'k': 47, 'J': 20, 'F': 16, '2': 3, '1': 2, 'M': 23, '0': 1, '5': 6, 'T': 30, 'x': 60, '8': 9, '7': 8, 'q': 53, '4': 5, 'h': 44, 'N': 24, 'H': 18, '3': 4, 'I': 19, 'X': 34, 'å': 84, '£': 66, 'E': 15, 'V': 32, 'P': 26, '9': 10, 'W': 33, 'R': 28, '6': 7, 'K': 21, 'L': 22, 'U': 31, 'S': 29, 'D': 14, 'B': 12, 'Y': 35, 'Q': 27, 'Õ': 81, 'Ì': 75, '¼': 71, '\\x89': 63, 'Û': 82, '÷': 86, 'Ï': 76, 'Z': 36, 'Ò': 78, '¬': 69, 'Ó': 79, 'Ô': 80, 'ª': 68, 'Ð': 77, 'È': 74, '©': 67, 'ä': 83, 'Â': 73, '\\x8e': 65, 'ö': 85, '´': 70, '\\x8b': 64, 'Á': 72}\n"
     ]
    }
   ],
   "source": [
    "print(bag_of_words.vocabulary_)"
   ]
  },
  {
   "cell_type": "markdown",
   "metadata": {
    "papermill": {
     "duration": 0.03843,
     "end_time": "2020-11-25T04:42:36.548170",
     "exception": false,
     "start_time": "2020-11-25T04:42:36.509740",
     "status": "completed"
    },
    "tags": []
   },
   "source": [
    "message_bagofwords = bag_of_words.transform(df_sms['message_clean'])"
   ]
  },
  {
   "cell_type": "code",
   "execution_count": 21,
   "metadata": {
    "execution": {
     "iopub.execute_input": "2020-11-25T04:42:36.632863Z",
     "iopub.status.busy": "2020-11-25T04:42:36.632042Z",
     "iopub.status.idle": "2020-11-25T04:42:36.744531Z",
     "shell.execute_reply": "2020-11-25T04:42:36.743726Z"
    },
    "papermill": {
     "duration": 0.157369,
     "end_time": "2020-11-25T04:42:36.744669",
     "exception": false,
     "start_time": "2020-11-25T04:42:36.587300",
     "status": "completed"
    },
    "tags": []
   },
   "outputs": [
    {
     "ename": "NameError",
     "evalue": "name 'message_bagofwords' is not defined",
     "output_type": "error",
     "traceback": [
      "\u001b[0;31m---------------------------------------------------------------------------\u001b[0m",
      "\u001b[0;31mNameError\u001b[0m                                 Traceback (most recent call last)",
      "\u001b[0;32m<ipython-input-21-161dad7a6282>\u001b[0m in \u001b[0;36m<module>\u001b[0;34m\u001b[0m\n\u001b[1;32m      1\u001b[0m \u001b[0;32mfrom\u001b[0m \u001b[0msklearn\u001b[0m\u001b[0;34m.\u001b[0m\u001b[0mfeature_extraction\u001b[0m\u001b[0;34m.\u001b[0m\u001b[0mtext\u001b[0m \u001b[0;32mimport\u001b[0m \u001b[0mTfidfTransformer\u001b[0m\u001b[0;34m\u001b[0m\u001b[0;34m\u001b[0m\u001b[0m\n\u001b[0;32m----> 2\u001b[0;31m \u001b[0mtfidf_trans\u001b[0m \u001b[0;34m=\u001b[0m \u001b[0mTfidfTransformer\u001b[0m\u001b[0;34m(\u001b[0m\u001b[0;34m)\u001b[0m\u001b[0;34m.\u001b[0m\u001b[0mfit\u001b[0m\u001b[0;34m(\u001b[0m\u001b[0mmessage_bagofwords\u001b[0m\u001b[0;34m)\u001b[0m\u001b[0;34m\u001b[0m\u001b[0;34m\u001b[0m\u001b[0m\n\u001b[0m",
      "\u001b[0;31mNameError\u001b[0m: name 'message_bagofwords' is not defined"
     ]
    }
   ],
   "source": [
    "from sklearn.feature_extraction.text import TfidfTransformer\n",
    "tfidf_trans = TfidfTransformer().fit(message_bagofwords)"
   ]
  },
  {
   "cell_type": "code",
   "execution_count": 22,
   "metadata": {
    "execution": {
     "iopub.execute_input": "2020-11-25T04:42:36.842569Z",
     "iopub.status.busy": "2020-11-25T04:42:36.835239Z",
     "iopub.status.idle": "2020-11-25T04:42:36.847975Z",
     "shell.execute_reply": "2020-11-25T04:42:36.847190Z"
    },
    "papermill": {
     "duration": 0.063149,
     "end_time": "2020-11-25T04:42:36.848100",
     "exception": false,
     "start_time": "2020-11-25T04:42:36.784951",
     "status": "completed"
    },
    "tags": []
   },
   "outputs": [
    {
     "ename": "NameError",
     "evalue": "name 'tfidf_trans' is not defined",
     "output_type": "error",
     "traceback": [
      "\u001b[0;31m---------------------------------------------------------------------------\u001b[0m",
      "\u001b[0;31mNameError\u001b[0m                                 Traceback (most recent call last)",
      "\u001b[0;32m<ipython-input-22-55ff853886d1>\u001b[0m in \u001b[0;36m<module>\u001b[0;34m\u001b[0m\n\u001b[0;32m----> 1\u001b[0;31m \u001b[0mmessage_tfidf\u001b[0m \u001b[0;34m=\u001b[0m \u001b[0mtfidf_trans\u001b[0m\u001b[0;34m.\u001b[0m\u001b[0mtransform\u001b[0m\u001b[0;34m(\u001b[0m\u001b[0mmessage_bagofwords\u001b[0m\u001b[0;34m)\u001b[0m\u001b[0;34m\u001b[0m\u001b[0;34m\u001b[0m\u001b[0m\n\u001b[0m\u001b[1;32m      2\u001b[0m \u001b[0mprint\u001b[0m\u001b[0;34m(\u001b[0m\u001b[0mmessage_tfidf\u001b[0m\u001b[0;34m.\u001b[0m\u001b[0mshape\u001b[0m\u001b[0;34m)\u001b[0m\u001b[0;34m\u001b[0m\u001b[0;34m\u001b[0m\u001b[0m\n",
      "\u001b[0;31mNameError\u001b[0m: name 'tfidf_trans' is not defined"
     ]
    }
   ],
   "source": [
    "message_tfidf = tfidf_trans.transform(message_bagofwords)\n",
    "print(message_tfidf.shape)"
   ]
  },
  {
   "cell_type": "code",
   "execution_count": 23,
   "metadata": {
    "execution": {
     "iopub.execute_input": "2020-11-25T04:42:36.934886Z",
     "iopub.status.busy": "2020-11-25T04:42:36.933847Z",
     "iopub.status.idle": "2020-11-25T04:42:36.954884Z",
     "shell.execute_reply": "2020-11-25T04:42:36.955502Z"
    },
    "papermill": {
     "duration": 0.067645,
     "end_time": "2020-11-25T04:42:36.955669",
     "exception": false,
     "start_time": "2020-11-25T04:42:36.888024",
     "status": "completed"
    },
    "tags": []
   },
   "outputs": [
    {
     "ename": "NameError",
     "evalue": "name 'message_tfidf' is not defined",
     "output_type": "error",
     "traceback": [
      "\u001b[0;31m---------------------------------------------------------------------------\u001b[0m",
      "\u001b[0;31mNameError\u001b[0m                                 Traceback (most recent call last)",
      "\u001b[0;32m<ipython-input-23-59359f351a08>\u001b[0m in \u001b[0;36m<module>\u001b[0;34m\u001b[0m\n\u001b[1;32m      1\u001b[0m \u001b[0;32mfrom\u001b[0m \u001b[0msklearn\u001b[0m\u001b[0;34m.\u001b[0m\u001b[0mnaive_bayes\u001b[0m \u001b[0;32mimport\u001b[0m \u001b[0mMultinomialNB\u001b[0m\u001b[0;34m\u001b[0m\u001b[0;34m\u001b[0m\u001b[0m\n\u001b[0;32m----> 2\u001b[0;31m \u001b[0mspam_detect_model\u001b[0m \u001b[0;34m=\u001b[0m \u001b[0mMultinomialNB\u001b[0m\u001b[0;34m(\u001b[0m\u001b[0;34m)\u001b[0m\u001b[0;34m.\u001b[0m\u001b[0mfit\u001b[0m\u001b[0;34m(\u001b[0m\u001b[0mmessage_tfidf\u001b[0m\u001b[0;34m,\u001b[0m\u001b[0mdf_sms\u001b[0m\u001b[0;34m[\u001b[0m\u001b[0;34m'label'\u001b[0m\u001b[0;34m]\u001b[0m\u001b[0;34m)\u001b[0m\u001b[0;34m\u001b[0m\u001b[0;34m\u001b[0m\u001b[0m\n\u001b[0m",
      "\u001b[0;31mNameError\u001b[0m: name 'message_tfidf' is not defined"
     ]
    }
   ],
   "source": [
    "from sklearn.naive_bayes import MultinomialNB\n",
    "spam_detect_model = MultinomialNB().fit(message_tfidf,df_sms['label'])"
   ]
  },
  {
   "cell_type": "code",
   "execution_count": 24,
   "metadata": {
    "execution": {
     "iopub.execute_input": "2020-11-25T04:42:37.047479Z",
     "iopub.status.busy": "2020-11-25T04:42:37.046569Z",
     "iopub.status.idle": "2020-11-25T04:42:37.050084Z",
     "shell.execute_reply": "2020-11-25T04:42:37.051036Z"
    },
    "papermill": {
     "duration": 0.052653,
     "end_time": "2020-11-25T04:42:37.051239",
     "exception": false,
     "start_time": "2020-11-25T04:42:36.998586",
     "status": "completed"
    },
    "tags": []
   },
   "outputs": [
    {
     "name": "stdout",
     "output_type": "stream",
     "text": [
      "Nah think goes usf lives around though\n"
     ]
    }
   ],
   "source": [
    "message = df_sms['message_clean'][4]\n",
    "print(message)"
   ]
  },
  {
   "cell_type": "code",
   "execution_count": 25,
   "metadata": {
    "execution": {
     "iopub.execute_input": "2020-11-25T04:42:37.143512Z",
     "iopub.status.busy": "2020-11-25T04:42:37.142371Z",
     "iopub.status.idle": "2020-11-25T04:42:37.147545Z",
     "shell.execute_reply": "2020-11-25T04:42:37.146750Z"
    },
    "papermill": {
     "duration": 0.054726,
     "end_time": "2020-11-25T04:42:37.147672",
     "exception": false,
     "start_time": "2020-11-25T04:42:37.092946",
     "status": "completed"
    },
    "tags": []
   },
   "outputs": [],
   "source": [
    "bag_of_words_for_message = bag_of_words.transform([message])"
   ]
  },
  {
   "cell_type": "code",
   "execution_count": 26,
   "metadata": {
    "execution": {
     "iopub.execute_input": "2020-11-25T04:42:37.244860Z",
     "iopub.status.busy": "2020-11-25T04:42:37.239518Z",
     "iopub.status.idle": "2020-11-25T04:42:37.257079Z",
     "shell.execute_reply": "2020-11-25T04:42:37.256269Z"
    },
    "papermill": {
     "duration": 0.066064,
     "end_time": "2020-11-25T04:42:37.257228",
     "exception": false,
     "start_time": "2020-11-25T04:42:37.191164",
     "status": "completed"
    },
    "tags": []
   },
   "outputs": [
    {
     "ename": "NameError",
     "evalue": "name 'tfidf_trans' is not defined",
     "output_type": "error",
     "traceback": [
      "\u001b[0;31m---------------------------------------------------------------------------\u001b[0m",
      "\u001b[0;31mNameError\u001b[0m                                 Traceback (most recent call last)",
      "\u001b[0;32m<ipython-input-26-8e8cdaf0ef6b>\u001b[0m in \u001b[0;36m<module>\u001b[0;34m\u001b[0m\n\u001b[0;32m----> 1\u001b[0;31m \u001b[0mtfidf\u001b[0m \u001b[0;34m=\u001b[0m \u001b[0mtfidf_trans\u001b[0m\u001b[0;34m.\u001b[0m\u001b[0mtransform\u001b[0m\u001b[0;34m(\u001b[0m\u001b[0mbag_of_words_for_message\u001b[0m\u001b[0;34m)\u001b[0m\u001b[0;34m\u001b[0m\u001b[0;34m\u001b[0m\u001b[0m\n\u001b[0m",
      "\u001b[0;31mNameError\u001b[0m: name 'tfidf_trans' is not defined"
     ]
    }
   ],
   "source": [
    "tfidf = tfidf_trans.transform(bag_of_words_for_message)"
   ]
  },
  {
   "cell_type": "code",
   "execution_count": 27,
   "metadata": {
    "execution": {
     "iopub.execute_input": "2020-11-25T04:42:37.361525Z",
     "iopub.status.busy": "2020-11-25T04:42:37.360441Z",
     "iopub.status.idle": "2020-11-25T04:42:37.366157Z",
     "shell.execute_reply": "2020-11-25T04:42:37.365419Z"
    },
    "papermill": {
     "duration": 0.066656,
     "end_time": "2020-11-25T04:42:37.366310",
     "exception": false,
     "start_time": "2020-11-25T04:42:37.299654",
     "status": "completed"
    },
    "tags": []
   },
   "outputs": [
    {
     "ename": "NameError",
     "evalue": "name 'spam_detect_model' is not defined",
     "output_type": "error",
     "traceback": [
      "\u001b[0;31m---------------------------------------------------------------------------\u001b[0m",
      "\u001b[0;31mNameError\u001b[0m                                 Traceback (most recent call last)",
      "\u001b[0;32m<ipython-input-27-3acd9d33511b>\u001b[0m in \u001b[0;36m<module>\u001b[0;34m\u001b[0m\n\u001b[1;32m      1\u001b[0m \u001b[0mrow\u001b[0m \u001b[0;34m=\u001b[0m \u001b[0;36m688\u001b[0m\u001b[0;34m\u001b[0m\u001b[0;34m\u001b[0m\u001b[0m\n\u001b[0;32m----> 2\u001b[0;31m \u001b[0mprint\u001b[0m\u001b[0;34m(\u001b[0m\u001b[0;34m'predicted'\u001b[0m\u001b[0;34m,\u001b[0m \u001b[0mspam_detect_model\u001b[0m\u001b[0;34m.\u001b[0m\u001b[0mpredict\u001b[0m\u001b[0;34m(\u001b[0m\u001b[0mtfidf\u001b[0m\u001b[0;34m)\u001b[0m\u001b[0;34m[\u001b[0m\u001b[0;36m0\u001b[0m\u001b[0;34m]\u001b[0m\u001b[0;34m)\u001b[0m\u001b[0;34m\u001b[0m\u001b[0;34m\u001b[0m\u001b[0m\n\u001b[0m\u001b[1;32m      3\u001b[0m \u001b[0mprint\u001b[0m\u001b[0;34m(\u001b[0m\u001b[0;34m'actual'\u001b[0m\u001b[0;34m,\u001b[0m \u001b[0mdf_sms\u001b[0m\u001b[0;34m.\u001b[0m\u001b[0mlabel\u001b[0m\u001b[0;34m[\u001b[0m\u001b[0mrow\u001b[0m\u001b[0;34m]\u001b[0m\u001b[0;34m)\u001b[0m\u001b[0;34m\u001b[0m\u001b[0;34m\u001b[0m\u001b[0m\n",
      "\u001b[0;31mNameError\u001b[0m: name 'spam_detect_model' is not defined"
     ]
    }
   ],
   "source": [
    "row = 688\n",
    "print('predicted', spam_detect_model.predict(tfidf)[0])\n",
    "print('actual', df_sms.label[row])"
   ]
  },
  {
   "cell_type": "code",
   "execution_count": 28,
   "metadata": {
    "execution": {
     "iopub.execute_input": "2020-11-25T04:42:37.464159Z",
     "iopub.status.busy": "2020-11-25T04:42:37.462986Z",
     "iopub.status.idle": "2020-11-25T04:42:37.467283Z",
     "shell.execute_reply": "2020-11-25T04:42:37.467804Z"
    },
    "papermill": {
     "duration": 0.058929,
     "end_time": "2020-11-25T04:42:37.467976",
     "exception": false,
     "start_time": "2020-11-25T04:42:37.409047",
     "status": "completed"
    },
    "tags": []
   },
   "outputs": [
    {
     "data": {
      "text/html": [
       "<div>\n",
       "<style scoped>\n",
       "    .dataframe tbody tr th:only-of-type {\n",
       "        vertical-align: middle;\n",
       "    }\n",
       "\n",
       "    .dataframe tbody tr th {\n",
       "        vertical-align: top;\n",
       "    }\n",
       "\n",
       "    .dataframe thead th {\n",
       "        text-align: right;\n",
       "    }\n",
       "</style>\n",
       "<table border=\"1\" class=\"dataframe\">\n",
       "  <thead>\n",
       "    <tr style=\"text-align: right;\">\n",
       "      <th></th>\n",
       "      <th>label</th>\n",
       "      <th>message</th>\n",
       "      <th>length</th>\n",
       "      <th>label_num</th>\n",
       "      <th>message_clean</th>\n",
       "    </tr>\n",
       "  </thead>\n",
       "  <tbody>\n",
       "    <tr>\n",
       "      <th>688</th>\n",
       "      <td>ham</td>\n",
       "      <td>Thanks love. But am i doing torch or bold.</td>\n",
       "      <td>42</td>\n",
       "      <td>0</td>\n",
       "      <td>Thanks love torch bold</td>\n",
       "    </tr>\n",
       "  </tbody>\n",
       "</table>\n",
       "</div>"
      ],
      "text/plain": [
       "    label                                     message  length  label_num  \\\n",
       "688   ham  Thanks love. But am i doing torch or bold.      42          0   \n",
       "\n",
       "              message_clean  \n",
       "688  Thanks love torch bold  "
      ]
     },
     "execution_count": 28,
     "metadata": {},
     "output_type": "execute_result"
    }
   ],
   "source": [
    "df_sms[row:row+1]"
   ]
  },
  {
   "cell_type": "code",
   "execution_count": null,
   "metadata": {
    "papermill": {
     "duration": 0.042965,
     "end_time": "2020-11-25T04:42:37.554143",
     "exception": false,
     "start_time": "2020-11-25T04:42:37.511178",
     "status": "completed"
    },
    "tags": []
   },
   "outputs": [],
   "source": []
  }
 ],
 "metadata": {
  "kernelspec": {
   "display_name": "Python 3",
   "language": "python",
   "name": "python3"
  },
  "language_info": {
   "codemirror_mode": {
    "name": "ipython",
    "version": 3
   },
   "file_extension": ".py",
   "mimetype": "text/x-python",
   "name": "python",
   "nbconvert_exporter": "python",
   "pygments_lexer": "ipython3",
   "version": "3.7.6"
  },
  "papermill": {
   "duration": 13.773936,
   "end_time": "2020-11-25T04:42:37.706032",
   "environment_variables": {},
   "exception": null,
   "input_path": "__notebook__.ipynb",
   "output_path": "__notebook__.ipynb",
   "parameters": {},
   "start_time": "2020-11-25T04:42:23.932096",
   "version": "2.1.0"
  }
 },
 "nbformat": 4,
 "nbformat_minor": 4
}
