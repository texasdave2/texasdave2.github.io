{
 "cells": [
  {
   "cell_type": "markdown",
   "metadata": {
    "papermill": {
     "duration": 0.077578,
     "end_time": "2020-11-25T04:41:02.762775",
     "exception": false,
     "start_time": "2020-11-25T04:41:02.685197",
     "status": "completed"
    },
    "tags": []
   },
   "source": [
    "![](https://storage.needpix.com/rsynced_images/movie-64073_1280.jpg)"
   ]
  },
  {
   "cell_type": "markdown",
   "metadata": {
    "papermill": {
     "duration": 0.075826,
     "end_time": "2020-11-25T04:41:02.915068",
     "exception": false,
     "start_time": "2020-11-25T04:41:02.839242",
     "status": "completed"
    },
    "tags": []
   },
   "source": [
    "**Student**:  David O'Dell\n",
    "\n",
    "**Course**:  Data Science with Python\n",
    "\n",
    "**Project 2**:  Movielens Case Study, predictive modeling with logistic regression\n",
    "\n",
    "\n",
    "**Tasks**:\n",
    "\n",
    "\n",
    "* Import the three datasets\n",
    "\n",
    "* Create a new dataset named \"master_data\" with the following columns (MovieID Title UserID Age Gender Occupation Rating)\n",
    "\n",
    "* Explore the datasets using visual representations (graphs or tables), also include your comments on the following:\n",
    "\n",
    "\n",
    "** User Age Distribution\n",
    "\n",
    "** User rating of the movie “Toy Story”\n",
    "\n",
    "** Top 25 movies by viewership rating\n",
    "\n",
    "** Find the ratings for all the movies reviewed by for a particular user of user id = 2696\n",
    "\n",
    "\n",
    "* Feature Engineering:\n",
    "\n",
    "** Find out all unique genres \n",
    "\n",
    "** Create a separate column for each genre category with a one-hot encoding ( 1 and 0) whether or not the movie belongs to that genre.\n",
    "\n",
    "** Determine the features affecting the ratings of any particular movie.\n",
    "\n",
    "** Develop an appropriate model to predict the movie ratings"
   ]
  },
  {
   "cell_type": "code",
   "execution_count": 1,
   "metadata": {
    "_cell_guid": "b1076dfc-b9ad-4769-8c92-a6c4dae69d19",
    "_uuid": "8f2839f25d086af736a60e9eeb907d3b93b6e0e5",
    "execution": {
     "iopub.execute_input": "2020-11-25T04:41:03.078058Z",
     "iopub.status.busy": "2020-11-25T04:41:03.077146Z",
     "iopub.status.idle": "2020-11-25T04:41:04.378275Z",
     "shell.execute_reply": "2020-11-25T04:41:04.376536Z"
    },
    "papermill": {
     "duration": 1.386185,
     "end_time": "2020-11-25T04:41:04.378513",
     "exception": false,
     "start_time": "2020-11-25T04:41:02.992328",
     "status": "completed"
    },
    "tags": []
   },
   "outputs": [
    {
     "name": "stdout",
     "output_type": "stream",
     "text": [
      "/kaggle/input/movielenssimplilearn/movies.dat\n",
      "/kaggle/input/movielenssimplilearn/users.dat\n",
      "/kaggle/input/movielenssimplilearn/ratings.dat\n"
     ]
    }
   ],
   "source": [
    "\n",
    "import numpy as np # linear algebra\n",
    "import pandas as pd # data processing, CSV file I/O (e.g. pd.read_csv)\n",
    "import seaborn as sns\n",
    "\n",
    "import matplotlib\n",
    "import matplotlib.pyplot as plt\n",
    "\n",
    "import os\n",
    "for dirname, _, filenames in os.walk('/kaggle/input'):\n",
    "    for filename in filenames:\n",
    "        print(os.path.join(dirname, filename))"
   ]
  },
  {
   "cell_type": "markdown",
   "metadata": {
    "papermill": {
     "duration": 0.076749,
     "end_time": "2020-11-25T04:41:04.535809",
     "exception": false,
     "start_time": "2020-11-25T04:41:04.459060",
     "status": "completed"
    },
    "tags": []
   },
   "source": [
    "***"
   ]
  },
  {
   "cell_type": "markdown",
   "metadata": {
    "papermill": {
     "duration": 0.094934,
     "end_time": "2020-11-25T04:41:04.709433",
     "exception": false,
     "start_time": "2020-11-25T04:41:04.614499",
     "status": "completed"
    },
    "tags": []
   },
   "source": [
    "## Import the datasets"
   ]
  },
  {
   "cell_type": "code",
   "execution_count": 2,
   "metadata": {
    "_cell_guid": "79c7e3d0-c299-4dcb-8224-4455121ee9b0",
    "_uuid": "d629ff2d2480ee46fbb7e2d37f6b5fab8052498a",
    "execution": {
     "iopub.execute_input": "2020-11-25T04:41:04.898603Z",
     "iopub.status.busy": "2020-11-25T04:41:04.897652Z",
     "iopub.status.idle": "2020-11-25T04:41:05.281710Z",
     "shell.execute_reply": "2020-11-25T04:41:05.280924Z"
    },
    "papermill": {
     "duration": 0.473273,
     "end_time": "2020-11-25T04:41:05.281845",
     "exception": false,
     "start_time": "2020-11-25T04:41:04.808572",
     "status": "completed"
    },
    "tags": []
   },
   "outputs": [],
   "source": [
    "df_m = pd.read_csv(\"../input/movielenssimplilearn/movies.dat\", engine='python', sep='::', names=[\"MovieID\", \"Title\", \"Genres\"])"
   ]
  },
  {
   "cell_type": "code",
   "execution_count": 3,
   "metadata": {
    "execution": {
     "iopub.execute_input": "2020-11-25T04:41:05.450550Z",
     "iopub.status.busy": "2020-11-25T04:41:05.449766Z",
     "iopub.status.idle": "2020-11-25T04:41:05.459771Z",
     "shell.execute_reply": "2020-11-25T04:41:05.459002Z"
    },
    "papermill": {
     "duration": 0.100141,
     "end_time": "2020-11-25T04:41:05.459897",
     "exception": false,
     "start_time": "2020-11-25T04:41:05.359756",
     "status": "completed"
    },
    "tags": []
   },
   "outputs": [
    {
     "data": {
      "text/html": [
       "<div>\n",
       "<style scoped>\n",
       "    .dataframe tbody tr th:only-of-type {\n",
       "        vertical-align: middle;\n",
       "    }\n",
       "\n",
       "    .dataframe tbody tr th {\n",
       "        vertical-align: top;\n",
       "    }\n",
       "\n",
       "    .dataframe thead th {\n",
       "        text-align: right;\n",
       "    }\n",
       "</style>\n",
       "<table border=\"1\" class=\"dataframe\">\n",
       "  <thead>\n",
       "    <tr style=\"text-align: right;\">\n",
       "      <th></th>\n",
       "      <th>MovieID</th>\n",
       "      <th>Title</th>\n",
       "      <th>Genres</th>\n",
       "    </tr>\n",
       "  </thead>\n",
       "  <tbody>\n",
       "    <tr>\n",
       "      <th>0</th>\n",
       "      <td>1</td>\n",
       "      <td>Toy Story (1995)</td>\n",
       "      <td>Animation|Children's|Comedy</td>\n",
       "    </tr>\n",
       "    <tr>\n",
       "      <th>1</th>\n",
       "      <td>2</td>\n",
       "      <td>Jumanji (1995)</td>\n",
       "      <td>Adventure|Children's|Fantasy</td>\n",
       "    </tr>\n",
       "    <tr>\n",
       "      <th>2</th>\n",
       "      <td>3</td>\n",
       "      <td>Grumpier Old Men (1995)</td>\n",
       "      <td>Comedy|Romance</td>\n",
       "    </tr>\n",
       "    <tr>\n",
       "      <th>3</th>\n",
       "      <td>4</td>\n",
       "      <td>Waiting to Exhale (1995)</td>\n",
       "      <td>Comedy|Drama</td>\n",
       "    </tr>\n",
       "    <tr>\n",
       "      <th>4</th>\n",
       "      <td>5</td>\n",
       "      <td>Father of the Bride Part II (1995)</td>\n",
       "      <td>Comedy</td>\n",
       "    </tr>\n",
       "  </tbody>\n",
       "</table>\n",
       "</div>"
      ],
      "text/plain": [
       "   MovieID                               Title                        Genres\n",
       "0        1                    Toy Story (1995)   Animation|Children's|Comedy\n",
       "1        2                      Jumanji (1995)  Adventure|Children's|Fantasy\n",
       "2        3             Grumpier Old Men (1995)                Comedy|Romance\n",
       "3        4            Waiting to Exhale (1995)                  Comedy|Drama\n",
       "4        5  Father of the Bride Part II (1995)                        Comedy"
      ]
     },
     "execution_count": 3,
     "metadata": {},
     "output_type": "execute_result"
    }
   ],
   "source": [
    "df_m.head()"
   ]
  },
  {
   "cell_type": "code",
   "execution_count": 4,
   "metadata": {
    "execution": {
     "iopub.execute_input": "2020-11-25T04:41:05.622751Z",
     "iopub.status.busy": "2020-11-25T04:41:05.621873Z",
     "iopub.status.idle": "2020-11-25T04:41:14.030814Z",
     "shell.execute_reply": "2020-11-25T04:41:14.029951Z"
    },
    "papermill": {
     "duration": 8.493264,
     "end_time": "2020-11-25T04:41:14.030947",
     "exception": false,
     "start_time": "2020-11-25T04:41:05.537683",
     "status": "completed"
    },
    "tags": []
   },
   "outputs": [],
   "source": [
    "df_r = pd.read_csv(\"../input/movielenssimplilearn/ratings.dat\", engine='python', sep='::', names=[\"UserID\", \"MovieID\", \"Rating\", \"Timestamp\"])"
   ]
  },
  {
   "cell_type": "code",
   "execution_count": 5,
   "metadata": {
    "execution": {
     "iopub.execute_input": "2020-11-25T04:41:14.199669Z",
     "iopub.status.busy": "2020-11-25T04:41:14.196497Z",
     "iopub.status.idle": "2020-11-25T04:41:14.205002Z",
     "shell.execute_reply": "2020-11-25T04:41:14.204371Z"
    },
    "papermill": {
     "duration": 0.094089,
     "end_time": "2020-11-25T04:41:14.205143",
     "exception": false,
     "start_time": "2020-11-25T04:41:14.111054",
     "status": "completed"
    },
    "tags": []
   },
   "outputs": [
    {
     "data": {
      "text/html": [
       "<div>\n",
       "<style scoped>\n",
       "    .dataframe tbody tr th:only-of-type {\n",
       "        vertical-align: middle;\n",
       "    }\n",
       "\n",
       "    .dataframe tbody tr th {\n",
       "        vertical-align: top;\n",
       "    }\n",
       "\n",
       "    .dataframe thead th {\n",
       "        text-align: right;\n",
       "    }\n",
       "</style>\n",
       "<table border=\"1\" class=\"dataframe\">\n",
       "  <thead>\n",
       "    <tr style=\"text-align: right;\">\n",
       "      <th></th>\n",
       "      <th>UserID</th>\n",
       "      <th>MovieID</th>\n",
       "      <th>Rating</th>\n",
       "      <th>Timestamp</th>\n",
       "    </tr>\n",
       "  </thead>\n",
       "  <tbody>\n",
       "    <tr>\n",
       "      <th>0</th>\n",
       "      <td>1</td>\n",
       "      <td>1193</td>\n",
       "      <td>5</td>\n",
       "      <td>978300760</td>\n",
       "    </tr>\n",
       "    <tr>\n",
       "      <th>1</th>\n",
       "      <td>1</td>\n",
       "      <td>661</td>\n",
       "      <td>3</td>\n",
       "      <td>978302109</td>\n",
       "    </tr>\n",
       "    <tr>\n",
       "      <th>2</th>\n",
       "      <td>1</td>\n",
       "      <td>914</td>\n",
       "      <td>3</td>\n",
       "      <td>978301968</td>\n",
       "    </tr>\n",
       "    <tr>\n",
       "      <th>3</th>\n",
       "      <td>1</td>\n",
       "      <td>3408</td>\n",
       "      <td>4</td>\n",
       "      <td>978300275</td>\n",
       "    </tr>\n",
       "    <tr>\n",
       "      <th>4</th>\n",
       "      <td>1</td>\n",
       "      <td>2355</td>\n",
       "      <td>5</td>\n",
       "      <td>978824291</td>\n",
       "    </tr>\n",
       "  </tbody>\n",
       "</table>\n",
       "</div>"
      ],
      "text/plain": [
       "   UserID  MovieID  Rating  Timestamp\n",
       "0       1     1193       5  978300760\n",
       "1       1      661       3  978302109\n",
       "2       1      914       3  978301968\n",
       "3       1     3408       4  978300275\n",
       "4       1     2355       5  978824291"
      ]
     },
     "execution_count": 5,
     "metadata": {},
     "output_type": "execute_result"
    }
   ],
   "source": [
    "df_r.head()"
   ]
  },
  {
   "cell_type": "code",
   "execution_count": 6,
   "metadata": {
    "execution": {
     "iopub.execute_input": "2020-11-25T04:41:14.371503Z",
     "iopub.status.busy": "2020-11-25T04:41:14.370418Z",
     "iopub.status.idle": "2020-11-25T04:41:14.421890Z",
     "shell.execute_reply": "2020-11-25T04:41:14.421082Z"
    },
    "papermill": {
     "duration": 0.136388,
     "end_time": "2020-11-25T04:41:14.422015",
     "exception": false,
     "start_time": "2020-11-25T04:41:14.285627",
     "status": "completed"
    },
    "tags": []
   },
   "outputs": [],
   "source": [
    "df_u = pd.read_csv(\"../input/movielenssimplilearn/users.dat\", engine='python', sep='::', names=[\"UserID\", \"Gender\", \"Age\", \"Occupation\", \"Zip-code\"])"
   ]
  },
  {
   "cell_type": "code",
   "execution_count": 7,
   "metadata": {
    "execution": {
     "iopub.execute_input": "2020-11-25T04:41:14.592757Z",
     "iopub.status.busy": "2020-11-25T04:41:14.591845Z",
     "iopub.status.idle": "2020-11-25T04:41:14.596702Z",
     "shell.execute_reply": "2020-11-25T04:41:14.596071Z"
    },
    "papermill": {
     "duration": 0.095467,
     "end_time": "2020-11-25T04:41:14.596830",
     "exception": false,
     "start_time": "2020-11-25T04:41:14.501363",
     "status": "completed"
    },
    "tags": []
   },
   "outputs": [
    {
     "data": {
      "text/html": [
       "<div>\n",
       "<style scoped>\n",
       "    .dataframe tbody tr th:only-of-type {\n",
       "        vertical-align: middle;\n",
       "    }\n",
       "\n",
       "    .dataframe tbody tr th {\n",
       "        vertical-align: top;\n",
       "    }\n",
       "\n",
       "    .dataframe thead th {\n",
       "        text-align: right;\n",
       "    }\n",
       "</style>\n",
       "<table border=\"1\" class=\"dataframe\">\n",
       "  <thead>\n",
       "    <tr style=\"text-align: right;\">\n",
       "      <th></th>\n",
       "      <th>UserID</th>\n",
       "      <th>Gender</th>\n",
       "      <th>Age</th>\n",
       "      <th>Occupation</th>\n",
       "      <th>Zip-code</th>\n",
       "    </tr>\n",
       "  </thead>\n",
       "  <tbody>\n",
       "    <tr>\n",
       "      <th>0</th>\n",
       "      <td>1</td>\n",
       "      <td>F</td>\n",
       "      <td>1</td>\n",
       "      <td>10</td>\n",
       "      <td>48067</td>\n",
       "    </tr>\n",
       "    <tr>\n",
       "      <th>1</th>\n",
       "      <td>2</td>\n",
       "      <td>M</td>\n",
       "      <td>56</td>\n",
       "      <td>16</td>\n",
       "      <td>70072</td>\n",
       "    </tr>\n",
       "    <tr>\n",
       "      <th>2</th>\n",
       "      <td>3</td>\n",
       "      <td>M</td>\n",
       "      <td>25</td>\n",
       "      <td>15</td>\n",
       "      <td>55117</td>\n",
       "    </tr>\n",
       "    <tr>\n",
       "      <th>3</th>\n",
       "      <td>4</td>\n",
       "      <td>M</td>\n",
       "      <td>45</td>\n",
       "      <td>7</td>\n",
       "      <td>02460</td>\n",
       "    </tr>\n",
       "    <tr>\n",
       "      <th>4</th>\n",
       "      <td>5</td>\n",
       "      <td>M</td>\n",
       "      <td>25</td>\n",
       "      <td>20</td>\n",
       "      <td>55455</td>\n",
       "    </tr>\n",
       "  </tbody>\n",
       "</table>\n",
       "</div>"
      ],
      "text/plain": [
       "   UserID Gender  Age  Occupation Zip-code\n",
       "0       1      F    1          10    48067\n",
       "1       2      M   56          16    70072\n",
       "2       3      M   25          15    55117\n",
       "3       4      M   45           7    02460\n",
       "4       5      M   25          20    55455"
      ]
     },
     "execution_count": 7,
     "metadata": {},
     "output_type": "execute_result"
    }
   ],
   "source": [
    "df_u.head()"
   ]
  },
  {
   "cell_type": "markdown",
   "metadata": {
    "papermill": {
     "duration": 0.079788,
     "end_time": "2020-11-25T04:41:14.758411",
     "exception": false,
     "start_time": "2020-11-25T04:41:14.678623",
     "status": "completed"
    },
    "tags": []
   },
   "source": [
    "***"
   ]
  },
  {
   "cell_type": "markdown",
   "metadata": {
    "papermill": {
     "duration": 0.087241,
     "end_time": "2020-11-25T04:41:14.925829",
     "exception": false,
     "start_time": "2020-11-25T04:41:14.838588",
     "status": "completed"
    },
    "tags": []
   },
   "source": [
    "## Merge the datasets into one"
   ]
  },
  {
   "cell_type": "code",
   "execution_count": 8,
   "metadata": {
    "execution": {
     "iopub.execute_input": "2020-11-25T04:41:15.121001Z",
     "iopub.status.busy": "2020-11-25T04:41:15.119351Z",
     "iopub.status.idle": "2020-11-25T04:41:15.279984Z",
     "shell.execute_reply": "2020-11-25T04:41:15.279340Z"
    },
    "papermill": {
     "duration": 0.26519,
     "end_time": "2020-11-25T04:41:15.280125",
     "exception": false,
     "start_time": "2020-11-25T04:41:15.014935",
     "status": "completed"
    },
    "tags": []
   },
   "outputs": [],
   "source": [
    "df_merged1 = df_m.merge(df_r, how='outer')"
   ]
  },
  {
   "cell_type": "code",
   "execution_count": 9,
   "metadata": {
    "execution": {
     "iopub.execute_input": "2020-11-25T04:41:15.457132Z",
     "iopub.status.busy": "2020-11-25T04:41:15.456008Z",
     "iopub.status.idle": "2020-11-25T04:41:15.461343Z",
     "shell.execute_reply": "2020-11-25T04:41:15.460698Z"
    },
    "papermill": {
     "duration": 0.101039,
     "end_time": "2020-11-25T04:41:15.461477",
     "exception": false,
     "start_time": "2020-11-25T04:41:15.360438",
     "status": "completed"
    },
    "tags": []
   },
   "outputs": [
    {
     "data": {
      "text/html": [
       "<div>\n",
       "<style scoped>\n",
       "    .dataframe tbody tr th:only-of-type {\n",
       "        vertical-align: middle;\n",
       "    }\n",
       "\n",
       "    .dataframe tbody tr th {\n",
       "        vertical-align: top;\n",
       "    }\n",
       "\n",
       "    .dataframe thead th {\n",
       "        text-align: right;\n",
       "    }\n",
       "</style>\n",
       "<table border=\"1\" class=\"dataframe\">\n",
       "  <thead>\n",
       "    <tr style=\"text-align: right;\">\n",
       "      <th></th>\n",
       "      <th>MovieID</th>\n",
       "      <th>Title</th>\n",
       "      <th>Genres</th>\n",
       "      <th>UserID</th>\n",
       "      <th>Rating</th>\n",
       "      <th>Timestamp</th>\n",
       "    </tr>\n",
       "  </thead>\n",
       "  <tbody>\n",
       "    <tr>\n",
       "      <th>0</th>\n",
       "      <td>1</td>\n",
       "      <td>Toy Story (1995)</td>\n",
       "      <td>Animation|Children's|Comedy</td>\n",
       "      <td>1.0</td>\n",
       "      <td>5.0</td>\n",
       "      <td>978824268.0</td>\n",
       "    </tr>\n",
       "    <tr>\n",
       "      <th>1</th>\n",
       "      <td>1</td>\n",
       "      <td>Toy Story (1995)</td>\n",
       "      <td>Animation|Children's|Comedy</td>\n",
       "      <td>6.0</td>\n",
       "      <td>4.0</td>\n",
       "      <td>978237008.0</td>\n",
       "    </tr>\n",
       "    <tr>\n",
       "      <th>2</th>\n",
       "      <td>1</td>\n",
       "      <td>Toy Story (1995)</td>\n",
       "      <td>Animation|Children's|Comedy</td>\n",
       "      <td>8.0</td>\n",
       "      <td>4.0</td>\n",
       "      <td>978233496.0</td>\n",
       "    </tr>\n",
       "    <tr>\n",
       "      <th>3</th>\n",
       "      <td>1</td>\n",
       "      <td>Toy Story (1995)</td>\n",
       "      <td>Animation|Children's|Comedy</td>\n",
       "      <td>9.0</td>\n",
       "      <td>5.0</td>\n",
       "      <td>978225952.0</td>\n",
       "    </tr>\n",
       "    <tr>\n",
       "      <th>4</th>\n",
       "      <td>1</td>\n",
       "      <td>Toy Story (1995)</td>\n",
       "      <td>Animation|Children's|Comedy</td>\n",
       "      <td>10.0</td>\n",
       "      <td>5.0</td>\n",
       "      <td>978226474.0</td>\n",
       "    </tr>\n",
       "  </tbody>\n",
       "</table>\n",
       "</div>"
      ],
      "text/plain": [
       "   MovieID             Title                       Genres  UserID  Rating  \\\n",
       "0        1  Toy Story (1995)  Animation|Children's|Comedy     1.0     5.0   \n",
       "1        1  Toy Story (1995)  Animation|Children's|Comedy     6.0     4.0   \n",
       "2        1  Toy Story (1995)  Animation|Children's|Comedy     8.0     4.0   \n",
       "3        1  Toy Story (1995)  Animation|Children's|Comedy     9.0     5.0   \n",
       "4        1  Toy Story (1995)  Animation|Children's|Comedy    10.0     5.0   \n",
       "\n",
       "     Timestamp  \n",
       "0  978824268.0  \n",
       "1  978237008.0  \n",
       "2  978233496.0  \n",
       "3  978225952.0  \n",
       "4  978226474.0  "
      ]
     },
     "execution_count": 9,
     "metadata": {},
     "output_type": "execute_result"
    }
   ],
   "source": [
    "df_merged1.head()"
   ]
  },
  {
   "cell_type": "code",
   "execution_count": 10,
   "metadata": {
    "execution": {
     "iopub.execute_input": "2020-11-25T04:41:15.632442Z",
     "iopub.status.busy": "2020-11-25T04:41:15.631632Z",
     "iopub.status.idle": "2020-11-25T04:41:15.844007Z",
     "shell.execute_reply": "2020-11-25T04:41:15.843366Z"
    },
    "papermill": {
     "duration": 0.301183,
     "end_time": "2020-11-25T04:41:15.844174",
     "exception": false,
     "start_time": "2020-11-25T04:41:15.542991",
     "status": "completed"
    },
    "tags": []
   },
   "outputs": [],
   "source": [
    "df_merged2 = df_u.merge(df_r, how='inner')"
   ]
  },
  {
   "cell_type": "code",
   "execution_count": 11,
   "metadata": {
    "execution": {
     "iopub.execute_input": "2020-11-25T04:41:16.024573Z",
     "iopub.status.busy": "2020-11-25T04:41:16.023407Z",
     "iopub.status.idle": "2020-11-25T04:41:16.029193Z",
     "shell.execute_reply": "2020-11-25T04:41:16.028401Z"
    },
    "papermill": {
     "duration": 0.103978,
     "end_time": "2020-11-25T04:41:16.029377",
     "exception": false,
     "start_time": "2020-11-25T04:41:15.925399",
     "status": "completed"
    },
    "tags": []
   },
   "outputs": [
    {
     "data": {
      "text/html": [
       "<div>\n",
       "<style scoped>\n",
       "    .dataframe tbody tr th:only-of-type {\n",
       "        vertical-align: middle;\n",
       "    }\n",
       "\n",
       "    .dataframe tbody tr th {\n",
       "        vertical-align: top;\n",
       "    }\n",
       "\n",
       "    .dataframe thead th {\n",
       "        text-align: right;\n",
       "    }\n",
       "</style>\n",
       "<table border=\"1\" class=\"dataframe\">\n",
       "  <thead>\n",
       "    <tr style=\"text-align: right;\">\n",
       "      <th></th>\n",
       "      <th>UserID</th>\n",
       "      <th>Gender</th>\n",
       "      <th>Age</th>\n",
       "      <th>Occupation</th>\n",
       "      <th>Zip-code</th>\n",
       "      <th>MovieID</th>\n",
       "      <th>Rating</th>\n",
       "      <th>Timestamp</th>\n",
       "    </tr>\n",
       "  </thead>\n",
       "  <tbody>\n",
       "    <tr>\n",
       "      <th>0</th>\n",
       "      <td>1</td>\n",
       "      <td>F</td>\n",
       "      <td>1</td>\n",
       "      <td>10</td>\n",
       "      <td>48067</td>\n",
       "      <td>1193</td>\n",
       "      <td>5</td>\n",
       "      <td>978300760</td>\n",
       "    </tr>\n",
       "    <tr>\n",
       "      <th>1</th>\n",
       "      <td>1</td>\n",
       "      <td>F</td>\n",
       "      <td>1</td>\n",
       "      <td>10</td>\n",
       "      <td>48067</td>\n",
       "      <td>661</td>\n",
       "      <td>3</td>\n",
       "      <td>978302109</td>\n",
       "    </tr>\n",
       "    <tr>\n",
       "      <th>2</th>\n",
       "      <td>1</td>\n",
       "      <td>F</td>\n",
       "      <td>1</td>\n",
       "      <td>10</td>\n",
       "      <td>48067</td>\n",
       "      <td>914</td>\n",
       "      <td>3</td>\n",
       "      <td>978301968</td>\n",
       "    </tr>\n",
       "    <tr>\n",
       "      <th>3</th>\n",
       "      <td>1</td>\n",
       "      <td>F</td>\n",
       "      <td>1</td>\n",
       "      <td>10</td>\n",
       "      <td>48067</td>\n",
       "      <td>3408</td>\n",
       "      <td>4</td>\n",
       "      <td>978300275</td>\n",
       "    </tr>\n",
       "    <tr>\n",
       "      <th>4</th>\n",
       "      <td>1</td>\n",
       "      <td>F</td>\n",
       "      <td>1</td>\n",
       "      <td>10</td>\n",
       "      <td>48067</td>\n",
       "      <td>2355</td>\n",
       "      <td>5</td>\n",
       "      <td>978824291</td>\n",
       "    </tr>\n",
       "  </tbody>\n",
       "</table>\n",
       "</div>"
      ],
      "text/plain": [
       "   UserID Gender  Age  Occupation Zip-code  MovieID  Rating  Timestamp\n",
       "0       1      F    1          10    48067     1193       5  978300760\n",
       "1       1      F    1          10    48067      661       3  978302109\n",
       "2       1      F    1          10    48067      914       3  978301968\n",
       "3       1      F    1          10    48067     3408       4  978300275\n",
       "4       1      F    1          10    48067     2355       5  978824291"
      ]
     },
     "execution_count": 11,
     "metadata": {},
     "output_type": "execute_result"
    }
   ],
   "source": [
    "df_merged2.head()"
   ]
  },
  {
   "cell_type": "code",
   "execution_count": 12,
   "metadata": {
    "execution": {
     "iopub.execute_input": "2020-11-25T04:41:16.214073Z",
     "iopub.status.busy": "2020-11-25T04:41:16.211851Z",
     "iopub.status.idle": "2020-11-25T04:41:18.898337Z",
     "shell.execute_reply": "2020-11-25T04:41:18.897530Z"
    },
    "papermill": {
     "duration": 2.776337,
     "end_time": "2020-11-25T04:41:18.898493",
     "exception": false,
     "start_time": "2020-11-25T04:41:16.122156",
     "status": "completed"
    },
    "tags": []
   },
   "outputs": [],
   "source": [
    "df_merged3 = df_merged1.merge(df_merged2, how='inner')"
   ]
  },
  {
   "cell_type": "code",
   "execution_count": 13,
   "metadata": {
    "execution": {
     "iopub.execute_input": "2020-11-25T04:41:19.083550Z",
     "iopub.status.busy": "2020-11-25T04:41:19.082317Z",
     "iopub.status.idle": "2020-11-25T04:41:19.087268Z",
     "shell.execute_reply": "2020-11-25T04:41:19.086461Z"
    },
    "papermill": {
     "duration": 0.105965,
     "end_time": "2020-11-25T04:41:19.087410",
     "exception": false,
     "start_time": "2020-11-25T04:41:18.981445",
     "status": "completed"
    },
    "tags": []
   },
   "outputs": [
    {
     "data": {
      "text/html": [
       "<div>\n",
       "<style scoped>\n",
       "    .dataframe tbody tr th:only-of-type {\n",
       "        vertical-align: middle;\n",
       "    }\n",
       "\n",
       "    .dataframe tbody tr th {\n",
       "        vertical-align: top;\n",
       "    }\n",
       "\n",
       "    .dataframe thead th {\n",
       "        text-align: right;\n",
       "    }\n",
       "</style>\n",
       "<table border=\"1\" class=\"dataframe\">\n",
       "  <thead>\n",
       "    <tr style=\"text-align: right;\">\n",
       "      <th></th>\n",
       "      <th>MovieID</th>\n",
       "      <th>Title</th>\n",
       "      <th>Genres</th>\n",
       "      <th>UserID</th>\n",
       "      <th>Rating</th>\n",
       "      <th>Timestamp</th>\n",
       "      <th>Gender</th>\n",
       "      <th>Age</th>\n",
       "      <th>Occupation</th>\n",
       "      <th>Zip-code</th>\n",
       "    </tr>\n",
       "  </thead>\n",
       "  <tbody>\n",
       "    <tr>\n",
       "      <th>0</th>\n",
       "      <td>1</td>\n",
       "      <td>Toy Story (1995)</td>\n",
       "      <td>Animation|Children's|Comedy</td>\n",
       "      <td>1.0</td>\n",
       "      <td>5.0</td>\n",
       "      <td>978824268.0</td>\n",
       "      <td>F</td>\n",
       "      <td>1</td>\n",
       "      <td>10</td>\n",
       "      <td>48067</td>\n",
       "    </tr>\n",
       "    <tr>\n",
       "      <th>1</th>\n",
       "      <td>1</td>\n",
       "      <td>Toy Story (1995)</td>\n",
       "      <td>Animation|Children's|Comedy</td>\n",
       "      <td>6.0</td>\n",
       "      <td>4.0</td>\n",
       "      <td>978237008.0</td>\n",
       "      <td>F</td>\n",
       "      <td>50</td>\n",
       "      <td>9</td>\n",
       "      <td>55117</td>\n",
       "    </tr>\n",
       "    <tr>\n",
       "      <th>2</th>\n",
       "      <td>1</td>\n",
       "      <td>Toy Story (1995)</td>\n",
       "      <td>Animation|Children's|Comedy</td>\n",
       "      <td>8.0</td>\n",
       "      <td>4.0</td>\n",
       "      <td>978233496.0</td>\n",
       "      <td>M</td>\n",
       "      <td>25</td>\n",
       "      <td>12</td>\n",
       "      <td>11413</td>\n",
       "    </tr>\n",
       "    <tr>\n",
       "      <th>3</th>\n",
       "      <td>1</td>\n",
       "      <td>Toy Story (1995)</td>\n",
       "      <td>Animation|Children's|Comedy</td>\n",
       "      <td>9.0</td>\n",
       "      <td>5.0</td>\n",
       "      <td>978225952.0</td>\n",
       "      <td>M</td>\n",
       "      <td>25</td>\n",
       "      <td>17</td>\n",
       "      <td>61614</td>\n",
       "    </tr>\n",
       "    <tr>\n",
       "      <th>4</th>\n",
       "      <td>1</td>\n",
       "      <td>Toy Story (1995)</td>\n",
       "      <td>Animation|Children's|Comedy</td>\n",
       "      <td>10.0</td>\n",
       "      <td>5.0</td>\n",
       "      <td>978226474.0</td>\n",
       "      <td>F</td>\n",
       "      <td>35</td>\n",
       "      <td>1</td>\n",
       "      <td>95370</td>\n",
       "    </tr>\n",
       "  </tbody>\n",
       "</table>\n",
       "</div>"
      ],
      "text/plain": [
       "   MovieID             Title                       Genres  UserID  Rating  \\\n",
       "0        1  Toy Story (1995)  Animation|Children's|Comedy     1.0     5.0   \n",
       "1        1  Toy Story (1995)  Animation|Children's|Comedy     6.0     4.0   \n",
       "2        1  Toy Story (1995)  Animation|Children's|Comedy     8.0     4.0   \n",
       "3        1  Toy Story (1995)  Animation|Children's|Comedy     9.0     5.0   \n",
       "4        1  Toy Story (1995)  Animation|Children's|Comedy    10.0     5.0   \n",
       "\n",
       "     Timestamp Gender  Age  Occupation Zip-code  \n",
       "0  978824268.0      F    1          10    48067  \n",
       "1  978237008.0      F   50           9    55117  \n",
       "2  978233496.0      M   25          12    11413  \n",
       "3  978225952.0      M   25          17    61614  \n",
       "4  978226474.0      F   35           1    95370  "
      ]
     },
     "execution_count": 13,
     "metadata": {},
     "output_type": "execute_result"
    }
   ],
   "source": [
    "df_merged3.head()"
   ]
  },
  {
   "cell_type": "code",
   "execution_count": 14,
   "metadata": {
    "execution": {
     "iopub.execute_input": "2020-11-25T04:41:19.272872Z",
     "iopub.status.busy": "2020-11-25T04:41:19.271988Z",
     "iopub.status.idle": "2020-11-25T04:41:19.291516Z",
     "shell.execute_reply": "2020-11-25T04:41:19.290790Z"
    },
    "papermill": {
     "duration": 0.108459,
     "end_time": "2020-11-25T04:41:19.291661",
     "exception": false,
     "start_time": "2020-11-25T04:41:19.183202",
     "status": "completed"
    },
    "tags": []
   },
   "outputs": [],
   "source": [
    "df_merged3.UserID = df_merged3.UserID.astype(int)\n",
    "df_merged3.Rating = df_merged3.Rating.astype(int)"
   ]
  },
  {
   "cell_type": "code",
   "execution_count": 15,
   "metadata": {
    "execution": {
     "iopub.execute_input": "2020-11-25T04:41:19.475919Z",
     "iopub.status.busy": "2020-11-25T04:41:19.475089Z",
     "iopub.status.idle": "2020-11-25T04:41:19.480529Z",
     "shell.execute_reply": "2020-11-25T04:41:19.479760Z"
    },
    "papermill": {
     "duration": 0.105445,
     "end_time": "2020-11-25T04:41:19.480657",
     "exception": false,
     "start_time": "2020-11-25T04:41:19.375212",
     "status": "completed"
    },
    "tags": []
   },
   "outputs": [
    {
     "data": {
      "text/html": [
       "<div>\n",
       "<style scoped>\n",
       "    .dataframe tbody tr th:only-of-type {\n",
       "        vertical-align: middle;\n",
       "    }\n",
       "\n",
       "    .dataframe tbody tr th {\n",
       "        vertical-align: top;\n",
       "    }\n",
       "\n",
       "    .dataframe thead th {\n",
       "        text-align: right;\n",
       "    }\n",
       "</style>\n",
       "<table border=\"1\" class=\"dataframe\">\n",
       "  <thead>\n",
       "    <tr style=\"text-align: right;\">\n",
       "      <th></th>\n",
       "      <th>MovieID</th>\n",
       "      <th>Title</th>\n",
       "      <th>Genres</th>\n",
       "      <th>UserID</th>\n",
       "      <th>Rating</th>\n",
       "      <th>Timestamp</th>\n",
       "      <th>Gender</th>\n",
       "      <th>Age</th>\n",
       "      <th>Occupation</th>\n",
       "      <th>Zip-code</th>\n",
       "    </tr>\n",
       "  </thead>\n",
       "  <tbody>\n",
       "    <tr>\n",
       "      <th>0</th>\n",
       "      <td>1</td>\n",
       "      <td>Toy Story (1995)</td>\n",
       "      <td>Animation|Children's|Comedy</td>\n",
       "      <td>1</td>\n",
       "      <td>5</td>\n",
       "      <td>978824268.0</td>\n",
       "      <td>F</td>\n",
       "      <td>1</td>\n",
       "      <td>10</td>\n",
       "      <td>48067</td>\n",
       "    </tr>\n",
       "    <tr>\n",
       "      <th>1</th>\n",
       "      <td>1</td>\n",
       "      <td>Toy Story (1995)</td>\n",
       "      <td>Animation|Children's|Comedy</td>\n",
       "      <td>6</td>\n",
       "      <td>4</td>\n",
       "      <td>978237008.0</td>\n",
       "      <td>F</td>\n",
       "      <td>50</td>\n",
       "      <td>9</td>\n",
       "      <td>55117</td>\n",
       "    </tr>\n",
       "    <tr>\n",
       "      <th>2</th>\n",
       "      <td>1</td>\n",
       "      <td>Toy Story (1995)</td>\n",
       "      <td>Animation|Children's|Comedy</td>\n",
       "      <td>8</td>\n",
       "      <td>4</td>\n",
       "      <td>978233496.0</td>\n",
       "      <td>M</td>\n",
       "      <td>25</td>\n",
       "      <td>12</td>\n",
       "      <td>11413</td>\n",
       "    </tr>\n",
       "    <tr>\n",
       "      <th>3</th>\n",
       "      <td>1</td>\n",
       "      <td>Toy Story (1995)</td>\n",
       "      <td>Animation|Children's|Comedy</td>\n",
       "      <td>9</td>\n",
       "      <td>5</td>\n",
       "      <td>978225952.0</td>\n",
       "      <td>M</td>\n",
       "      <td>25</td>\n",
       "      <td>17</td>\n",
       "      <td>61614</td>\n",
       "    </tr>\n",
       "    <tr>\n",
       "      <th>4</th>\n",
       "      <td>1</td>\n",
       "      <td>Toy Story (1995)</td>\n",
       "      <td>Animation|Children's|Comedy</td>\n",
       "      <td>10</td>\n",
       "      <td>5</td>\n",
       "      <td>978226474.0</td>\n",
       "      <td>F</td>\n",
       "      <td>35</td>\n",
       "      <td>1</td>\n",
       "      <td>95370</td>\n",
       "    </tr>\n",
       "  </tbody>\n",
       "</table>\n",
       "</div>"
      ],
      "text/plain": [
       "   MovieID             Title                       Genres  UserID  Rating  \\\n",
       "0        1  Toy Story (1995)  Animation|Children's|Comedy       1       5   \n",
       "1        1  Toy Story (1995)  Animation|Children's|Comedy       6       4   \n",
       "2        1  Toy Story (1995)  Animation|Children's|Comedy       8       4   \n",
       "3        1  Toy Story (1995)  Animation|Children's|Comedy       9       5   \n",
       "4        1  Toy Story (1995)  Animation|Children's|Comedy      10       5   \n",
       "\n",
       "     Timestamp Gender  Age  Occupation Zip-code  \n",
       "0  978824268.0      F    1          10    48067  \n",
       "1  978237008.0      F   50           9    55117  \n",
       "2  978233496.0      M   25          12    11413  \n",
       "3  978225952.0      M   25          17    61614  \n",
       "4  978226474.0      F   35           1    95370  "
      ]
     },
     "execution_count": 15,
     "metadata": {},
     "output_type": "execute_result"
    }
   ],
   "source": [
    "df_merged3.head()"
   ]
  },
  {
   "cell_type": "code",
   "execution_count": 16,
   "metadata": {
    "execution": {
     "iopub.execute_input": "2020-11-25T04:41:19.654201Z",
     "iopub.status.busy": "2020-11-25T04:41:19.653053Z",
     "iopub.status.idle": "2020-11-25T04:41:19.658035Z",
     "shell.execute_reply": "2020-11-25T04:41:19.657301Z"
    },
    "papermill": {
     "duration": 0.09393,
     "end_time": "2020-11-25T04:41:19.658200",
     "exception": false,
     "start_time": "2020-11-25T04:41:19.564270",
     "status": "completed"
    },
    "tags": []
   },
   "outputs": [
    {
     "data": {
      "text/plain": [
       "(1000209, 10)"
      ]
     },
     "execution_count": 16,
     "metadata": {},
     "output_type": "execute_result"
    }
   ],
   "source": [
    "df_merged3.shape"
   ]
  },
  {
   "cell_type": "code",
   "execution_count": 17,
   "metadata": {
    "execution": {
     "iopub.execute_input": "2020-11-25T04:41:19.831977Z",
     "iopub.status.busy": "2020-11-25T04:41:19.831223Z",
     "iopub.status.idle": "2020-11-25T04:41:20.382959Z",
     "shell.execute_reply": "2020-11-25T04:41:20.383962Z"
    },
    "papermill": {
     "duration": 0.642329,
     "end_time": "2020-11-25T04:41:20.384227",
     "exception": false,
     "start_time": "2020-11-25T04:41:19.741898",
     "status": "completed"
    },
    "tags": []
   },
   "outputs": [
    {
     "data": {
      "text/html": [
       "<div>\n",
       "<style scoped>\n",
       "    .dataframe tbody tr th:only-of-type {\n",
       "        vertical-align: middle;\n",
       "    }\n",
       "\n",
       "    .dataframe tbody tr th {\n",
       "        vertical-align: top;\n",
       "    }\n",
       "\n",
       "    .dataframe thead th {\n",
       "        text-align: right;\n",
       "    }\n",
       "</style>\n",
       "<table border=\"1\" class=\"dataframe\">\n",
       "  <thead>\n",
       "    <tr style=\"text-align: right;\">\n",
       "      <th></th>\n",
       "      <th>MovieID</th>\n",
       "      <th>Title</th>\n",
       "      <th>Genres</th>\n",
       "      <th>UserID</th>\n",
       "      <th>Rating</th>\n",
       "      <th>Timestamp</th>\n",
       "      <th>Gender</th>\n",
       "      <th>Age</th>\n",
       "      <th>Occupation</th>\n",
       "      <th>Zip-code</th>\n",
       "    </tr>\n",
       "  </thead>\n",
       "  <tbody>\n",
       "    <tr>\n",
       "      <th>0</th>\n",
       "      <td>1</td>\n",
       "      <td>Toy Story (1995)</td>\n",
       "      <td>Animation|Children's|Comedy</td>\n",
       "      <td>1</td>\n",
       "      <td>5</td>\n",
       "      <td>978824268.0</td>\n",
       "      <td>F</td>\n",
       "      <td>1</td>\n",
       "      <td>10</td>\n",
       "      <td>48067</td>\n",
       "    </tr>\n",
       "    <tr>\n",
       "      <th>310576</th>\n",
       "      <td>1207</td>\n",
       "      <td>To Kill a Mockingbird (1962)</td>\n",
       "      <td>Drama</td>\n",
       "      <td>1</td>\n",
       "      <td>4</td>\n",
       "      <td>978300719.0</td>\n",
       "      <td>F</td>\n",
       "      <td>1</td>\n",
       "      <td>10</td>\n",
       "      <td>48067</td>\n",
       "    </tr>\n",
       "    <tr>\n",
       "      <th>341051</th>\n",
       "      <td>1246</td>\n",
       "      <td>Dead Poets Society (1989)</td>\n",
       "      <td>Drama</td>\n",
       "      <td>1</td>\n",
       "      <td>4</td>\n",
       "      <td>978302091.0</td>\n",
       "      <td>F</td>\n",
       "      <td>1</td>\n",
       "      <td>10</td>\n",
       "      <td>48067</td>\n",
       "    </tr>\n",
       "    <tr>\n",
       "      <th>745569</th>\n",
       "      <td>2762</td>\n",
       "      <td>Sixth Sense, The (1999)</td>\n",
       "      <td>Thriller</td>\n",
       "      <td>1</td>\n",
       "      <td>4</td>\n",
       "      <td>978302091.0</td>\n",
       "      <td>F</td>\n",
       "      <td>1</td>\n",
       "      <td>10</td>\n",
       "      <td>48067</td>\n",
       "    </tr>\n",
       "    <tr>\n",
       "      <th>144754</th>\n",
       "      <td>531</td>\n",
       "      <td>Secret Garden, The (1993)</td>\n",
       "      <td>Children's|Drama</td>\n",
       "      <td>1</td>\n",
       "      <td>4</td>\n",
       "      <td>978302149.0</td>\n",
       "      <td>F</td>\n",
       "      <td>1</td>\n",
       "      <td>10</td>\n",
       "      <td>48067</td>\n",
       "    </tr>\n",
       "    <tr>\n",
       "      <th>...</th>\n",
       "      <td>...</td>\n",
       "      <td>...</td>\n",
       "      <td>...</td>\n",
       "      <td>...</td>\n",
       "      <td>...</td>\n",
       "      <td>...</td>\n",
       "      <td>...</td>\n",
       "      <td>...</td>\n",
       "      <td>...</td>\n",
       "      <td>...</td>\n",
       "    </tr>\n",
       "    <tr>\n",
       "      <th>835749</th>\n",
       "      <td>3108</td>\n",
       "      <td>Fisher King, The (1991)</td>\n",
       "      <td>Comedy|Drama|Romance</td>\n",
       "      <td>6040</td>\n",
       "      <td>4</td>\n",
       "      <td>960971992.0</td>\n",
       "      <td>M</td>\n",
       "      <td>25</td>\n",
       "      <td>6</td>\n",
       "      <td>11106</td>\n",
       "    </tr>\n",
       "    <tr>\n",
       "      <th>149802</th>\n",
       "      <td>541</td>\n",
       "      <td>Blade Runner (1982)</td>\n",
       "      <td>Film-Noir|Sci-Fi</td>\n",
       "      <td>6040</td>\n",
       "      <td>4</td>\n",
       "      <td>956715288.0</td>\n",
       "      <td>M</td>\n",
       "      <td>25</td>\n",
       "      <td>6</td>\n",
       "      <td>11106</td>\n",
       "    </tr>\n",
       "    <tr>\n",
       "      <th>917912</th>\n",
       "      <td>3505</td>\n",
       "      <td>No Way Out (1987)</td>\n",
       "      <td>Thriller</td>\n",
       "      <td>6040</td>\n",
       "      <td>4</td>\n",
       "      <td>956704056.0</td>\n",
       "      <td>M</td>\n",
       "      <td>25</td>\n",
       "      <td>6</td>\n",
       "      <td>11106</td>\n",
       "    </tr>\n",
       "    <tr>\n",
       "      <th>881053</th>\n",
       "      <td>3334</td>\n",
       "      <td>Key Largo (1948)</td>\n",
       "      <td>Crime|Drama|Film-Noir|Thriller</td>\n",
       "      <td>6040</td>\n",
       "      <td>5</td>\n",
       "      <td>960971875.0</td>\n",
       "      <td>M</td>\n",
       "      <td>25</td>\n",
       "      <td>6</td>\n",
       "      <td>11106</td>\n",
       "    </tr>\n",
       "    <tr>\n",
       "      <th>100415</th>\n",
       "      <td>357</td>\n",
       "      <td>Four Weddings and a Funeral (1994)</td>\n",
       "      <td>Comedy|Romance</td>\n",
       "      <td>6040</td>\n",
       "      <td>3</td>\n",
       "      <td>956705185.0</td>\n",
       "      <td>M</td>\n",
       "      <td>25</td>\n",
       "      <td>6</td>\n",
       "      <td>11106</td>\n",
       "    </tr>\n",
       "  </tbody>\n",
       "</table>\n",
       "<p>1000209 rows × 10 columns</p>\n",
       "</div>"
      ],
      "text/plain": [
       "        MovieID                               Title  \\\n",
       "0             1                    Toy Story (1995)   \n",
       "310576     1207        To Kill a Mockingbird (1962)   \n",
       "341051     1246           Dead Poets Society (1989)   \n",
       "745569     2762             Sixth Sense, The (1999)   \n",
       "144754      531           Secret Garden, The (1993)   \n",
       "...         ...                                 ...   \n",
       "835749     3108             Fisher King, The (1991)   \n",
       "149802      541                 Blade Runner (1982)   \n",
       "917912     3505                   No Way Out (1987)   \n",
       "881053     3334                    Key Largo (1948)   \n",
       "100415      357  Four Weddings and a Funeral (1994)   \n",
       "\n",
       "                                Genres  UserID  Rating    Timestamp Gender  \\\n",
       "0          Animation|Children's|Comedy       1       5  978824268.0      F   \n",
       "310576                           Drama       1       4  978300719.0      F   \n",
       "341051                           Drama       1       4  978302091.0      F   \n",
       "745569                        Thriller       1       4  978302091.0      F   \n",
       "144754                Children's|Drama       1       4  978302149.0      F   \n",
       "...                                ...     ...     ...          ...    ...   \n",
       "835749            Comedy|Drama|Romance    6040       4  960971992.0      M   \n",
       "149802                Film-Noir|Sci-Fi    6040       4  956715288.0      M   \n",
       "917912                        Thriller    6040       4  956704056.0      M   \n",
       "881053  Crime|Drama|Film-Noir|Thriller    6040       5  960971875.0      M   \n",
       "100415                  Comedy|Romance    6040       3  956705185.0      M   \n",
       "\n",
       "        Age  Occupation Zip-code  \n",
       "0         1          10    48067  \n",
       "310576    1          10    48067  \n",
       "341051    1          10    48067  \n",
       "745569    1          10    48067  \n",
       "144754    1          10    48067  \n",
       "...     ...         ...      ...  \n",
       "835749   25           6    11106  \n",
       "149802   25           6    11106  \n",
       "917912   25           6    11106  \n",
       "881053   25           6    11106  \n",
       "100415   25           6    11106  \n",
       "\n",
       "[1000209 rows x 10 columns]"
      ]
     },
     "execution_count": 17,
     "metadata": {},
     "output_type": "execute_result"
    }
   ],
   "source": [
    "df_merged3.sort_values(by=['UserID'], ascending=True)"
   ]
  },
  {
   "cell_type": "markdown",
   "metadata": {
    "papermill": {
     "duration": 0.086624,
     "end_time": "2020-11-25T04:41:20.562055",
     "exception": false,
     "start_time": "2020-11-25T04:41:20.475431",
     "status": "completed"
    },
    "tags": []
   },
   "source": [
    "Let's rearrange the columns into something we prefer"
   ]
  },
  {
   "cell_type": "code",
   "execution_count": 18,
   "metadata": {
    "execution": {
     "iopub.execute_input": "2020-11-25T04:41:20.742515Z",
     "iopub.status.busy": "2020-11-25T04:41:20.741582Z",
     "iopub.status.idle": "2020-11-25T04:41:20.745406Z",
     "shell.execute_reply": "2020-11-25T04:41:20.744643Z"
    },
    "papermill": {
     "duration": 0.096346,
     "end_time": "2020-11-25T04:41:20.745534",
     "exception": false,
     "start_time": "2020-11-25T04:41:20.649188",
     "status": "completed"
    },
    "tags": []
   },
   "outputs": [],
   "source": [
    "cols = list(df_merged3.columns.values)"
   ]
  },
  {
   "cell_type": "code",
   "execution_count": 19,
   "metadata": {
    "execution": {
     "iopub.execute_input": "2020-11-25T04:41:20.926907Z",
     "iopub.status.busy": "2020-11-25T04:41:20.925819Z",
     "iopub.status.idle": "2020-11-25T04:41:20.929626Z",
     "shell.execute_reply": "2020-11-25T04:41:20.930227Z"
    },
    "papermill": {
     "duration": 0.096672,
     "end_time": "2020-11-25T04:41:20.930395",
     "exception": false,
     "start_time": "2020-11-25T04:41:20.833723",
     "status": "completed"
    },
    "tags": []
   },
   "outputs": [
    {
     "name": "stdout",
     "output_type": "stream",
     "text": [
      "['MovieID', 'Title', 'Genres', 'UserID', 'Rating', 'Timestamp', 'Gender', 'Age', 'Occupation', 'Zip-code']\n"
     ]
    }
   ],
   "source": [
    "print(cols)"
   ]
  },
  {
   "cell_type": "markdown",
   "metadata": {
    "papermill": {
     "duration": 0.087832,
     "end_time": "2020-11-25T04:41:21.108173",
     "exception": false,
     "start_time": "2020-11-25T04:41:21.020341",
     "status": "completed"
    },
    "tags": []
   },
   "source": [
    "***"
   ]
  },
  {
   "cell_type": "markdown",
   "metadata": {
    "papermill": {
     "duration": 0.086915,
     "end_time": "2020-11-25T04:41:21.283995",
     "exception": false,
     "start_time": "2020-11-25T04:41:21.197080",
     "status": "completed"
    },
    "tags": []
   },
   "source": [
    "## Create master data dataframe"
   ]
  },
  {
   "cell_type": "code",
   "execution_count": 20,
   "metadata": {
    "execution": {
     "iopub.execute_input": "2020-11-25T04:41:21.504632Z",
     "iopub.status.busy": "2020-11-25T04:41:21.503599Z",
     "iopub.status.idle": "2020-11-25T04:41:21.636336Z",
     "shell.execute_reply": "2020-11-25T04:41:21.635466Z"
    },
    "papermill": {
     "duration": 0.265033,
     "end_time": "2020-11-25T04:41:21.636522",
     "exception": false,
     "start_time": "2020-11-25T04:41:21.371489",
     "status": "completed"
    },
    "tags": []
   },
   "outputs": [],
   "source": [
    "master_data = df_merged3[['UserID', 'MovieID', 'Title', 'Rating', 'Genres', 'Zip-code', 'Gender', 'Age', 'Occupation', 'Timestamp']]"
   ]
  },
  {
   "cell_type": "code",
   "execution_count": 21,
   "metadata": {
    "execution": {
     "iopub.execute_input": "2020-11-25T04:41:21.833368Z",
     "iopub.status.busy": "2020-11-25T04:41:21.832233Z",
     "iopub.status.idle": "2020-11-25T04:41:21.837931Z",
     "shell.execute_reply": "2020-11-25T04:41:21.837251Z"
    },
    "papermill": {
     "duration": 0.110856,
     "end_time": "2020-11-25T04:41:21.838056",
     "exception": false,
     "start_time": "2020-11-25T04:41:21.727200",
     "status": "completed"
    },
    "tags": []
   },
   "outputs": [
    {
     "data": {
      "text/html": [
       "<div>\n",
       "<style scoped>\n",
       "    .dataframe tbody tr th:only-of-type {\n",
       "        vertical-align: middle;\n",
       "    }\n",
       "\n",
       "    .dataframe tbody tr th {\n",
       "        vertical-align: top;\n",
       "    }\n",
       "\n",
       "    .dataframe thead th {\n",
       "        text-align: right;\n",
       "    }\n",
       "</style>\n",
       "<table border=\"1\" class=\"dataframe\">\n",
       "  <thead>\n",
       "    <tr style=\"text-align: right;\">\n",
       "      <th></th>\n",
       "      <th>UserID</th>\n",
       "      <th>MovieID</th>\n",
       "      <th>Title</th>\n",
       "      <th>Rating</th>\n",
       "      <th>Genres</th>\n",
       "      <th>Zip-code</th>\n",
       "      <th>Gender</th>\n",
       "      <th>Age</th>\n",
       "      <th>Occupation</th>\n",
       "      <th>Timestamp</th>\n",
       "    </tr>\n",
       "  </thead>\n",
       "  <tbody>\n",
       "    <tr>\n",
       "      <th>0</th>\n",
       "      <td>1</td>\n",
       "      <td>1</td>\n",
       "      <td>Toy Story (1995)</td>\n",
       "      <td>5</td>\n",
       "      <td>Animation|Children's|Comedy</td>\n",
       "      <td>48067</td>\n",
       "      <td>F</td>\n",
       "      <td>1</td>\n",
       "      <td>10</td>\n",
       "      <td>978824268.0</td>\n",
       "    </tr>\n",
       "    <tr>\n",
       "      <th>1</th>\n",
       "      <td>6</td>\n",
       "      <td>1</td>\n",
       "      <td>Toy Story (1995)</td>\n",
       "      <td>4</td>\n",
       "      <td>Animation|Children's|Comedy</td>\n",
       "      <td>55117</td>\n",
       "      <td>F</td>\n",
       "      <td>50</td>\n",
       "      <td>9</td>\n",
       "      <td>978237008.0</td>\n",
       "    </tr>\n",
       "    <tr>\n",
       "      <th>2</th>\n",
       "      <td>8</td>\n",
       "      <td>1</td>\n",
       "      <td>Toy Story (1995)</td>\n",
       "      <td>4</td>\n",
       "      <td>Animation|Children's|Comedy</td>\n",
       "      <td>11413</td>\n",
       "      <td>M</td>\n",
       "      <td>25</td>\n",
       "      <td>12</td>\n",
       "      <td>978233496.0</td>\n",
       "    </tr>\n",
       "    <tr>\n",
       "      <th>3</th>\n",
       "      <td>9</td>\n",
       "      <td>1</td>\n",
       "      <td>Toy Story (1995)</td>\n",
       "      <td>5</td>\n",
       "      <td>Animation|Children's|Comedy</td>\n",
       "      <td>61614</td>\n",
       "      <td>M</td>\n",
       "      <td>25</td>\n",
       "      <td>17</td>\n",
       "      <td>978225952.0</td>\n",
       "    </tr>\n",
       "    <tr>\n",
       "      <th>4</th>\n",
       "      <td>10</td>\n",
       "      <td>1</td>\n",
       "      <td>Toy Story (1995)</td>\n",
       "      <td>5</td>\n",
       "      <td>Animation|Children's|Comedy</td>\n",
       "      <td>95370</td>\n",
       "      <td>F</td>\n",
       "      <td>35</td>\n",
       "      <td>1</td>\n",
       "      <td>978226474.0</td>\n",
       "    </tr>\n",
       "  </tbody>\n",
       "</table>\n",
       "</div>"
      ],
      "text/plain": [
       "   UserID  MovieID             Title  Rating                       Genres  \\\n",
       "0       1        1  Toy Story (1995)       5  Animation|Children's|Comedy   \n",
       "1       6        1  Toy Story (1995)       4  Animation|Children's|Comedy   \n",
       "2       8        1  Toy Story (1995)       4  Animation|Children's|Comedy   \n",
       "3       9        1  Toy Story (1995)       5  Animation|Children's|Comedy   \n",
       "4      10        1  Toy Story (1995)       5  Animation|Children's|Comedy   \n",
       "\n",
       "  Zip-code Gender  Age  Occupation    Timestamp  \n",
       "0    48067      F    1          10  978824268.0  \n",
       "1    55117      F   50           9  978237008.0  \n",
       "2    11413      M   25          12  978233496.0  \n",
       "3    61614      M   25          17  978225952.0  \n",
       "4    95370      F   35           1  978226474.0  "
      ]
     },
     "execution_count": 21,
     "metadata": {},
     "output_type": "execute_result"
    }
   ],
   "source": [
    "master_data.head()"
   ]
  },
  {
   "cell_type": "code",
   "execution_count": 22,
   "metadata": {
    "execution": {
     "iopub.execute_input": "2020-11-25T04:41:22.023226Z",
     "iopub.status.busy": "2020-11-25T04:41:22.022049Z",
     "iopub.status.idle": "2020-11-25T04:41:22.307137Z",
     "shell.execute_reply": "2020-11-25T04:41:22.306154Z"
    },
    "papermill": {
     "duration": 0.380508,
     "end_time": "2020-11-25T04:41:22.307299",
     "exception": false,
     "start_time": "2020-11-25T04:41:21.926791",
     "status": "completed"
    },
    "tags": []
   },
   "outputs": [
    {
     "data": {
      "text/html": [
       "<div>\n",
       "<style scoped>\n",
       "    .dataframe tbody tr th:only-of-type {\n",
       "        vertical-align: middle;\n",
       "    }\n",
       "\n",
       "    .dataframe tbody tr th {\n",
       "        vertical-align: top;\n",
       "    }\n",
       "\n",
       "    .dataframe thead th {\n",
       "        text-align: right;\n",
       "    }\n",
       "</style>\n",
       "<table border=\"1\" class=\"dataframe\">\n",
       "  <thead>\n",
       "    <tr style=\"text-align: right;\">\n",
       "      <th></th>\n",
       "      <th>UserID</th>\n",
       "      <th>MovieID</th>\n",
       "      <th>Title</th>\n",
       "      <th>Rating</th>\n",
       "      <th>Genres</th>\n",
       "      <th>Zip-code</th>\n",
       "      <th>Gender</th>\n",
       "      <th>Age</th>\n",
       "      <th>Occupation</th>\n",
       "      <th>Timestamp</th>\n",
       "    </tr>\n",
       "  </thead>\n",
       "  <tbody>\n",
       "    <tr>\n",
       "      <th>0</th>\n",
       "      <td>1</td>\n",
       "      <td>1</td>\n",
       "      <td>Toy Story (1995)</td>\n",
       "      <td>5</td>\n",
       "      <td>Animation|Children's|Comedy</td>\n",
       "      <td>48067</td>\n",
       "      <td>F</td>\n",
       "      <td>1</td>\n",
       "      <td>10</td>\n",
       "      <td>9.788243e+08</td>\n",
       "    </tr>\n",
       "    <tr>\n",
       "      <th>1394</th>\n",
       "      <td>4079</td>\n",
       "      <td>1</td>\n",
       "      <td>Toy Story (1995)</td>\n",
       "      <td>4</td>\n",
       "      <td>Animation|Children's|Comedy</td>\n",
       "      <td>26505</td>\n",
       "      <td>M</td>\n",
       "      <td>35</td>\n",
       "      <td>17</td>\n",
       "      <td>9.654429e+08</td>\n",
       "    </tr>\n",
       "    <tr>\n",
       "      <th>1393</th>\n",
       "      <td>4077</td>\n",
       "      <td>1</td>\n",
       "      <td>Toy Story (1995)</td>\n",
       "      <td>4</td>\n",
       "      <td>Animation|Children's|Comedy</td>\n",
       "      <td>22030</td>\n",
       "      <td>F</td>\n",
       "      <td>35</td>\n",
       "      <td>2</td>\n",
       "      <td>9.654457e+08</td>\n",
       "    </tr>\n",
       "    <tr>\n",
       "      <th>1392</th>\n",
       "      <td>4064</td>\n",
       "      <td>1</td>\n",
       "      <td>Toy Story (1995)</td>\n",
       "      <td>5</td>\n",
       "      <td>Animation|Children's|Comedy</td>\n",
       "      <td>20851</td>\n",
       "      <td>M</td>\n",
       "      <td>45</td>\n",
       "      <td>0</td>\n",
       "      <td>9.654791e+08</td>\n",
       "    </tr>\n",
       "    <tr>\n",
       "      <th>1391</th>\n",
       "      <td>4063</td>\n",
       "      <td>1</td>\n",
       "      <td>Toy Story (1995)</td>\n",
       "      <td>5</td>\n",
       "      <td>Animation|Children's|Comedy</td>\n",
       "      <td>29070</td>\n",
       "      <td>F</td>\n",
       "      <td>35</td>\n",
       "      <td>1</td>\n",
       "      <td>9.875664e+08</td>\n",
       "    </tr>\n",
       "    <tr>\n",
       "      <th>...</th>\n",
       "      <td>...</td>\n",
       "      <td>...</td>\n",
       "      <td>...</td>\n",
       "      <td>...</td>\n",
       "      <td>...</td>\n",
       "      <td>...</td>\n",
       "      <td>...</td>\n",
       "      <td>...</td>\n",
       "      <td>...</td>\n",
       "      <td>...</td>\n",
       "    </tr>\n",
       "    <tr>\n",
       "      <th>999944</th>\n",
       "      <td>1255</td>\n",
       "      <td>3952</td>\n",
       "      <td>Contender, The (2000)</td>\n",
       "      <td>3</td>\n",
       "      <td>Drama|Thriller</td>\n",
       "      <td>94110</td>\n",
       "      <td>M</td>\n",
       "      <td>25</td>\n",
       "      <td>17</td>\n",
       "      <td>9.748220e+08</td>\n",
       "    </tr>\n",
       "    <tr>\n",
       "      <th>999943</th>\n",
       "      <td>1250</td>\n",
       "      <td>3952</td>\n",
       "      <td>Contender, The (2000)</td>\n",
       "      <td>3</td>\n",
       "      <td>Drama|Thriller</td>\n",
       "      <td>10573</td>\n",
       "      <td>M</td>\n",
       "      <td>50</td>\n",
       "      <td>0</td>\n",
       "      <td>9.748405e+08</td>\n",
       "    </tr>\n",
       "    <tr>\n",
       "      <th>999942</th>\n",
       "      <td>1243</td>\n",
       "      <td>3952</td>\n",
       "      <td>Contender, The (2000)</td>\n",
       "      <td>4</td>\n",
       "      <td>Drama|Thriller</td>\n",
       "      <td>92627</td>\n",
       "      <td>M</td>\n",
       "      <td>35</td>\n",
       "      <td>15</td>\n",
       "      <td>9.748538e+08</td>\n",
       "    </tr>\n",
       "    <tr>\n",
       "      <th>999964</th>\n",
       "      <td>1383</td>\n",
       "      <td>3952</td>\n",
       "      <td>Contender, The (2000)</td>\n",
       "      <td>4</td>\n",
       "      <td>Drama|Thriller</td>\n",
       "      <td>19806</td>\n",
       "      <td>F</td>\n",
       "      <td>25</td>\n",
       "      <td>7</td>\n",
       "      <td>9.835805e+08</td>\n",
       "    </tr>\n",
       "    <tr>\n",
       "      <th>1000208</th>\n",
       "      <td>5998</td>\n",
       "      <td>3952</td>\n",
       "      <td>Contender, The (2000)</td>\n",
       "      <td>4</td>\n",
       "      <td>Drama|Thriller</td>\n",
       "      <td>61820</td>\n",
       "      <td>M</td>\n",
       "      <td>18</td>\n",
       "      <td>4</td>\n",
       "      <td>1.001781e+09</td>\n",
       "    </tr>\n",
       "  </tbody>\n",
       "</table>\n",
       "<p>1000209 rows × 10 columns</p>\n",
       "</div>"
      ],
      "text/plain": [
       "         UserID  MovieID                  Title  Rating  \\\n",
       "0             1        1       Toy Story (1995)       5   \n",
       "1394       4079        1       Toy Story (1995)       4   \n",
       "1393       4077        1       Toy Story (1995)       4   \n",
       "1392       4064        1       Toy Story (1995)       5   \n",
       "1391       4063        1       Toy Story (1995)       5   \n",
       "...         ...      ...                    ...     ...   \n",
       "999944     1255     3952  Contender, The (2000)       3   \n",
       "999943     1250     3952  Contender, The (2000)       3   \n",
       "999942     1243     3952  Contender, The (2000)       4   \n",
       "999964     1383     3952  Contender, The (2000)       4   \n",
       "1000208    5998     3952  Contender, The (2000)       4   \n",
       "\n",
       "                              Genres Zip-code Gender  Age  Occupation  \\\n",
       "0        Animation|Children's|Comedy    48067      F    1          10   \n",
       "1394     Animation|Children's|Comedy    26505      M   35          17   \n",
       "1393     Animation|Children's|Comedy    22030      F   35           2   \n",
       "1392     Animation|Children's|Comedy    20851      M   45           0   \n",
       "1391     Animation|Children's|Comedy    29070      F   35           1   \n",
       "...                              ...      ...    ...  ...         ...   \n",
       "999944                Drama|Thriller    94110      M   25          17   \n",
       "999943                Drama|Thriller    10573      M   50           0   \n",
       "999942                Drama|Thriller    92627      M   35          15   \n",
       "999964                Drama|Thriller    19806      F   25           7   \n",
       "1000208               Drama|Thriller    61820      M   18           4   \n",
       "\n",
       "            Timestamp  \n",
       "0        9.788243e+08  \n",
       "1394     9.654429e+08  \n",
       "1393     9.654457e+08  \n",
       "1392     9.654791e+08  \n",
       "1391     9.875664e+08  \n",
       "...               ...  \n",
       "999944   9.748220e+08  \n",
       "999943   9.748405e+08  \n",
       "999942   9.748538e+08  \n",
       "999964   9.835805e+08  \n",
       "1000208  1.001781e+09  \n",
       "\n",
       "[1000209 rows x 10 columns]"
      ]
     },
     "execution_count": 22,
     "metadata": {},
     "output_type": "execute_result"
    }
   ],
   "source": [
    "master_data.sort_values(by=['MovieID'], ascending=True)"
   ]
  },
  {
   "cell_type": "markdown",
   "metadata": {
    "papermill": {
     "duration": 0.088216,
     "end_time": "2020-11-25T04:41:22.506358",
     "exception": false,
     "start_time": "2020-11-25T04:41:22.418142",
     "status": "completed"
    },
    "tags": []
   },
   "source": [
    "***"
   ]
  },
  {
   "cell_type": "markdown",
   "metadata": {
    "papermill": {
     "duration": 0.15752,
     "end_time": "2020-11-25T04:41:22.752124",
     "exception": false,
     "start_time": "2020-11-25T04:41:22.594604",
     "status": "completed"
    },
    "tags": []
   },
   "source": [
    "## View the distribution of user ages"
   ]
  },
  {
   "cell_type": "code",
   "execution_count": 23,
   "metadata": {
    "execution": {
     "iopub.execute_input": "2020-11-25T04:41:22.938076Z",
     "iopub.status.busy": "2020-11-25T04:41:22.937300Z",
     "iopub.status.idle": "2020-11-25T04:41:23.307068Z",
     "shell.execute_reply": "2020-11-25T04:41:23.306390Z"
    },
    "papermill": {
     "duration": 0.464729,
     "end_time": "2020-11-25T04:41:23.307226",
     "exception": false,
     "start_time": "2020-11-25T04:41:22.842497",
     "status": "completed"
    },
    "tags": []
   },
   "outputs": [
    {
     "data": {
      "text/plain": [
       "array([[<matplotlib.axes._subplots.AxesSubplot object at 0x7f8a808bc1d0>]],\n",
       "      dtype=object)"
      ]
     },
     "execution_count": 23,
     "metadata": {},
     "output_type": "execute_result"
    },
    {
     "data": {
      "image/png": "[encoded data removed]",
      "text/plain": [
       "<Figure size 432x288 with 1 Axes>"
      ]
     },
     "metadata": {
      "needs_background": "light"
     },
     "output_type": "display_data"
    }
   ],
   "source": [
    "master_data.hist(column='Age')"
   ]
  },
  {
   "cell_type": "markdown",
   "metadata": {
    "papermill": {
     "duration": 0.092345,
     "end_time": "2020-11-25T04:41:23.491235",
     "exception": false,
     "start_time": "2020-11-25T04:41:23.398890",
     "status": "completed"
    },
    "tags": []
   },
   "source": [
    "In the user data set, we have ages mapped to categorical numbers using this table from the description of the dataset: \n",
    "\n",
    "**Value  \tDescription**\n",
    "\n",
    "1  = \"Under 18\"\n",
    "\n",
    "18 = \"18-24\"\n",
    "\n",
    "25 = \"25-34\"\n",
    "\n",
    "35 = \"35-44\"\n",
    "\n",
    "45 = \"45-49\"\n",
    "\n",
    "50 = \"50-55\"\n",
    "\n",
    "56 = \"56+\"\n"
   ]
  },
  {
   "cell_type": "markdown",
   "metadata": {
    "papermill": {
     "duration": 0.092765,
     "end_time": "2020-11-25T04:41:23.676097",
     "exception": false,
     "start_time": "2020-11-25T04:41:23.583332",
     "status": "completed"
    },
    "tags": []
   },
   "source": [
    "Let's redraw our histogram based on our newly mapped bin values"
   ]
  },
  {
   "cell_type": "code",
   "execution_count": 24,
   "metadata": {
    "execution": {
     "iopub.execute_input": "2020-11-25T04:41:23.867703Z",
     "iopub.status.busy": "2020-11-25T04:41:23.866645Z",
     "iopub.status.idle": "2020-11-25T04:41:23.870053Z",
     "shell.execute_reply": "2020-11-25T04:41:23.869446Z"
    },
    "papermill": {
     "duration": 0.103357,
     "end_time": "2020-11-25T04:41:23.870215",
     "exception": false,
     "start_time": "2020-11-25T04:41:23.766858",
     "status": "completed"
    },
    "tags": []
   },
   "outputs": [],
   "source": [
    "bins_list = [1, 18, 25, 35, 45, 50, 56]"
   ]
  },
  {
   "cell_type": "code",
   "execution_count": 25,
   "metadata": {
    "execution": {
     "iopub.execute_input": "2020-11-25T04:41:24.072682Z",
     "iopub.status.busy": "2020-11-25T04:41:24.064805Z",
     "iopub.status.idle": "2020-11-25T04:41:24.326788Z",
     "shell.execute_reply": "2020-11-25T04:41:24.325953Z"
    },
    "papermill": {
     "duration": 0.36527,
     "end_time": "2020-11-25T04:41:24.326922",
     "exception": false,
     "start_time": "2020-11-25T04:41:23.961652",
     "status": "completed"
    },
    "tags": []
   },
   "outputs": [
    {
     "data": {
      "text/plain": [
       "array([[<matplotlib.axes._subplots.AxesSubplot object at 0x7f8a80910d90>]],\n",
       "      dtype=object)"
      ]
     },
     "execution_count": 25,
     "metadata": {},
     "output_type": "execute_result"
    },
    {
     "data": {
      "image/png": "[encoded data removed]",
      "text/plain": [
       "<Figure size 432x288 with 1 Axes>"
      ]
     },
     "metadata": {
      "needs_background": "light"
     },
     "output_type": "display_data"
    }
   ],
   "source": [
    "master_data.hist(column='Age', bins = bins_list)"
   ]
  },
  {
   "cell_type": "markdown",
   "metadata": {
    "papermill": {
     "duration": 0.09249,
     "end_time": "2020-11-25T04:41:24.513953",
     "exception": false,
     "start_time": "2020-11-25T04:41:24.421463",
     "status": "completed"
    },
    "tags": []
   },
   "source": [
    "***"
   ]
  },
  {
   "cell_type": "markdown",
   "metadata": {
    "papermill": {
     "duration": 0.093148,
     "end_time": "2020-11-25T04:41:24.699414",
     "exception": false,
     "start_time": "2020-11-25T04:41:24.606266",
     "status": "completed"
    },
    "tags": []
   },
   "source": [
    "## User rating on the movie Toy Story"
   ]
  },
  {
   "cell_type": "markdown",
   "metadata": {
    "papermill": {
     "duration": 0.093631,
     "end_time": "2020-11-25T04:41:24.887084",
     "exception": false,
     "start_time": "2020-11-25T04:41:24.793453",
     "status": "completed"
    },
    "tags": []
   },
   "source": [
    "Toy story is MovieID = 1, let's get a distribution of ratings on that single ID"
   ]
  },
  {
   "cell_type": "code",
   "execution_count": 26,
   "metadata": {
    "execution": {
     "iopub.execute_input": "2020-11-25T04:41:25.084989Z",
     "iopub.status.busy": "2020-11-25T04:41:25.084227Z",
     "iopub.status.idle": "2020-11-25T04:41:25.379961Z",
     "shell.execute_reply": "2020-11-25T04:41:25.379093Z"
    },
    "papermill": {
     "duration": 0.398616,
     "end_time": "2020-11-25T04:41:25.380145",
     "exception": false,
     "start_time": "2020-11-25T04:41:24.981529",
     "status": "completed"
    },
    "tags": []
   },
   "outputs": [
    {
     "data": {
      "text/plain": [
       "array([[<matplotlib.axes._subplots.AxesSubplot object at 0x7f8a80993910>]],\n",
       "      dtype=object)"
      ]
     },
     "execution_count": 26,
     "metadata": {},
     "output_type": "execute_result"
    },
    {
     "data": {
      "image/png": "[encoded data removed]",
      "text/plain": [
       "<Figure size 432x288 with 1 Axes>"
      ]
     },
     "metadata": {
      "needs_background": "light"
     },
     "output_type": "display_data"
    }
   ],
   "source": [
    "master_data[master_data['MovieID'] == 1].hist(column='Rating')"
   ]
  },
  {
   "cell_type": "markdown",
   "metadata": {
    "papermill": {
     "duration": 0.095162,
     "end_time": "2020-11-25T04:41:25.574289",
     "exception": false,
     "start_time": "2020-11-25T04:41:25.479127",
     "status": "completed"
    },
    "tags": []
   },
   "source": [
    "How many data points are we dealing with when we draw this histogram for Toy Story ratings"
   ]
  },
  {
   "cell_type": "code",
   "execution_count": 27,
   "metadata": {
    "execution": {
     "iopub.execute_input": "2020-11-25T04:41:25.772821Z",
     "iopub.status.busy": "2020-11-25T04:41:25.772024Z",
     "iopub.status.idle": "2020-11-25T04:41:25.783733Z",
     "shell.execute_reply": "2020-11-25T04:41:25.784490Z"
    },
    "papermill": {
     "duration": 0.113399,
     "end_time": "2020-11-25T04:41:25.784654",
     "exception": false,
     "start_time": "2020-11-25T04:41:25.671255",
     "status": "completed"
    },
    "tags": []
   },
   "outputs": [
    {
     "data": {
      "text/plain": [
       "UserID        2077\n",
       "MovieID       2077\n",
       "Title         2077\n",
       "Rating        2077\n",
       "Genres        2077\n",
       "Zip-code      2077\n",
       "Gender        2077\n",
       "Age           2077\n",
       "Occupation    2077\n",
       "Timestamp     2077\n",
       "dtype: int64"
      ]
     },
     "execution_count": 27,
     "metadata": {},
     "output_type": "execute_result"
    }
   ],
   "source": [
    "master_data[master_data['MovieID'] == 1].count()"
   ]
  },
  {
   "cell_type": "markdown",
   "metadata": {
    "papermill": {
     "duration": 0.094399,
     "end_time": "2020-11-25T04:41:25.974815",
     "exception": false,
     "start_time": "2020-11-25T04:41:25.880416",
     "status": "completed"
    },
    "tags": []
   },
   "source": [
    "***"
   ]
  },
  {
   "cell_type": "markdown",
   "metadata": {
    "papermill": {
     "duration": 0.095813,
     "end_time": "2020-11-25T04:41:26.164779",
     "exception": false,
     "start_time": "2020-11-25T04:41:26.068966",
     "status": "completed"
    },
    "tags": []
   },
   "source": [
    "## Average rating of Toy Story"
   ]
  },
  {
   "cell_type": "code",
   "execution_count": 28,
   "metadata": {
    "execution": {
     "iopub.execute_input": "2020-11-25T04:41:26.361890Z",
     "iopub.status.busy": "2020-11-25T04:41:26.360989Z",
     "iopub.status.idle": "2020-11-25T04:41:26.369185Z",
     "shell.execute_reply": "2020-11-25T04:41:26.369809Z"
    },
    "papermill": {
     "duration": 0.111271,
     "end_time": "2020-11-25T04:41:26.369967",
     "exception": false,
     "start_time": "2020-11-25T04:41:26.258696",
     "status": "completed"
    },
    "tags": []
   },
   "outputs": [
    {
     "data": {
      "text/plain": [
       "4.146846413095811"
      ]
     },
     "execution_count": 28,
     "metadata": {},
     "output_type": "execute_result"
    }
   ],
   "source": [
    "master_data[master_data['MovieID'] == 1].Rating.mean()"
   ]
  },
  {
   "cell_type": "markdown",
   "metadata": {
    "papermill": {
     "duration": 0.095156,
     "end_time": "2020-11-25T04:41:26.561061",
     "exception": false,
     "start_time": "2020-11-25T04:41:26.465905",
     "status": "completed"
    },
    "tags": []
   },
   "source": [
    "***"
   ]
  },
  {
   "cell_type": "markdown",
   "metadata": {
    "papermill": {
     "duration": 0.107167,
     "end_time": "2020-11-25T04:41:26.769973",
     "exception": false,
     "start_time": "2020-11-25T04:41:26.662806",
     "status": "completed"
    },
    "tags": []
   },
   "source": [
    "## Top 25 movies by rating of entire viewership"
   ]
  },
  {
   "cell_type": "markdown",
   "metadata": {
    "papermill": {
     "duration": 0.174505,
     "end_time": "2020-11-25T04:41:27.069489",
     "exception": false,
     "start_time": "2020-11-25T04:41:26.894984",
     "status": "completed"
    },
    "tags": []
   },
   "source": [
    "Let's sort the master data by rating"
   ]
  },
  {
   "cell_type": "code",
   "execution_count": 29,
   "metadata": {
    "execution": {
     "iopub.execute_input": "2020-11-25T04:41:27.330503Z",
     "iopub.status.busy": "2020-11-25T04:41:27.329355Z",
     "iopub.status.idle": "2020-11-25T04:41:27.678943Z",
     "shell.execute_reply": "2020-11-25T04:41:27.677933Z"
    },
    "papermill": {
     "duration": 0.454983,
     "end_time": "2020-11-25T04:41:27.679131",
     "exception": false,
     "start_time": "2020-11-25T04:41:27.224148",
     "status": "completed"
    },
    "tags": []
   },
   "outputs": [
    {
     "data": {
      "text/html": [
       "<div>\n",
       "<style scoped>\n",
       "    .dataframe tbody tr th:only-of-type {\n",
       "        vertical-align: middle;\n",
       "    }\n",
       "\n",
       "    .dataframe tbody tr th {\n",
       "        vertical-align: top;\n",
       "    }\n",
       "\n",
       "    .dataframe thead th {\n",
       "        text-align: right;\n",
       "    }\n",
       "</style>\n",
       "<table border=\"1\" class=\"dataframe\">\n",
       "  <thead>\n",
       "    <tr style=\"text-align: right;\">\n",
       "      <th></th>\n",
       "      <th>UserID</th>\n",
       "      <th>MovieID</th>\n",
       "      <th>Title</th>\n",
       "      <th>Rating</th>\n",
       "      <th>Genres</th>\n",
       "      <th>Zip-code</th>\n",
       "      <th>Gender</th>\n",
       "      <th>Age</th>\n",
       "      <th>Occupation</th>\n",
       "      <th>Timestamp</th>\n",
       "    </tr>\n",
       "  </thead>\n",
       "  <tbody>\n",
       "    <tr>\n",
       "      <th>0</th>\n",
       "      <td>1</td>\n",
       "      <td>1</td>\n",
       "      <td>Toy Story (1995)</td>\n",
       "      <td>5</td>\n",
       "      <td>Animation|Children's|Comedy</td>\n",
       "      <td>48067</td>\n",
       "      <td>F</td>\n",
       "      <td>1</td>\n",
       "      <td>10</td>\n",
       "      <td>978824268.0</td>\n",
       "    </tr>\n",
       "    <tr>\n",
       "      <th>657724</th>\n",
       "      <td>101</td>\n",
       "      <td>2409</td>\n",
       "      <td>Rocky II (1979)</td>\n",
       "      <td>5</td>\n",
       "      <td>Action|Drama</td>\n",
       "      <td>33314</td>\n",
       "      <td>F</td>\n",
       "      <td>18</td>\n",
       "      <td>3</td>\n",
       "      <td>977578472.0</td>\n",
       "    </tr>\n",
       "    <tr>\n",
       "      <th>244214</th>\n",
       "      <td>447</td>\n",
       "      <td>1012</td>\n",
       "      <td>Old Yeller (1957)</td>\n",
       "      <td>5</td>\n",
       "      <td>Children's|Drama</td>\n",
       "      <td>55105</td>\n",
       "      <td>F</td>\n",
       "      <td>45</td>\n",
       "      <td>11</td>\n",
       "      <td>976236279.0</td>\n",
       "    </tr>\n",
       "    <tr>\n",
       "      <th>657745</th>\n",
       "      <td>549</td>\n",
       "      <td>2409</td>\n",
       "      <td>Rocky II (1979)</td>\n",
       "      <td>5</td>\n",
       "      <td>Action|Drama</td>\n",
       "      <td>53217</td>\n",
       "      <td>M</td>\n",
       "      <td>25</td>\n",
       "      <td>6</td>\n",
       "      <td>976119207.0</td>\n",
       "    </tr>\n",
       "    <tr>\n",
       "      <th>657752</th>\n",
       "      <td>684</td>\n",
       "      <td>2409</td>\n",
       "      <td>Rocky II (1979)</td>\n",
       "      <td>5</td>\n",
       "      <td>Action|Drama</td>\n",
       "      <td>27510</td>\n",
       "      <td>M</td>\n",
       "      <td>25</td>\n",
       "      <td>4</td>\n",
       "      <td>975603281.0</td>\n",
       "    </tr>\n",
       "    <tr>\n",
       "      <th>...</th>\n",
       "      <td>...</td>\n",
       "      <td>...</td>\n",
       "      <td>...</td>\n",
       "      <td>...</td>\n",
       "      <td>...</td>\n",
       "      <td>...</td>\n",
       "      <td>...</td>\n",
       "      <td>...</td>\n",
       "      <td>...</td>\n",
       "      <td>...</td>\n",
       "    </tr>\n",
       "    <tr>\n",
       "      <th>88980</th>\n",
       "      <td>1356</td>\n",
       "      <td>330</td>\n",
       "      <td>Tales from the Hood (1995)</td>\n",
       "      <td>1</td>\n",
       "      <td>Comedy|Horror</td>\n",
       "      <td>91706</td>\n",
       "      <td>F</td>\n",
       "      <td>18</td>\n",
       "      <td>4</td>\n",
       "      <td>974771771.0</td>\n",
       "    </tr>\n",
       "    <tr>\n",
       "      <th>874229</th>\n",
       "      <td>1726</td>\n",
       "      <td>3274</td>\n",
       "      <td>Single White Female (1992)</td>\n",
       "      <td>1</td>\n",
       "      <td>Action</td>\n",
       "      <td>60160</td>\n",
       "      <td>M</td>\n",
       "      <td>25</td>\n",
       "      <td>2</td>\n",
       "      <td>974711336.0</td>\n",
       "    </tr>\n",
       "    <tr>\n",
       "      <th>88982</th>\n",
       "      <td>1447</td>\n",
       "      <td>330</td>\n",
       "      <td>Tales from the Hood (1995)</td>\n",
       "      <td>1</td>\n",
       "      <td>Comedy|Horror</td>\n",
       "      <td>80521</td>\n",
       "      <td>M</td>\n",
       "      <td>18</td>\n",
       "      <td>4</td>\n",
       "      <td>981017854.0</td>\n",
       "    </tr>\n",
       "    <tr>\n",
       "      <th>874220</th>\n",
       "      <td>1616</td>\n",
       "      <td>3274</td>\n",
       "      <td>Single White Female (1992)</td>\n",
       "      <td>1</td>\n",
       "      <td>Action</td>\n",
       "      <td>16101</td>\n",
       "      <td>M</td>\n",
       "      <td>25</td>\n",
       "      <td>0</td>\n",
       "      <td>989848550.0</td>\n",
       "    </tr>\n",
       "    <tr>\n",
       "      <th>500104</th>\n",
       "      <td>1141</td>\n",
       "      <td>1835</td>\n",
       "      <td>City of Angels (1998)</td>\n",
       "      <td>1</td>\n",
       "      <td>Romance</td>\n",
       "      <td>84770</td>\n",
       "      <td>F</td>\n",
       "      <td>25</td>\n",
       "      <td>3</td>\n",
       "      <td>974876595.0</td>\n",
       "    </tr>\n",
       "  </tbody>\n",
       "</table>\n",
       "<p>1000209 rows × 10 columns</p>\n",
       "</div>"
      ],
      "text/plain": [
       "        UserID  MovieID                       Title  Rating  \\\n",
       "0            1        1            Toy Story (1995)       5   \n",
       "657724     101     2409             Rocky II (1979)       5   \n",
       "244214     447     1012           Old Yeller (1957)       5   \n",
       "657745     549     2409             Rocky II (1979)       5   \n",
       "657752     684     2409             Rocky II (1979)       5   \n",
       "...        ...      ...                         ...     ...   \n",
       "88980     1356      330  Tales from the Hood (1995)       1   \n",
       "874229    1726     3274  Single White Female (1992)       1   \n",
       "88982     1447      330  Tales from the Hood (1995)       1   \n",
       "874220    1616     3274  Single White Female (1992)       1   \n",
       "500104    1141     1835       City of Angels (1998)       1   \n",
       "\n",
       "                             Genres Zip-code Gender  Age  Occupation  \\\n",
       "0       Animation|Children's|Comedy    48067      F    1          10   \n",
       "657724                 Action|Drama    33314      F   18           3   \n",
       "244214             Children's|Drama    55105      F   45          11   \n",
       "657745                 Action|Drama    53217      M   25           6   \n",
       "657752                 Action|Drama    27510      M   25           4   \n",
       "...                             ...      ...    ...  ...         ...   \n",
       "88980                 Comedy|Horror    91706      F   18           4   \n",
       "874229                       Action    60160      M   25           2   \n",
       "88982                 Comedy|Horror    80521      M   18           4   \n",
       "874220                       Action    16101      M   25           0   \n",
       "500104                      Romance    84770      F   25           3   \n",
       "\n",
       "          Timestamp  \n",
       "0       978824268.0  \n",
       "657724  977578472.0  \n",
       "244214  976236279.0  \n",
       "657745  976119207.0  \n",
       "657752  975603281.0  \n",
       "...             ...  \n",
       "88980   974771771.0  \n",
       "874229  974711336.0  \n",
       "88982   981017854.0  \n",
       "874220  989848550.0  \n",
       "500104  974876595.0  \n",
       "\n",
       "[1000209 rows x 10 columns]"
      ]
     },
     "execution_count": 29,
     "metadata": {},
     "output_type": "execute_result"
    }
   ],
   "source": [
    "master_data.sort_values(by=['Rating'], ascending=False)"
   ]
  },
  {
   "cell_type": "markdown",
   "metadata": {
    "papermill": {
     "duration": 0.102809,
     "end_time": "2020-11-25T04:41:27.880897",
     "exception": false,
     "start_time": "2020-11-25T04:41:27.778088",
     "status": "completed"
    },
    "tags": []
   },
   "source": [
    "How many 5 star ratings are there?"
   ]
  },
  {
   "cell_type": "code",
   "execution_count": 30,
   "metadata": {
    "execution": {
     "iopub.execute_input": "2020-11-25T04:41:28.081476Z",
     "iopub.status.busy": "2020-11-25T04:41:28.080425Z",
     "iopub.status.idle": "2020-11-25T04:41:28.124201Z",
     "shell.execute_reply": "2020-11-25T04:41:28.122968Z"
    },
    "papermill": {
     "duration": 0.146545,
     "end_time": "2020-11-25T04:41:28.124389",
     "exception": false,
     "start_time": "2020-11-25T04:41:27.977844",
     "status": "completed"
    },
    "tags": []
   },
   "outputs": [
    {
     "data": {
      "text/plain": [
       "226310"
      ]
     },
     "execution_count": 30,
     "metadata": {},
     "output_type": "execute_result"
    }
   ],
   "source": [
    "master_data[master_data['Rating'] == 5].Rating.count()"
   ]
  },
  {
   "cell_type": "markdown",
   "metadata": {
    "papermill": {
     "duration": 0.096558,
     "end_time": "2020-11-25T04:41:28.322606",
     "exception": false,
     "start_time": "2020-11-25T04:41:28.226048",
     "status": "completed"
    },
    "tags": []
   },
   "source": [
    "We need to find the unique users who rated movies at rating = 5"
   ]
  },
  {
   "cell_type": "code",
   "execution_count": 31,
   "metadata": {
    "execution": {
     "iopub.execute_input": "2020-11-25T04:41:28.521221Z",
     "iopub.status.busy": "2020-11-25T04:41:28.520097Z",
     "iopub.status.idle": "2020-11-25T04:41:28.583619Z",
     "shell.execute_reply": "2020-11-25T04:41:28.582970Z"
    },
    "papermill": {
     "duration": 0.16475,
     "end_time": "2020-11-25T04:41:28.583759",
     "exception": false,
     "start_time": "2020-11-25T04:41:28.419009",
     "status": "completed"
    },
    "tags": []
   },
   "outputs": [
    {
     "data": {
      "text/plain": [
       "array(['Toy Story (1995)', 'Jumanji (1995)', 'Grumpier Old Men (1995)',\n",
       "       ..., 'Tigerland (2000)', 'Two Family House (2000)',\n",
       "       'Contender, The (2000)'], dtype=object)"
      ]
     },
     "execution_count": 31,
     "metadata": {},
     "output_type": "execute_result"
    }
   ],
   "source": [
    "master_data[master_data['Rating'] == 5].Title.unique()"
   ]
  },
  {
   "cell_type": "markdown",
   "metadata": {
    "papermill": {
     "duration": 0.096752,
     "end_time": "2020-11-25T04:41:28.787758",
     "exception": false,
     "start_time": "2020-11-25T04:41:28.691006",
     "status": "completed"
    },
    "tags": []
   },
   "source": [
    "Movies that had the most numerous ratings"
   ]
  },
  {
   "cell_type": "code",
   "execution_count": 32,
   "metadata": {
    "execution": {
     "iopub.execute_input": "2020-11-25T04:41:29.008263Z",
     "iopub.status.busy": "2020-11-25T04:41:29.007347Z",
     "iopub.status.idle": "2020-11-25T04:41:29.155363Z",
     "shell.execute_reply": "2020-11-25T04:41:29.154546Z"
    },
    "papermill": {
     "duration": 0.270667,
     "end_time": "2020-11-25T04:41:29.155491",
     "exception": false,
     "start_time": "2020-11-25T04:41:28.884824",
     "status": "completed"
    },
    "tags": []
   },
   "outputs": [],
   "source": [
    "most_rated = master_data.groupby('Title').size().sort_values(ascending=False)[:25]"
   ]
  },
  {
   "cell_type": "code",
   "execution_count": 33,
   "metadata": {
    "execution": {
     "iopub.execute_input": "2020-11-25T04:41:29.360592Z",
     "iopub.status.busy": "2020-11-25T04:41:29.359639Z",
     "iopub.status.idle": "2020-11-25T04:41:29.365005Z",
     "shell.execute_reply": "2020-11-25T04:41:29.364270Z"
    },
    "papermill": {
     "duration": 0.111694,
     "end_time": "2020-11-25T04:41:29.365160",
     "exception": false,
     "start_time": "2020-11-25T04:41:29.253466",
     "status": "completed"
    },
    "tags": []
   },
   "outputs": [
    {
     "data": {
      "text/plain": [
       "Title\n",
       "American Beauty (1999)                                   3428\n",
       "Star Wars: Episode IV - A New Hope (1977)                2991\n",
       "Star Wars: Episode V - The Empire Strikes Back (1980)    2990\n",
       "Star Wars: Episode VI - Return of the Jedi (1983)        2883\n",
       "Jurassic Park (1993)                                     2672\n",
       "Saving Private Ryan (1998)                               2653\n",
       "Terminator 2: Judgment Day (1991)                        2649\n",
       "Matrix, The (1999)                                       2590\n",
       "Back to the Future (1985)                                2583\n",
       "Silence of the Lambs, The (1991)                         2578\n",
       "Men in Black (1997)                                      2538\n",
       "Raiders of the Lost Ark (1981)                           2514\n",
       "Fargo (1996)                                             2513\n",
       "Sixth Sense, The (1999)                                  2459\n",
       "Braveheart (1995)                                        2443\n",
       "Shakespeare in Love (1998)                               2369\n",
       "Princess Bride, The (1987)                               2318\n",
       "Schindler's List (1993)                                  2304\n",
       "L.A. Confidential (1997)                                 2288\n",
       "Groundhog Day (1993)                                     2278\n",
       "E.T. the Extra-Terrestrial (1982)                        2269\n",
       "Star Wars: Episode I - The Phantom Menace (1999)         2250\n",
       "Being John Malkovich (1999)                              2241\n",
       "Shawshank Redemption, The (1994)                         2227\n",
       "Godfather, The (1972)                                    2223\n",
       "dtype: int64"
      ]
     },
     "execution_count": 33,
     "metadata": {},
     "output_type": "execute_result"
    }
   ],
   "source": [
    "most_rated"
   ]
  },
  {
   "cell_type": "markdown",
   "metadata": {
    "papermill": {
     "duration": 0.096943,
     "end_time": "2020-11-25T04:41:29.559933",
     "exception": false,
     "start_time": "2020-11-25T04:41:29.462990",
     "status": "completed"
    },
    "tags": []
   },
   "source": [
    "***"
   ]
  },
  {
   "cell_type": "markdown",
   "metadata": {
    "papermill": {
     "duration": 0.09651,
     "end_time": "2020-11-25T04:41:29.753122",
     "exception": false,
     "start_time": "2020-11-25T04:41:29.656612",
     "status": "completed"
    },
    "tags": []
   },
   "source": [
    "## Find the ratings for all the movies reviewed by for a particular user of user id = 2696\n"
   ]
  },
  {
   "cell_type": "code",
   "execution_count": 34,
   "metadata": {
    "execution": {
     "iopub.execute_input": "2020-11-25T04:41:29.956092Z",
     "iopub.status.busy": "2020-11-25T04:41:29.955163Z",
     "iopub.status.idle": "2020-11-25T04:41:29.960207Z",
     "shell.execute_reply": "2020-11-25T04:41:29.959429Z"
    },
    "papermill": {
     "duration": 0.109831,
     "end_time": "2020-11-25T04:41:29.960339",
     "exception": false,
     "start_time": "2020-11-25T04:41:29.850508",
     "status": "completed"
    },
    "tags": []
   },
   "outputs": [],
   "source": [
    "user2696 = master_data[master_data['UserID'] == 2696]"
   ]
  },
  {
   "cell_type": "code",
   "execution_count": 35,
   "metadata": {
    "execution": {
     "iopub.execute_input": "2020-11-25T04:41:30.163151Z",
     "iopub.status.busy": "2020-11-25T04:41:30.162084Z",
     "iopub.status.idle": "2020-11-25T04:41:30.167215Z",
     "shell.execute_reply": "2020-11-25T04:41:30.166524Z"
    },
    "papermill": {
     "duration": 0.108029,
     "end_time": "2020-11-25T04:41:30.167362",
     "exception": false,
     "start_time": "2020-11-25T04:41:30.059333",
     "status": "completed"
    },
    "tags": []
   },
   "outputs": [
    {
     "data": {
      "text/plain": [
       "(20, 10)"
      ]
     },
     "execution_count": 35,
     "metadata": {},
     "output_type": "execute_result"
    }
   ],
   "source": [
    "user2696.shape"
   ]
  },
  {
   "cell_type": "code",
   "execution_count": 36,
   "metadata": {
    "execution": {
     "iopub.execute_input": "2020-11-25T04:41:30.450998Z",
     "iopub.status.busy": "2020-11-25T04:41:30.448200Z",
     "iopub.status.idle": "2020-11-25T04:41:30.458417Z",
     "shell.execute_reply": "2020-11-25T04:41:30.457285Z"
    },
    "papermill": {
     "duration": 0.176936,
     "end_time": "2020-11-25T04:41:30.458621",
     "exception": false,
     "start_time": "2020-11-25T04:41:30.281685",
     "status": "completed"
    },
    "tags": []
   },
   "outputs": [
    {
     "data": {
      "text/html": [
       "<div>\n",
       "<style scoped>\n",
       "    .dataframe tbody tr th:only-of-type {\n",
       "        vertical-align: middle;\n",
       "    }\n",
       "\n",
       "    .dataframe tbody tr th {\n",
       "        vertical-align: top;\n",
       "    }\n",
       "\n",
       "    .dataframe thead th {\n",
       "        text-align: right;\n",
       "    }\n",
       "</style>\n",
       "<table border=\"1\" class=\"dataframe\">\n",
       "  <thead>\n",
       "    <tr style=\"text-align: right;\">\n",
       "      <th></th>\n",
       "      <th>UserID</th>\n",
       "      <th>MovieID</th>\n",
       "      <th>Title</th>\n",
       "      <th>Rating</th>\n",
       "      <th>Genres</th>\n",
       "      <th>Zip-code</th>\n",
       "      <th>Gender</th>\n",
       "      <th>Age</th>\n",
       "      <th>Occupation</th>\n",
       "      <th>Timestamp</th>\n",
       "    </tr>\n",
       "  </thead>\n",
       "  <tbody>\n",
       "    <tr>\n",
       "      <th>95261</th>\n",
       "      <td>2696</td>\n",
       "      <td>350</td>\n",
       "      <td>Client, The (1994)</td>\n",
       "      <td>3</td>\n",
       "      <td>Drama|Mystery|Thriller</td>\n",
       "      <td>24210</td>\n",
       "      <td>M</td>\n",
       "      <td>25</td>\n",
       "      <td>7</td>\n",
       "      <td>973308886.0</td>\n",
       "    </tr>\n",
       "    <tr>\n",
       "      <th>200536</th>\n",
       "      <td>2696</td>\n",
       "      <td>800</td>\n",
       "      <td>Lone Star (1996)</td>\n",
       "      <td>5</td>\n",
       "      <td>Drama|Mystery</td>\n",
       "      <td>24210</td>\n",
       "      <td>M</td>\n",
       "      <td>25</td>\n",
       "      <td>7</td>\n",
       "      <td>973308842.0</td>\n",
       "    </tr>\n",
       "    <tr>\n",
       "      <th>270342</th>\n",
       "      <td>2696</td>\n",
       "      <td>1092</td>\n",
       "      <td>Basic Instinct (1992)</td>\n",
       "      <td>4</td>\n",
       "      <td>Mystery|Thriller</td>\n",
       "      <td>24210</td>\n",
       "      <td>M</td>\n",
       "      <td>25</td>\n",
       "      <td>7</td>\n",
       "      <td>973308886.0</td>\n",
       "    </tr>\n",
       "    <tr>\n",
       "      <th>274576</th>\n",
       "      <td>2696</td>\n",
       "      <td>1097</td>\n",
       "      <td>E.T. the Extra-Terrestrial (1982)</td>\n",
       "      <td>3</td>\n",
       "      <td>Children's|Drama|Fantasy|Sci-Fi</td>\n",
       "      <td>24210</td>\n",
       "      <td>M</td>\n",
       "      <td>25</td>\n",
       "      <td>7</td>\n",
       "      <td>973308690.0</td>\n",
       "    </tr>\n",
       "    <tr>\n",
       "      <th>349333</th>\n",
       "      <td>2696</td>\n",
       "      <td>1258</td>\n",
       "      <td>Shining, The (1980)</td>\n",
       "      <td>4</td>\n",
       "      <td>Horror</td>\n",
       "      <td>24210</td>\n",
       "      <td>M</td>\n",
       "      <td>25</td>\n",
       "      <td>7</td>\n",
       "      <td>973308710.0</td>\n",
       "    </tr>\n",
       "    <tr>\n",
       "      <th>360382</th>\n",
       "      <td>2696</td>\n",
       "      <td>1270</td>\n",
       "      <td>Back to the Future (1985)</td>\n",
       "      <td>2</td>\n",
       "      <td>Comedy|Sci-Fi</td>\n",
       "      <td>24210</td>\n",
       "      <td>M</td>\n",
       "      <td>25</td>\n",
       "      <td>7</td>\n",
       "      <td>973308676.0</td>\n",
       "    </tr>\n",
       "    <tr>\n",
       "      <th>448293</th>\n",
       "      <td>2696</td>\n",
       "      <td>1589</td>\n",
       "      <td>Cop Land (1997)</td>\n",
       "      <td>3</td>\n",
       "      <td>Crime|Drama|Mystery</td>\n",
       "      <td>24210</td>\n",
       "      <td>M</td>\n",
       "      <td>25</td>\n",
       "      <td>7</td>\n",
       "      <td>973308865.0</td>\n",
       "    </tr>\n",
       "    <tr>\n",
       "      <th>457193</th>\n",
       "      <td>2696</td>\n",
       "      <td>1617</td>\n",
       "      <td>L.A. Confidential (1997)</td>\n",
       "      <td>4</td>\n",
       "      <td>Crime|Film-Noir|Mystery|Thriller</td>\n",
       "      <td>24210</td>\n",
       "      <td>M</td>\n",
       "      <td>25</td>\n",
       "      <td>7</td>\n",
       "      <td>973308842.0</td>\n",
       "    </tr>\n",
       "    <tr>\n",
       "      <th>459835</th>\n",
       "      <td>2696</td>\n",
       "      <td>1625</td>\n",
       "      <td>Game, The (1997)</td>\n",
       "      <td>4</td>\n",
       "      <td>Mystery|Thriller</td>\n",
       "      <td>24210</td>\n",
       "      <td>M</td>\n",
       "      <td>25</td>\n",
       "      <td>7</td>\n",
       "      <td>973308842.0</td>\n",
       "    </tr>\n",
       "    <tr>\n",
       "      <th>464473</th>\n",
       "      <td>2696</td>\n",
       "      <td>1644</td>\n",
       "      <td>I Know What You Did Last Summer (1997)</td>\n",
       "      <td>2</td>\n",
       "      <td>Horror|Mystery|Thriller</td>\n",
       "      <td>24210</td>\n",
       "      <td>M</td>\n",
       "      <td>25</td>\n",
       "      <td>7</td>\n",
       "      <td>973308920.0</td>\n",
       "    </tr>\n",
       "    <tr>\n",
       "      <th>465069</th>\n",
       "      <td>2696</td>\n",
       "      <td>1645</td>\n",
       "      <td>Devil's Advocate, The (1997)</td>\n",
       "      <td>4</td>\n",
       "      <td>Crime|Horror|Mystery|Thriller</td>\n",
       "      <td>24210</td>\n",
       "      <td>M</td>\n",
       "      <td>25</td>\n",
       "      <td>7</td>\n",
       "      <td>973308904.0</td>\n",
       "    </tr>\n",
       "    <tr>\n",
       "      <th>480658</th>\n",
       "      <td>2696</td>\n",
       "      <td>1711</td>\n",
       "      <td>Midnight in the Garden of Good and Evil (1997)</td>\n",
       "      <td>4</td>\n",
       "      <td>Comedy|Crime|Drama|Mystery</td>\n",
       "      <td>24210</td>\n",
       "      <td>M</td>\n",
       "      <td>25</td>\n",
       "      <td>7</td>\n",
       "      <td>973308904.0</td>\n",
       "    </tr>\n",
       "    <tr>\n",
       "      <th>493231</th>\n",
       "      <td>2696</td>\n",
       "      <td>1783</td>\n",
       "      <td>Palmetto (1998)</td>\n",
       "      <td>4</td>\n",
       "      <td>Film-Noir|Mystery|Thriller</td>\n",
       "      <td>24210</td>\n",
       "      <td>M</td>\n",
       "      <td>25</td>\n",
       "      <td>7</td>\n",
       "      <td>973308865.0</td>\n",
       "    </tr>\n",
       "    <tr>\n",
       "      <th>496926</th>\n",
       "      <td>2696</td>\n",
       "      <td>1805</td>\n",
       "      <td>Wild Things (1998)</td>\n",
       "      <td>4</td>\n",
       "      <td>Crime|Drama|Mystery|Thriller</td>\n",
       "      <td>24210</td>\n",
       "      <td>M</td>\n",
       "      <td>25</td>\n",
       "      <td>7</td>\n",
       "      <td>973308886.0</td>\n",
       "    </tr>\n",
       "    <tr>\n",
       "      <th>507001</th>\n",
       "      <td>2696</td>\n",
       "      <td>1892</td>\n",
       "      <td>Perfect Murder, A (1998)</td>\n",
       "      <td>4</td>\n",
       "      <td>Mystery|Thriller</td>\n",
       "      <td>24210</td>\n",
       "      <td>M</td>\n",
       "      <td>25</td>\n",
       "      <td>7</td>\n",
       "      <td>973308904.0</td>\n",
       "    </tr>\n",
       "    <tr>\n",
       "      <th>631867</th>\n",
       "      <td>2696</td>\n",
       "      <td>2338</td>\n",
       "      <td>I Still Know What You Did Last Summer (1998)</td>\n",
       "      <td>2</td>\n",
       "      <td>Horror|Mystery|Thriller</td>\n",
       "      <td>24210</td>\n",
       "      <td>M</td>\n",
       "      <td>25</td>\n",
       "      <td>7</td>\n",
       "      <td>973308920.0</td>\n",
       "    </tr>\n",
       "    <tr>\n",
       "      <th>645948</th>\n",
       "      <td>2696</td>\n",
       "      <td>2389</td>\n",
       "      <td>Psycho (1998)</td>\n",
       "      <td>4</td>\n",
       "      <td>Crime|Horror|Thriller</td>\n",
       "      <td>24210</td>\n",
       "      <td>M</td>\n",
       "      <td>25</td>\n",
       "      <td>7</td>\n",
       "      <td>973308710.0</td>\n",
       "    </tr>\n",
       "    <tr>\n",
       "      <th>732119</th>\n",
       "      <td>2696</td>\n",
       "      <td>2713</td>\n",
       "      <td>Lake Placid (1999)</td>\n",
       "      <td>1</td>\n",
       "      <td>Horror|Thriller</td>\n",
       "      <td>24210</td>\n",
       "      <td>M</td>\n",
       "      <td>25</td>\n",
       "      <td>7</td>\n",
       "      <td>973308710.0</td>\n",
       "    </tr>\n",
       "    <tr>\n",
       "      <th>851313</th>\n",
       "      <td>2696</td>\n",
       "      <td>3176</td>\n",
       "      <td>Talented Mr. Ripley, The (1999)</td>\n",
       "      <td>4</td>\n",
       "      <td>Drama|Mystery|Thriller</td>\n",
       "      <td>24210</td>\n",
       "      <td>M</td>\n",
       "      <td>25</td>\n",
       "      <td>7</td>\n",
       "      <td>973308865.0</td>\n",
       "    </tr>\n",
       "    <tr>\n",
       "      <th>889623</th>\n",
       "      <td>2696</td>\n",
       "      <td>3386</td>\n",
       "      <td>JFK (1991)</td>\n",
       "      <td>1</td>\n",
       "      <td>Drama|Mystery</td>\n",
       "      <td>24210</td>\n",
       "      <td>M</td>\n",
       "      <td>25</td>\n",
       "      <td>7</td>\n",
       "      <td>973308842.0</td>\n",
       "    </tr>\n",
       "  </tbody>\n",
       "</table>\n",
       "</div>"
      ],
      "text/plain": [
       "        UserID  MovieID                                           Title  \\\n",
       "95261     2696      350                              Client, The (1994)   \n",
       "200536    2696      800                                Lone Star (1996)   \n",
       "270342    2696     1092                           Basic Instinct (1992)   \n",
       "274576    2696     1097               E.T. the Extra-Terrestrial (1982)   \n",
       "349333    2696     1258                             Shining, The (1980)   \n",
       "360382    2696     1270                       Back to the Future (1985)   \n",
       "448293    2696     1589                                 Cop Land (1997)   \n",
       "457193    2696     1617                        L.A. Confidential (1997)   \n",
       "459835    2696     1625                                Game, The (1997)   \n",
       "464473    2696     1644          I Know What You Did Last Summer (1997)   \n",
       "465069    2696     1645                    Devil's Advocate, The (1997)   \n",
       "480658    2696     1711  Midnight in the Garden of Good and Evil (1997)   \n",
       "493231    2696     1783                                 Palmetto (1998)   \n",
       "496926    2696     1805                              Wild Things (1998)   \n",
       "507001    2696     1892                        Perfect Murder, A (1998)   \n",
       "631867    2696     2338    I Still Know What You Did Last Summer (1998)   \n",
       "645948    2696     2389                                   Psycho (1998)   \n",
       "732119    2696     2713                              Lake Placid (1999)   \n",
       "851313    2696     3176                 Talented Mr. Ripley, The (1999)   \n",
       "889623    2696     3386                                      JFK (1991)   \n",
       "\n",
       "        Rating                            Genres Zip-code Gender  Age  \\\n",
       "95261        3            Drama|Mystery|Thriller    24210      M   25   \n",
       "200536       5                     Drama|Mystery    24210      M   25   \n",
       "270342       4                  Mystery|Thriller    24210      M   25   \n",
       "274576       3   Children's|Drama|Fantasy|Sci-Fi    24210      M   25   \n",
       "349333       4                            Horror    24210      M   25   \n",
       "360382       2                     Comedy|Sci-Fi    24210      M   25   \n",
       "448293       3               Crime|Drama|Mystery    24210      M   25   \n",
       "457193       4  Crime|Film-Noir|Mystery|Thriller    24210      M   25   \n",
       "459835       4                  Mystery|Thriller    24210      M   25   \n",
       "464473       2           Horror|Mystery|Thriller    24210      M   25   \n",
       "465069       4     Crime|Horror|Mystery|Thriller    24210      M   25   \n",
       "480658       4        Comedy|Crime|Drama|Mystery    24210      M   25   \n",
       "493231       4        Film-Noir|Mystery|Thriller    24210      M   25   \n",
       "496926       4      Crime|Drama|Mystery|Thriller    24210      M   25   \n",
       "507001       4                  Mystery|Thriller    24210      M   25   \n",
       "631867       2           Horror|Mystery|Thriller    24210      M   25   \n",
       "645948       4             Crime|Horror|Thriller    24210      M   25   \n",
       "732119       1                   Horror|Thriller    24210      M   25   \n",
       "851313       4            Drama|Mystery|Thriller    24210      M   25   \n",
       "889623       1                     Drama|Mystery    24210      M   25   \n",
       "\n",
       "        Occupation    Timestamp  \n",
       "95261            7  973308886.0  \n",
       "200536           7  973308842.0  \n",
       "270342           7  973308886.0  \n",
       "274576           7  973308690.0  \n",
       "349333           7  973308710.0  \n",
       "360382           7  973308676.0  \n",
       "448293           7  973308865.0  \n",
       "457193           7  973308842.0  \n",
       "459835           7  973308842.0  \n",
       "464473           7  973308920.0  \n",
       "465069           7  973308904.0  \n",
       "480658           7  973308904.0  \n",
       "493231           7  973308865.0  \n",
       "496926           7  973308886.0  \n",
       "507001           7  973308904.0  \n",
       "631867           7  973308920.0  \n",
       "645948           7  973308710.0  \n",
       "732119           7  973308710.0  \n",
       "851313           7  973308865.0  \n",
       "889623           7  973308842.0  "
      ]
     },
     "execution_count": 36,
     "metadata": {},
     "output_type": "execute_result"
    }
   ],
   "source": [
    "user2696"
   ]
  },
  {
   "cell_type": "markdown",
   "metadata": {
    "papermill": {
     "duration": 0.100867,
     "end_time": "2020-11-25T04:41:30.663908",
     "exception": false,
     "start_time": "2020-11-25T04:41:30.563041",
     "status": "completed"
    },
    "tags": []
   },
   "source": [
    "***"
   ]
  },
  {
   "cell_type": "markdown",
   "metadata": {
    "papermill": {
     "duration": 0.100393,
     "end_time": "2020-11-25T04:41:30.864803",
     "exception": false,
     "start_time": "2020-11-25T04:41:30.764410",
     "status": "completed"
    },
    "tags": []
   },
   "source": [
    "## Find out all the unique genres"
   ]
  },
  {
   "cell_type": "markdown",
   "metadata": {
    "papermill": {
     "duration": 0.102605,
     "end_time": "2020-11-25T04:41:31.067013",
     "exception": false,
     "start_time": "2020-11-25T04:41:30.964408",
     "status": "completed"
    },
    "tags": []
   },
   "source": [
    "split the genre content from pipe delimited to a list in a new column"
   ]
  },
  {
   "cell_type": "code",
   "execution_count": 37,
   "metadata": {
    "execution": {
     "iopub.execute_input": "2020-11-25T04:41:31.392971Z",
     "iopub.status.busy": "2020-11-25T04:41:31.391976Z",
     "iopub.status.idle": "2020-11-25T04:41:33.520123Z",
     "shell.execute_reply": "2020-11-25T04:41:33.519460Z"
    },
    "papermill": {
     "duration": 2.350523,
     "end_time": "2020-11-25T04:41:33.520247",
     "exception": false,
     "start_time": "2020-11-25T04:41:31.169724",
     "status": "completed"
    },
    "tags": []
   },
   "outputs": [
    {
     "name": "stderr",
     "output_type": "stream",
     "text": [
      "/opt/conda/lib/python3.7/site-packages/ipykernel_launcher.py:1: SettingWithCopyWarning: \n",
      "A value is trying to be set on a copy of a slice from a DataFrame.\n",
      "Try using .loc[row_indexer,col_indexer] = value instead\n",
      "\n",
      "See the caveats in the documentation: https://pandas.pydata.org/pandas-docs/stable/user_guide/indexing.html#returning-a-view-versus-a-copy\n",
      "  \"\"\"Entry point for launching an IPython kernel.\n"
     ]
    }
   ],
   "source": [
    "master_data['Genres_list'] = master_data['Genres'].str.split('|')"
   ]
  },
  {
   "cell_type": "code",
   "execution_count": 38,
   "metadata": {
    "execution": {
     "iopub.execute_input": "2020-11-25T04:41:33.767203Z",
     "iopub.status.busy": "2020-11-25T04:41:33.766231Z",
     "iopub.status.idle": "2020-11-25T04:41:33.772560Z",
     "shell.execute_reply": "2020-11-25T04:41:33.771737Z"
    },
    "papermill": {
     "duration": 0.142775,
     "end_time": "2020-11-25T04:41:33.772753",
     "exception": false,
     "start_time": "2020-11-25T04:41:33.629978",
     "status": "completed"
    },
    "tags": []
   },
   "outputs": [
    {
     "data": {
      "text/html": [
       "<div>\n",
       "<style scoped>\n",
       "    .dataframe tbody tr th:only-of-type {\n",
       "        vertical-align: middle;\n",
       "    }\n",
       "\n",
       "    .dataframe tbody tr th {\n",
       "        vertical-align: top;\n",
       "    }\n",
       "\n",
       "    .dataframe thead th {\n",
       "        text-align: right;\n",
       "    }\n",
       "</style>\n",
       "<table border=\"1\" class=\"dataframe\">\n",
       "  <thead>\n",
       "    <tr style=\"text-align: right;\">\n",
       "      <th></th>\n",
       "      <th>UserID</th>\n",
       "      <th>MovieID</th>\n",
       "      <th>Title</th>\n",
       "      <th>Rating</th>\n",
       "      <th>Genres</th>\n",
       "      <th>Zip-code</th>\n",
       "      <th>Gender</th>\n",
       "      <th>Age</th>\n",
       "      <th>Occupation</th>\n",
       "      <th>Timestamp</th>\n",
       "      <th>Genres_list</th>\n",
       "    </tr>\n",
       "  </thead>\n",
       "  <tbody>\n",
       "    <tr>\n",
       "      <th>0</th>\n",
       "      <td>1</td>\n",
       "      <td>1</td>\n",
       "      <td>Toy Story (1995)</td>\n",
       "      <td>5</td>\n",
       "      <td>Animation|Children's|Comedy</td>\n",
       "      <td>48067</td>\n",
       "      <td>F</td>\n",
       "      <td>1</td>\n",
       "      <td>10</td>\n",
       "      <td>978824268.0</td>\n",
       "      <td>[Animation, Children's, Comedy]</td>\n",
       "    </tr>\n",
       "    <tr>\n",
       "      <th>1</th>\n",
       "      <td>6</td>\n",
       "      <td>1</td>\n",
       "      <td>Toy Story (1995)</td>\n",
       "      <td>4</td>\n",
       "      <td>Animation|Children's|Comedy</td>\n",
       "      <td>55117</td>\n",
       "      <td>F</td>\n",
       "      <td>50</td>\n",
       "      <td>9</td>\n",
       "      <td>978237008.0</td>\n",
       "      <td>[Animation, Children's, Comedy]</td>\n",
       "    </tr>\n",
       "    <tr>\n",
       "      <th>2</th>\n",
       "      <td>8</td>\n",
       "      <td>1</td>\n",
       "      <td>Toy Story (1995)</td>\n",
       "      <td>4</td>\n",
       "      <td>Animation|Children's|Comedy</td>\n",
       "      <td>11413</td>\n",
       "      <td>M</td>\n",
       "      <td>25</td>\n",
       "      <td>12</td>\n",
       "      <td>978233496.0</td>\n",
       "      <td>[Animation, Children's, Comedy]</td>\n",
       "    </tr>\n",
       "    <tr>\n",
       "      <th>3</th>\n",
       "      <td>9</td>\n",
       "      <td>1</td>\n",
       "      <td>Toy Story (1995)</td>\n",
       "      <td>5</td>\n",
       "      <td>Animation|Children's|Comedy</td>\n",
       "      <td>61614</td>\n",
       "      <td>M</td>\n",
       "      <td>25</td>\n",
       "      <td>17</td>\n",
       "      <td>978225952.0</td>\n",
       "      <td>[Animation, Children's, Comedy]</td>\n",
       "    </tr>\n",
       "    <tr>\n",
       "      <th>4</th>\n",
       "      <td>10</td>\n",
       "      <td>1</td>\n",
       "      <td>Toy Story (1995)</td>\n",
       "      <td>5</td>\n",
       "      <td>Animation|Children's|Comedy</td>\n",
       "      <td>95370</td>\n",
       "      <td>F</td>\n",
       "      <td>35</td>\n",
       "      <td>1</td>\n",
       "      <td>978226474.0</td>\n",
       "      <td>[Animation, Children's, Comedy]</td>\n",
       "    </tr>\n",
       "  </tbody>\n",
       "</table>\n",
       "</div>"
      ],
      "text/plain": [
       "   UserID  MovieID             Title  Rating                       Genres  \\\n",
       "0       1        1  Toy Story (1995)       5  Animation|Children's|Comedy   \n",
       "1       6        1  Toy Story (1995)       4  Animation|Children's|Comedy   \n",
       "2       8        1  Toy Story (1995)       4  Animation|Children's|Comedy   \n",
       "3       9        1  Toy Story (1995)       5  Animation|Children's|Comedy   \n",
       "4      10        1  Toy Story (1995)       5  Animation|Children's|Comedy   \n",
       "\n",
       "  Zip-code Gender  Age  Occupation    Timestamp  \\\n",
       "0    48067      F    1          10  978824268.0   \n",
       "1    55117      F   50           9  978237008.0   \n",
       "2    11413      M   25          12  978233496.0   \n",
       "3    61614      M   25          17  978225952.0   \n",
       "4    95370      F   35           1  978226474.0   \n",
       "\n",
       "                       Genres_list  \n",
       "0  [Animation, Children's, Comedy]  \n",
       "1  [Animation, Children's, Comedy]  \n",
       "2  [Animation, Children's, Comedy]  \n",
       "3  [Animation, Children's, Comedy]  \n",
       "4  [Animation, Children's, Comedy]  "
      ]
     },
     "execution_count": 38,
     "metadata": {},
     "output_type": "execute_result"
    }
   ],
   "source": [
    "master_data.head()"
   ]
  },
  {
   "cell_type": "markdown",
   "metadata": {
    "papermill": {
     "duration": 0.116018,
     "end_time": "2020-11-25T04:41:34.018624",
     "exception": false,
     "start_time": "2020-11-25T04:41:33.902606",
     "status": "completed"
    },
    "tags": []
   },
   "source": [
    "Convert M and F category to binary"
   ]
  },
  {
   "cell_type": "code",
   "execution_count": 39,
   "metadata": {
    "execution": {
     "iopub.execute_input": "2020-11-25T04:41:34.361641Z",
     "iopub.status.busy": "2020-11-25T04:41:34.360402Z",
     "iopub.status.idle": "2020-11-25T04:41:34.984220Z",
     "shell.execute_reply": "2020-11-25T04:41:34.985080Z"
    },
    "papermill": {
     "duration": 0.855394,
     "end_time": "2020-11-25T04:41:34.985325",
     "exception": false,
     "start_time": "2020-11-25T04:41:34.129931",
     "status": "completed"
    },
    "tags": []
   },
   "outputs": [
    {
     "name": "stderr",
     "output_type": "stream",
     "text": [
      "/opt/conda/lib/python3.7/site-packages/pandas/core/series.py:4569: SettingWithCopyWarning: \n",
      "A value is trying to be set on a copy of a slice from a DataFrame\n",
      "\n",
      "See the caveats in the documentation: https://pandas.pydata.org/pandas-docs/stable/user_guide/indexing.html#returning-a-view-versus-a-copy\n",
      "  method=method,\n"
     ]
    }
   ],
   "source": [
    "master_data['Gender'].replace(['F','M'],[0,1],inplace=True)"
   ]
  },
  {
   "cell_type": "code",
   "execution_count": 40,
   "metadata": {
    "execution": {
     "iopub.execute_input": "2020-11-25T04:41:35.222703Z",
     "iopub.status.busy": "2020-11-25T04:41:35.221644Z",
     "iopub.status.idle": "2020-11-25T04:41:35.227153Z",
     "shell.execute_reply": "2020-11-25T04:41:35.226483Z"
    },
    "papermill": {
     "duration": 0.131471,
     "end_time": "2020-11-25T04:41:35.227282",
     "exception": false,
     "start_time": "2020-11-25T04:41:35.095811",
     "status": "completed"
    },
    "tags": []
   },
   "outputs": [
    {
     "data": {
      "text/html": [
       "<div>\n",
       "<style scoped>\n",
       "    .dataframe tbody tr th:only-of-type {\n",
       "        vertical-align: middle;\n",
       "    }\n",
       "\n",
       "    .dataframe tbody tr th {\n",
       "        vertical-align: top;\n",
       "    }\n",
       "\n",
       "    .dataframe thead th {\n",
       "        text-align: right;\n",
       "    }\n",
       "</style>\n",
       "<table border=\"1\" class=\"dataframe\">\n",
       "  <thead>\n",
       "    <tr style=\"text-align: right;\">\n",
       "      <th></th>\n",
       "      <th>UserID</th>\n",
       "      <th>MovieID</th>\n",
       "      <th>Title</th>\n",
       "      <th>Rating</th>\n",
       "      <th>Genres</th>\n",
       "      <th>Zip-code</th>\n",
       "      <th>Gender</th>\n",
       "      <th>Age</th>\n",
       "      <th>Occupation</th>\n",
       "      <th>Timestamp</th>\n",
       "      <th>Genres_list</th>\n",
       "    </tr>\n",
       "  </thead>\n",
       "  <tbody>\n",
       "    <tr>\n",
       "      <th>0</th>\n",
       "      <td>1</td>\n",
       "      <td>1</td>\n",
       "      <td>Toy Story (1995)</td>\n",
       "      <td>5</td>\n",
       "      <td>Animation|Children's|Comedy</td>\n",
       "      <td>48067</td>\n",
       "      <td>0</td>\n",
       "      <td>1</td>\n",
       "      <td>10</td>\n",
       "      <td>978824268.0</td>\n",
       "      <td>[Animation, Children's, Comedy]</td>\n",
       "    </tr>\n",
       "    <tr>\n",
       "      <th>1</th>\n",
       "      <td>6</td>\n",
       "      <td>1</td>\n",
       "      <td>Toy Story (1995)</td>\n",
       "      <td>4</td>\n",
       "      <td>Animation|Children's|Comedy</td>\n",
       "      <td>55117</td>\n",
       "      <td>0</td>\n",
       "      <td>50</td>\n",
       "      <td>9</td>\n",
       "      <td>978237008.0</td>\n",
       "      <td>[Animation, Children's, Comedy]</td>\n",
       "    </tr>\n",
       "    <tr>\n",
       "      <th>2</th>\n",
       "      <td>8</td>\n",
       "      <td>1</td>\n",
       "      <td>Toy Story (1995)</td>\n",
       "      <td>4</td>\n",
       "      <td>Animation|Children's|Comedy</td>\n",
       "      <td>11413</td>\n",
       "      <td>1</td>\n",
       "      <td>25</td>\n",
       "      <td>12</td>\n",
       "      <td>978233496.0</td>\n",
       "      <td>[Animation, Children's, Comedy]</td>\n",
       "    </tr>\n",
       "    <tr>\n",
       "      <th>3</th>\n",
       "      <td>9</td>\n",
       "      <td>1</td>\n",
       "      <td>Toy Story (1995)</td>\n",
       "      <td>5</td>\n",
       "      <td>Animation|Children's|Comedy</td>\n",
       "      <td>61614</td>\n",
       "      <td>1</td>\n",
       "      <td>25</td>\n",
       "      <td>17</td>\n",
       "      <td>978225952.0</td>\n",
       "      <td>[Animation, Children's, Comedy]</td>\n",
       "    </tr>\n",
       "    <tr>\n",
       "      <th>4</th>\n",
       "      <td>10</td>\n",
       "      <td>1</td>\n",
       "      <td>Toy Story (1995)</td>\n",
       "      <td>5</td>\n",
       "      <td>Animation|Children's|Comedy</td>\n",
       "      <td>95370</td>\n",
       "      <td>0</td>\n",
       "      <td>35</td>\n",
       "      <td>1</td>\n",
       "      <td>978226474.0</td>\n",
       "      <td>[Animation, Children's, Comedy]</td>\n",
       "    </tr>\n",
       "  </tbody>\n",
       "</table>\n",
       "</div>"
      ],
      "text/plain": [
       "   UserID  MovieID             Title  Rating                       Genres  \\\n",
       "0       1        1  Toy Story (1995)       5  Animation|Children's|Comedy   \n",
       "1       6        1  Toy Story (1995)       4  Animation|Children's|Comedy   \n",
       "2       8        1  Toy Story (1995)       4  Animation|Children's|Comedy   \n",
       "3       9        1  Toy Story (1995)       5  Animation|Children's|Comedy   \n",
       "4      10        1  Toy Story (1995)       5  Animation|Children's|Comedy   \n",
       "\n",
       "  Zip-code  Gender  Age  Occupation    Timestamp  \\\n",
       "0    48067       0    1          10  978824268.0   \n",
       "1    55117       0   50           9  978237008.0   \n",
       "2    11413       1   25          12  978233496.0   \n",
       "3    61614       1   25          17  978225952.0   \n",
       "4    95370       0   35           1  978226474.0   \n",
       "\n",
       "                       Genres_list  \n",
       "0  [Animation, Children's, Comedy]  \n",
       "1  [Animation, Children's, Comedy]  \n",
       "2  [Animation, Children's, Comedy]  \n",
       "3  [Animation, Children's, Comedy]  \n",
       "4  [Animation, Children's, Comedy]  "
      ]
     },
     "execution_count": 40,
     "metadata": {},
     "output_type": "execute_result"
    }
   ],
   "source": [
    "master_data.head()"
   ]
  },
  {
   "cell_type": "markdown",
   "metadata": {
    "papermill": {
     "duration": 0.1183,
     "end_time": "2020-11-25T04:41:35.471571",
     "exception": false,
     "start_time": "2020-11-25T04:41:35.353271",
     "status": "completed"
    },
    "tags": []
   },
   "source": [
    "***"
   ]
  },
  {
   "cell_type": "markdown",
   "metadata": {
    "papermill": {
     "duration": 0.101531,
     "end_time": "2020-11-25T04:41:35.676511",
     "exception": false,
     "start_time": "2020-11-25T04:41:35.574980",
     "status": "completed"
    },
    "tags": []
   },
   "source": [
    "## One hot encode Genre list into separate columns"
   ]
  },
  {
   "cell_type": "code",
   "execution_count": 41,
   "metadata": {
    "execution": {
     "iopub.execute_input": "2020-11-25T04:41:35.893246Z",
     "iopub.status.busy": "2020-11-25T04:41:35.892379Z",
     "iopub.status.idle": "2020-11-25T04:41:38.218388Z",
     "shell.execute_reply": "2020-11-25T04:41:38.217750Z"
    },
    "papermill": {
     "duration": 2.439706,
     "end_time": "2020-11-25T04:41:38.218521",
     "exception": false,
     "start_time": "2020-11-25T04:41:35.778815",
     "status": "completed"
    },
    "tags": []
   },
   "outputs": [],
   "source": [
    "from sklearn.preprocessing import MultiLabelBinarizer\n",
    "\n",
    "## assign a new series to the genres_list column that contains a list of categories for each movie\n",
    "list2series = pd.Series(master_data.Genres_list)\n",
    "\n",
    "mlb = MultiLabelBinarizer()\n",
    "\n",
    "## use mlb to create a new dataframe of the genres from the list for each row from the original data\n",
    "\n",
    "one_hot_genres = pd.DataFrame(mlb.fit_transform(list2series),columns=mlb.classes_,index=list2series.index)\n"
   ]
  },
  {
   "cell_type": "code",
   "execution_count": 42,
   "metadata": {
    "execution": {
     "iopub.execute_input": "2020-11-25T04:41:38.464253Z",
     "iopub.status.busy": "2020-11-25T04:41:38.462827Z",
     "iopub.status.idle": "2020-11-25T04:41:38.468337Z",
     "shell.execute_reply": "2020-11-25T04:41:38.467317Z"
    },
    "papermill": {
     "duration": 0.147632,
     "end_time": "2020-11-25T04:41:38.468528",
     "exception": false,
     "start_time": "2020-11-25T04:41:38.320896",
     "status": "completed"
    },
    "tags": []
   },
   "outputs": [
    {
     "name": "stdout",
     "output_type": "stream",
     "text": [
      "   Action  Adventure  Animation  Children's  Comedy  Crime  Documentary  \\\n",
      "0       0          0          1           1       1      0            0   \n",
      "1       0          0          1           1       1      0            0   \n",
      "2       0          0          1           1       1      0            0   \n",
      "3       0          0          1           1       1      0            0   \n",
      "4       0          0          1           1       1      0            0   \n",
      "\n",
      "   Drama  Fantasy  Film-Noir  Horror  Musical  Mystery  Romance  Sci-Fi  \\\n",
      "0      0        0          0       0        0        0        0       0   \n",
      "1      0        0          0       0        0        0        0       0   \n",
      "2      0        0          0       0        0        0        0       0   \n",
      "3      0        0          0       0        0        0        0       0   \n",
      "4      0        0          0       0        0        0        0       0   \n",
      "\n",
      "   Thriller  War  Western  \n",
      "0         0    0        0  \n",
      "1         0    0        0  \n",
      "2         0    0        0  \n",
      "3         0    0        0  \n",
      "4         0    0        0  \n"
     ]
    }
   ],
   "source": [
    "print(one_hot_genres.head())"
   ]
  },
  {
   "cell_type": "code",
   "execution_count": 43,
   "metadata": {
    "execution": {
     "iopub.execute_input": "2020-11-25T04:41:38.716867Z",
     "iopub.status.busy": "2020-11-25T04:41:38.715756Z",
     "iopub.status.idle": "2020-11-25T04:41:38.719742Z",
     "shell.execute_reply": "2020-11-25T04:41:38.720428Z"
    },
    "papermill": {
     "duration": 0.129422,
     "end_time": "2020-11-25T04:41:38.720619",
     "exception": false,
     "start_time": "2020-11-25T04:41:38.591197",
     "status": "completed"
    },
    "tags": []
   },
   "outputs": [
    {
     "data": {
      "text/plain": [
       "pandas.core.frame.DataFrame"
      ]
     },
     "execution_count": 43,
     "metadata": {},
     "output_type": "execute_result"
    }
   ],
   "source": [
    "type(one_hot_genres)"
   ]
  },
  {
   "cell_type": "markdown",
   "metadata": {
    "papermill": {
     "duration": 0.119363,
     "end_time": "2020-11-25T04:41:38.973156",
     "exception": false,
     "start_time": "2020-11-25T04:41:38.853793",
     "status": "completed"
    },
    "tags": []
   },
   "source": [
    "***"
   ]
  },
  {
   "cell_type": "markdown",
   "metadata": {
    "papermill": {
     "duration": 0.107067,
     "end_time": "2020-11-25T04:41:39.188418",
     "exception": false,
     "start_time": "2020-11-25T04:41:39.081351",
     "status": "completed"
    },
    "tags": []
   },
   "source": [
    "## Determine the features affecting the ratings of any particular movie."
   ]
  },
  {
   "cell_type": "markdown",
   "metadata": {
    "papermill": {
     "duration": 0.115001,
     "end_time": "2020-11-25T04:41:39.408474",
     "exception": false,
     "start_time": "2020-11-25T04:41:39.293473",
     "status": "completed"
    },
    "tags": []
   },
   "source": [
    "Create a smaller features dataframe of the movie data features that are relevant to rating outcome:\n",
    "\n",
    "- zip code\n",
    "- gender\n",
    "- age\n",
    "- occupation\n"
   ]
  },
  {
   "cell_type": "code",
   "execution_count": 44,
   "metadata": {
    "execution": {
     "iopub.execute_input": "2020-11-25T04:41:39.627147Z",
     "iopub.status.busy": "2020-11-25T04:41:39.626357Z",
     "iopub.status.idle": "2020-11-25T04:41:39.808006Z",
     "shell.execute_reply": "2020-11-25T04:41:39.807287Z"
    },
    "papermill": {
     "duration": 0.293229,
     "end_time": "2020-11-25T04:41:39.808173",
     "exception": false,
     "start_time": "2020-11-25T04:41:39.514944",
     "status": "completed"
    },
    "tags": []
   },
   "outputs": [],
   "source": [
    "md_small = master_data.iloc[:, [1,3,5,6,7,8]]"
   ]
  },
  {
   "cell_type": "code",
   "execution_count": 45,
   "metadata": {
    "execution": {
     "iopub.execute_input": "2020-11-25T04:41:40.034548Z",
     "iopub.status.busy": "2020-11-25T04:41:40.033443Z",
     "iopub.status.idle": "2020-11-25T04:41:40.038863Z",
     "shell.execute_reply": "2020-11-25T04:41:40.038229Z"
    },
    "papermill": {
     "duration": 0.125096,
     "end_time": "2020-11-25T04:41:40.038988",
     "exception": false,
     "start_time": "2020-11-25T04:41:39.913892",
     "status": "completed"
    },
    "tags": []
   },
   "outputs": [
    {
     "data": {
      "text/html": [
       "<div>\n",
       "<style scoped>\n",
       "    .dataframe tbody tr th:only-of-type {\n",
       "        vertical-align: middle;\n",
       "    }\n",
       "\n",
       "    .dataframe tbody tr th {\n",
       "        vertical-align: top;\n",
       "    }\n",
       "\n",
       "    .dataframe thead th {\n",
       "        text-align: right;\n",
       "    }\n",
       "</style>\n",
       "<table border=\"1\" class=\"dataframe\">\n",
       "  <thead>\n",
       "    <tr style=\"text-align: right;\">\n",
       "      <th></th>\n",
       "      <th>MovieID</th>\n",
       "      <th>Rating</th>\n",
       "      <th>Zip-code</th>\n",
       "      <th>Gender</th>\n",
       "      <th>Age</th>\n",
       "      <th>Occupation</th>\n",
       "    </tr>\n",
       "  </thead>\n",
       "  <tbody>\n",
       "    <tr>\n",
       "      <th>0</th>\n",
       "      <td>1</td>\n",
       "      <td>5</td>\n",
       "      <td>48067</td>\n",
       "      <td>0</td>\n",
       "      <td>1</td>\n",
       "      <td>10</td>\n",
       "    </tr>\n",
       "    <tr>\n",
       "      <th>1</th>\n",
       "      <td>1</td>\n",
       "      <td>4</td>\n",
       "      <td>55117</td>\n",
       "      <td>0</td>\n",
       "      <td>50</td>\n",
       "      <td>9</td>\n",
       "    </tr>\n",
       "    <tr>\n",
       "      <th>2</th>\n",
       "      <td>1</td>\n",
       "      <td>4</td>\n",
       "      <td>11413</td>\n",
       "      <td>1</td>\n",
       "      <td>25</td>\n",
       "      <td>12</td>\n",
       "    </tr>\n",
       "    <tr>\n",
       "      <th>3</th>\n",
       "      <td>1</td>\n",
       "      <td>5</td>\n",
       "      <td>61614</td>\n",
       "      <td>1</td>\n",
       "      <td>25</td>\n",
       "      <td>17</td>\n",
       "    </tr>\n",
       "    <tr>\n",
       "      <th>4</th>\n",
       "      <td>1</td>\n",
       "      <td>5</td>\n",
       "      <td>95370</td>\n",
       "      <td>0</td>\n",
       "      <td>35</td>\n",
       "      <td>1</td>\n",
       "    </tr>\n",
       "  </tbody>\n",
       "</table>\n",
       "</div>"
      ],
      "text/plain": [
       "   MovieID  Rating Zip-code  Gender  Age  Occupation\n",
       "0        1       5    48067       0    1          10\n",
       "1        1       4    55117       0   50           9\n",
       "2        1       4    11413       1   25          12\n",
       "3        1       5    61614       1   25          17\n",
       "4        1       5    95370       0   35           1"
      ]
     },
     "execution_count": 45,
     "metadata": {},
     "output_type": "execute_result"
    }
   ],
   "source": [
    "md_small.head()"
   ]
  },
  {
   "cell_type": "markdown",
   "metadata": {
    "papermill": {
     "duration": 0.108529,
     "end_time": "2020-11-25T04:41:40.259077",
     "exception": false,
     "start_time": "2020-11-25T04:41:40.150548",
     "status": "completed"
    },
    "tags": []
   },
   "source": [
    "Check the data types of the set"
   ]
  },
  {
   "cell_type": "code",
   "execution_count": 46,
   "metadata": {
    "execution": {
     "iopub.execute_input": "2020-11-25T04:41:40.483990Z",
     "iopub.status.busy": "2020-11-25T04:41:40.483082Z",
     "iopub.status.idle": "2020-11-25T04:41:40.488326Z",
     "shell.execute_reply": "2020-11-25T04:41:40.487572Z"
    },
    "papermill": {
     "duration": 0.121588,
     "end_time": "2020-11-25T04:41:40.488468",
     "exception": false,
     "start_time": "2020-11-25T04:41:40.366880",
     "status": "completed"
    },
    "tags": []
   },
   "outputs": [
    {
     "data": {
      "text/plain": [
       "MovieID        int64\n",
       "Rating         int64\n",
       "Zip-code      object\n",
       "Gender         int64\n",
       "Age            int64\n",
       "Occupation     int64\n",
       "dtype: object"
      ]
     },
     "execution_count": 46,
     "metadata": {},
     "output_type": "execute_result"
    }
   ],
   "source": [
    "md_small.dtypes"
   ]
  },
  {
   "cell_type": "markdown",
   "metadata": {
    "papermill": {
     "duration": 0.107399,
     "end_time": "2020-11-25T04:41:40.704163",
     "exception": false,
     "start_time": "2020-11-25T04:41:40.596764",
     "status": "completed"
    },
    "tags": []
   },
   "source": [
    "change 'zip code' into numerical data type"
   ]
  },
  {
   "cell_type": "code",
   "execution_count": 47,
   "metadata": {
    "execution": {
     "iopub.execute_input": "2020-11-25T04:41:41.034816Z",
     "iopub.status.busy": "2020-11-25T04:41:41.034001Z",
     "iopub.status.idle": "2020-11-25T04:41:42.539306Z",
     "shell.execute_reply": "2020-11-25T04:41:42.538559Z"
    },
    "papermill": {
     "duration": 1.726739,
     "end_time": "2020-11-25T04:41:42.539429",
     "exception": false,
     "start_time": "2020-11-25T04:41:40.812690",
     "status": "completed"
    },
    "tags": []
   },
   "outputs": [
    {
     "name": "stderr",
     "output_type": "stream",
     "text": [
      "/opt/conda/lib/python3.7/site-packages/ipykernel_launcher.py:1: SettingWithCopyWarning: \n",
      "A value is trying to be set on a copy of a slice from a DataFrame.\n",
      "Try using .loc[row_indexer,col_indexer] = value instead\n",
      "\n",
      "See the caveats in the documentation: https://pandas.pydata.org/pandas-docs/stable/user_guide/indexing.html#returning-a-view-versus-a-copy\n",
      "  \"\"\"Entry point for launching an IPython kernel.\n"
     ]
    },
    {
     "data": {
      "text/plain": [
       "0          48067\n",
       "1          55117\n",
       "2          11413\n",
       "3          61614\n",
       "4          95370\n",
       "           ...  \n",
       "1000204    92120\n",
       "1000205    92120\n",
       "1000206    60607\n",
       "1000207    10003\n",
       "1000208    61820\n",
       "Name: Zip-code, Length: 1000209, dtype: int64"
      ]
     },
     "execution_count": 47,
     "metadata": {},
     "output_type": "execute_result"
    }
   ],
   "source": [
    "md_small['Zip-code'] = md_small['Zip-code'].str[:5]\n",
    "pd.to_numeric(md_small['Zip-code'])"
   ]
  },
  {
   "cell_type": "code",
   "execution_count": 48,
   "metadata": {
    "execution": {
     "iopub.execute_input": "2020-11-25T04:41:42.766836Z",
     "iopub.status.busy": "2020-11-25T04:41:42.765995Z",
     "iopub.status.idle": "2020-11-25T04:41:42.891036Z",
     "shell.execute_reply": "2020-11-25T04:41:42.890273Z"
    },
    "papermill": {
     "duration": 0.244369,
     "end_time": "2020-11-25T04:41:42.891180",
     "exception": false,
     "start_time": "2020-11-25T04:41:42.646811",
     "status": "completed"
    },
    "tags": []
   },
   "outputs": [
    {
     "data": {
      "text/plain": [
       "Rating        1.000000\n",
       "Gender       -0.019861\n",
       "Age           0.056869\n",
       "Occupation    0.006753\n",
       "Name: Rating, dtype: float64"
      ]
     },
     "execution_count": 48,
     "metadata": {},
     "output_type": "execute_result"
    }
   ],
   "source": [
    "## skip the correlation of movieID\n",
    "\n",
    "md_small[md_small.columns[1:]].corr()['Rating'][:]"
   ]
  },
  {
   "cell_type": "markdown",
   "metadata": {
    "papermill": {
     "duration": 0.107336,
     "end_time": "2020-11-25T04:41:43.105259",
     "exception": false,
     "start_time": "2020-11-25T04:41:42.997923",
     "status": "completed"
    },
    "tags": []
   },
   "source": [
    "We see that Age has the highest correlation"
   ]
  },
  {
   "cell_type": "markdown",
   "metadata": {
    "papermill": {
     "duration": 0.106356,
     "end_time": "2020-11-25T04:41:43.320213",
     "exception": false,
     "start_time": "2020-11-25T04:41:43.213857",
     "status": "completed"
    },
    "tags": []
   },
   "source": [
    "merge feature column with genre categories one hot list"
   ]
  },
  {
   "cell_type": "code",
   "execution_count": 49,
   "metadata": {
    "execution": {
     "iopub.execute_input": "2020-11-25T04:41:43.541791Z",
     "iopub.status.busy": "2020-11-25T04:41:43.540729Z",
     "iopub.status.idle": "2020-11-25T04:41:43.881213Z",
     "shell.execute_reply": "2020-11-25T04:41:43.880456Z"
    },
    "papermill": {
     "duration": 0.453322,
     "end_time": "2020-11-25T04:41:43.881338",
     "exception": false,
     "start_time": "2020-11-25T04:41:43.428016",
     "status": "completed"
    },
    "tags": []
   },
   "outputs": [],
   "source": [
    "master_features = pd.merge(md_small, one_hot_genres, left_index=True, right_index=True)"
   ]
  },
  {
   "cell_type": "code",
   "execution_count": 50,
   "metadata": {
    "execution": {
     "iopub.execute_input": "2020-11-25T04:41:44.128444Z",
     "iopub.status.busy": "2020-11-25T04:41:44.127342Z",
     "iopub.status.idle": "2020-11-25T04:41:44.132415Z",
     "shell.execute_reply": "2020-11-25T04:41:44.132951Z"
    },
    "papermill": {
     "duration": 0.135913,
     "end_time": "2020-11-25T04:41:44.133136",
     "exception": false,
     "start_time": "2020-11-25T04:41:43.997223",
     "status": "completed"
    },
    "tags": []
   },
   "outputs": [
    {
     "data": {
      "text/html": [
       "<div>\n",
       "<style scoped>\n",
       "    .dataframe tbody tr th:only-of-type {\n",
       "        vertical-align: middle;\n",
       "    }\n",
       "\n",
       "    .dataframe tbody tr th {\n",
       "        vertical-align: top;\n",
       "    }\n",
       "\n",
       "    .dataframe thead th {\n",
       "        text-align: right;\n",
       "    }\n",
       "</style>\n",
       "<table border=\"1\" class=\"dataframe\">\n",
       "  <thead>\n",
       "    <tr style=\"text-align: right;\">\n",
       "      <th></th>\n",
       "      <th>MovieID</th>\n",
       "      <th>Rating</th>\n",
       "      <th>Zip-code</th>\n",
       "      <th>Gender</th>\n",
       "      <th>Age</th>\n",
       "      <th>Occupation</th>\n",
       "      <th>Action</th>\n",
       "      <th>Adventure</th>\n",
       "      <th>Animation</th>\n",
       "      <th>Children's</th>\n",
       "      <th>...</th>\n",
       "      <th>Fantasy</th>\n",
       "      <th>Film-Noir</th>\n",
       "      <th>Horror</th>\n",
       "      <th>Musical</th>\n",
       "      <th>Mystery</th>\n",
       "      <th>Romance</th>\n",
       "      <th>Sci-Fi</th>\n",
       "      <th>Thriller</th>\n",
       "      <th>War</th>\n",
       "      <th>Western</th>\n",
       "    </tr>\n",
       "  </thead>\n",
       "  <tbody>\n",
       "    <tr>\n",
       "      <th>0</th>\n",
       "      <td>1</td>\n",
       "      <td>5</td>\n",
       "      <td>48067</td>\n",
       "      <td>0</td>\n",
       "      <td>1</td>\n",
       "      <td>10</td>\n",
       "      <td>0</td>\n",
       "      <td>0</td>\n",
       "      <td>1</td>\n",
       "      <td>1</td>\n",
       "      <td>...</td>\n",
       "      <td>0</td>\n",
       "      <td>0</td>\n",
       "      <td>0</td>\n",
       "      <td>0</td>\n",
       "      <td>0</td>\n",
       "      <td>0</td>\n",
       "      <td>0</td>\n",
       "      <td>0</td>\n",
       "      <td>0</td>\n",
       "      <td>0</td>\n",
       "    </tr>\n",
       "    <tr>\n",
       "      <th>1</th>\n",
       "      <td>1</td>\n",
       "      <td>4</td>\n",
       "      <td>55117</td>\n",
       "      <td>0</td>\n",
       "      <td>50</td>\n",
       "      <td>9</td>\n",
       "      <td>0</td>\n",
       "      <td>0</td>\n",
       "      <td>1</td>\n",
       "      <td>1</td>\n",
       "      <td>...</td>\n",
       "      <td>0</td>\n",
       "      <td>0</td>\n",
       "      <td>0</td>\n",
       "      <td>0</td>\n",
       "      <td>0</td>\n",
       "      <td>0</td>\n",
       "      <td>0</td>\n",
       "      <td>0</td>\n",
       "      <td>0</td>\n",
       "      <td>0</td>\n",
       "    </tr>\n",
       "    <tr>\n",
       "      <th>2</th>\n",
       "      <td>1</td>\n",
       "      <td>4</td>\n",
       "      <td>11413</td>\n",
       "      <td>1</td>\n",
       "      <td>25</td>\n",
       "      <td>12</td>\n",
       "      <td>0</td>\n",
       "      <td>0</td>\n",
       "      <td>1</td>\n",
       "      <td>1</td>\n",
       "      <td>...</td>\n",
       "      <td>0</td>\n",
       "      <td>0</td>\n",
       "      <td>0</td>\n",
       "      <td>0</td>\n",
       "      <td>0</td>\n",
       "      <td>0</td>\n",
       "      <td>0</td>\n",
       "      <td>0</td>\n",
       "      <td>0</td>\n",
       "      <td>0</td>\n",
       "    </tr>\n",
       "    <tr>\n",
       "      <th>3</th>\n",
       "      <td>1</td>\n",
       "      <td>5</td>\n",
       "      <td>61614</td>\n",
       "      <td>1</td>\n",
       "      <td>25</td>\n",
       "      <td>17</td>\n",
       "      <td>0</td>\n",
       "      <td>0</td>\n",
       "      <td>1</td>\n",
       "      <td>1</td>\n",
       "      <td>...</td>\n",
       "      <td>0</td>\n",
       "      <td>0</td>\n",
       "      <td>0</td>\n",
       "      <td>0</td>\n",
       "      <td>0</td>\n",
       "      <td>0</td>\n",
       "      <td>0</td>\n",
       "      <td>0</td>\n",
       "      <td>0</td>\n",
       "      <td>0</td>\n",
       "    </tr>\n",
       "    <tr>\n",
       "      <th>4</th>\n",
       "      <td>1</td>\n",
       "      <td>5</td>\n",
       "      <td>95370</td>\n",
       "      <td>0</td>\n",
       "      <td>35</td>\n",
       "      <td>1</td>\n",
       "      <td>0</td>\n",
       "      <td>0</td>\n",
       "      <td>1</td>\n",
       "      <td>1</td>\n",
       "      <td>...</td>\n",
       "      <td>0</td>\n",
       "      <td>0</td>\n",
       "      <td>0</td>\n",
       "      <td>0</td>\n",
       "      <td>0</td>\n",
       "      <td>0</td>\n",
       "      <td>0</td>\n",
       "      <td>0</td>\n",
       "      <td>0</td>\n",
       "      <td>0</td>\n",
       "    </tr>\n",
       "  </tbody>\n",
       "</table>\n",
       "<p>5 rows × 24 columns</p>\n",
       "</div>"
      ],
      "text/plain": [
       "   MovieID  Rating Zip-code  Gender  Age  Occupation  Action  Adventure  \\\n",
       "0        1       5    48067       0    1          10       0          0   \n",
       "1        1       4    55117       0   50           9       0          0   \n",
       "2        1       4    11413       1   25          12       0          0   \n",
       "3        1       5    61614       1   25          17       0          0   \n",
       "4        1       5    95370       0   35           1       0          0   \n",
       "\n",
       "   Animation  Children's  ...  Fantasy  Film-Noir  Horror  Musical  Mystery  \\\n",
       "0          1           1  ...        0          0       0        0        0   \n",
       "1          1           1  ...        0          0       0        0        0   \n",
       "2          1           1  ...        0          0       0        0        0   \n",
       "3          1           1  ...        0          0       0        0        0   \n",
       "4          1           1  ...        0          0       0        0        0   \n",
       "\n",
       "   Romance  Sci-Fi  Thriller  War  Western  \n",
       "0        0       0         0    0        0  \n",
       "1        0       0         0    0        0  \n",
       "2        0       0         0    0        0  \n",
       "3        0       0         0    0        0  \n",
       "4        0       0         0    0        0  \n",
       "\n",
       "[5 rows x 24 columns]"
      ]
     },
     "execution_count": 50,
     "metadata": {},
     "output_type": "execute_result"
    }
   ],
   "source": [
    "master_features.head()"
   ]
  },
  {
   "cell_type": "markdown",
   "metadata": {
    "papermill": {
     "duration": 0.117372,
     "end_time": "2020-11-25T04:41:44.369294",
     "exception": false,
     "start_time": "2020-11-25T04:41:44.251922",
     "status": "completed"
    },
    "tags": []
   },
   "source": [
    "***"
   ]
  },
  {
   "cell_type": "markdown",
   "metadata": {
    "papermill": {
     "duration": 0.107552,
     "end_time": "2020-11-25T04:41:44.585611",
     "exception": false,
     "start_time": "2020-11-25T04:41:44.478059",
     "status": "completed"
    },
    "tags": []
   },
   "source": [
    "## Train model for linear regression"
   ]
  },
  {
   "cell_type": "markdown",
   "metadata": {
    "papermill": {
     "duration": 0.115035,
     "end_time": "2020-11-25T04:41:44.809319",
     "exception": false,
     "start_time": "2020-11-25T04:41:44.694284",
     "status": "completed"
    },
    "tags": []
   },
   "source": [
    "- pull all the columns to analyze exclude the Ratings column since this is our dependent variable\n",
    "- let's drop the zip code and rating columns, zip code might not be worth the cycles at this point\n",
    "- let's make a smaller dataset with only those relevant features"
   ]
  },
  {
   "cell_type": "code",
   "execution_count": 51,
   "metadata": {
    "execution": {
     "iopub.execute_input": "2020-11-25T04:41:45.061926Z",
     "iopub.status.busy": "2020-11-25T04:41:45.060620Z",
     "iopub.status.idle": "2020-11-25T04:41:45.064485Z",
     "shell.execute_reply": "2020-11-25T04:41:45.063716Z"
    },
    "papermill": {
     "duration": 0.145121,
     "end_time": "2020-11-25T04:41:45.064633",
     "exception": false,
     "start_time": "2020-11-25T04:41:44.919512",
     "status": "completed"
    },
    "tags": []
   },
   "outputs": [],
   "source": [
    "X_feature = md_small.drop(['Zip-code'], axis=1)"
   ]
  },
  {
   "cell_type": "code",
   "execution_count": 52,
   "metadata": {
    "execution": {
     "iopub.execute_input": "2020-11-25T04:41:45.298071Z",
     "iopub.status.busy": "2020-11-25T04:41:45.296911Z",
     "iopub.status.idle": "2020-11-25T04:41:45.300834Z",
     "shell.execute_reply": "2020-11-25T04:41:45.301495Z"
    },
    "papermill": {
     "duration": 0.125297,
     "end_time": "2020-11-25T04:41:45.301661",
     "exception": false,
     "start_time": "2020-11-25T04:41:45.176364",
     "status": "completed"
    },
    "tags": []
   },
   "outputs": [
    {
     "data": {
      "text/html": [
       "<div>\n",
       "<style scoped>\n",
       "    .dataframe tbody tr th:only-of-type {\n",
       "        vertical-align: middle;\n",
       "    }\n",
       "\n",
       "    .dataframe tbody tr th {\n",
       "        vertical-align: top;\n",
       "    }\n",
       "\n",
       "    .dataframe thead th {\n",
       "        text-align: right;\n",
       "    }\n",
       "</style>\n",
       "<table border=\"1\" class=\"dataframe\">\n",
       "  <thead>\n",
       "    <tr style=\"text-align: right;\">\n",
       "      <th></th>\n",
       "      <th>MovieID</th>\n",
       "      <th>Rating</th>\n",
       "      <th>Gender</th>\n",
       "      <th>Age</th>\n",
       "      <th>Occupation</th>\n",
       "    </tr>\n",
       "  </thead>\n",
       "  <tbody>\n",
       "    <tr>\n",
       "      <th>0</th>\n",
       "      <td>1</td>\n",
       "      <td>5</td>\n",
       "      <td>0</td>\n",
       "      <td>1</td>\n",
       "      <td>10</td>\n",
       "    </tr>\n",
       "    <tr>\n",
       "      <th>1</th>\n",
       "      <td>1</td>\n",
       "      <td>4</td>\n",
       "      <td>0</td>\n",
       "      <td>50</td>\n",
       "      <td>9</td>\n",
       "    </tr>\n",
       "    <tr>\n",
       "      <th>2</th>\n",
       "      <td>1</td>\n",
       "      <td>4</td>\n",
       "      <td>1</td>\n",
       "      <td>25</td>\n",
       "      <td>12</td>\n",
       "    </tr>\n",
       "    <tr>\n",
       "      <th>3</th>\n",
       "      <td>1</td>\n",
       "      <td>5</td>\n",
       "      <td>1</td>\n",
       "      <td>25</td>\n",
       "      <td>17</td>\n",
       "    </tr>\n",
       "    <tr>\n",
       "      <th>4</th>\n",
       "      <td>1</td>\n",
       "      <td>5</td>\n",
       "      <td>0</td>\n",
       "      <td>35</td>\n",
       "      <td>1</td>\n",
       "    </tr>\n",
       "  </tbody>\n",
       "</table>\n",
       "</div>"
      ],
      "text/plain": [
       "   MovieID  Rating  Gender  Age  Occupation\n",
       "0        1       5       0    1          10\n",
       "1        1       4       0   50           9\n",
       "2        1       4       1   25          12\n",
       "3        1       5       1   25          17\n",
       "4        1       5       0   35           1"
      ]
     },
     "execution_count": 52,
     "metadata": {},
     "output_type": "execute_result"
    }
   ],
   "source": [
    "X_feature.head()"
   ]
  },
  {
   "cell_type": "markdown",
   "metadata": {
    "papermill": {
     "duration": 0.108244,
     "end_time": "2020-11-25T04:41:45.520521",
     "exception": false,
     "start_time": "2020-11-25T04:41:45.412277",
     "status": "completed"
    },
    "tags": []
   },
   "source": [
    "Since we're dealing with a large dataset, let's just train and test on a smaller portion of the dataset.  Let's grab only the first 50 unique movie IDs.  We have to make sure both our X and Y vectors are the same number of rows."
   ]
  },
  {
   "cell_type": "code",
   "execution_count": 53,
   "metadata": {
    "execution": {
     "iopub.execute_input": "2020-11-25T04:41:45.744640Z",
     "iopub.status.busy": "2020-11-25T04:41:45.743896Z",
     "iopub.status.idle": "2020-11-25T04:41:45.749202Z",
     "shell.execute_reply": "2020-11-25T04:41:45.748528Z"
    },
    "papermill": {
     "duration": 0.120446,
     "end_time": "2020-11-25T04:41:45.749332",
     "exception": false,
     "start_time": "2020-11-25T04:41:45.628886",
     "status": "completed"
    },
    "tags": []
   },
   "outputs": [],
   "source": [
    "X_feature_small = X_feature[X_feature['MovieID'] < 50] "
   ]
  },
  {
   "cell_type": "markdown",
   "metadata": {
    "papermill": {
     "duration": 0.1082,
     "end_time": "2020-11-25T04:41:45.965633",
     "exception": false,
     "start_time": "2020-11-25T04:41:45.857433",
     "status": "completed"
    },
    "tags": []
   },
   "source": [
    "The training data need only include the features we feel would influence the outcome of the movie rating.  \n",
    "\n",
    "I have chosen that Occupation, Age and Gender are the most influential.\n",
    "\n",
    "We will get rid of the MovieID and Rating column as this will conflict with our regression"
   ]
  },
  {
   "cell_type": "code",
   "execution_count": 54,
   "metadata": {
    "execution": {
     "iopub.execute_input": "2020-11-25T04:41:46.194080Z",
     "iopub.status.busy": "2020-11-25T04:41:46.193230Z",
     "iopub.status.idle": "2020-11-25T04:41:46.196368Z",
     "shell.execute_reply": "2020-11-25T04:41:46.195657Z"
    },
    "papermill": {
     "duration": 0.120706,
     "end_time": "2020-11-25T04:41:46.196492",
     "exception": false,
     "start_time": "2020-11-25T04:41:46.075786",
     "status": "completed"
    },
    "tags": []
   },
   "outputs": [],
   "source": [
    "X_feature_small_trimmed = X_feature_small.drop(['MovieID','Rating'], axis=1)"
   ]
  },
  {
   "cell_type": "code",
   "execution_count": 55,
   "metadata": {
    "execution": {
     "iopub.execute_input": "2020-11-25T04:41:46.434832Z",
     "iopub.status.busy": "2020-11-25T04:41:46.433729Z",
     "iopub.status.idle": "2020-11-25T04:41:46.438206Z",
     "shell.execute_reply": "2020-11-25T04:41:46.437555Z"
    },
    "papermill": {
     "duration": 0.131943,
     "end_time": "2020-11-25T04:41:46.438343",
     "exception": false,
     "start_time": "2020-11-25T04:41:46.306400",
     "status": "completed"
    },
    "tags": []
   },
   "outputs": [
    {
     "data": {
      "text/plain": [
       "(23302, 3)"
      ]
     },
     "execution_count": 55,
     "metadata": {},
     "output_type": "execute_result"
    }
   ],
   "source": [
    "X_feature_small_trimmed.shape"
   ]
  },
  {
   "cell_type": "code",
   "execution_count": 56,
   "metadata": {
    "execution": {
     "iopub.execute_input": "2020-11-25T04:41:46.669332Z",
     "iopub.status.busy": "2020-11-25T04:41:46.668008Z",
     "iopub.status.idle": "2020-11-25T04:41:46.672879Z",
     "shell.execute_reply": "2020-11-25T04:41:46.672163Z"
    },
    "papermill": {
     "duration": 0.124421,
     "end_time": "2020-11-25T04:41:46.672999",
     "exception": false,
     "start_time": "2020-11-25T04:41:46.548578",
     "status": "completed"
    },
    "tags": []
   },
   "outputs": [
    {
     "data": {
      "text/html": [
       "<div>\n",
       "<style scoped>\n",
       "    .dataframe tbody tr th:only-of-type {\n",
       "        vertical-align: middle;\n",
       "    }\n",
       "\n",
       "    .dataframe tbody tr th {\n",
       "        vertical-align: top;\n",
       "    }\n",
       "\n",
       "    .dataframe thead th {\n",
       "        text-align: right;\n",
       "    }\n",
       "</style>\n",
       "<table border=\"1\" class=\"dataframe\">\n",
       "  <thead>\n",
       "    <tr style=\"text-align: right;\">\n",
       "      <th></th>\n",
       "      <th>Gender</th>\n",
       "      <th>Age</th>\n",
       "      <th>Occupation</th>\n",
       "    </tr>\n",
       "  </thead>\n",
       "  <tbody>\n",
       "    <tr>\n",
       "      <th>0</th>\n",
       "      <td>0</td>\n",
       "      <td>1</td>\n",
       "      <td>10</td>\n",
       "    </tr>\n",
       "    <tr>\n",
       "      <th>1</th>\n",
       "      <td>0</td>\n",
       "      <td>50</td>\n",
       "      <td>9</td>\n",
       "    </tr>\n",
       "    <tr>\n",
       "      <th>2</th>\n",
       "      <td>1</td>\n",
       "      <td>25</td>\n",
       "      <td>12</td>\n",
       "    </tr>\n",
       "    <tr>\n",
       "      <th>3</th>\n",
       "      <td>1</td>\n",
       "      <td>25</td>\n",
       "      <td>17</td>\n",
       "    </tr>\n",
       "    <tr>\n",
       "      <th>4</th>\n",
       "      <td>0</td>\n",
       "      <td>35</td>\n",
       "      <td>1</td>\n",
       "    </tr>\n",
       "  </tbody>\n",
       "</table>\n",
       "</div>"
      ],
      "text/plain": [
       "   Gender  Age  Occupation\n",
       "0       0    1          10\n",
       "1       0   50           9\n",
       "2       1   25          12\n",
       "3       1   25          17\n",
       "4       0   35           1"
      ]
     },
     "execution_count": 56,
     "metadata": {},
     "output_type": "execute_result"
    }
   ],
   "source": [
    "X_feature_small_trimmed.head()"
   ]
  },
  {
   "cell_type": "markdown",
   "metadata": {
    "papermill": {
     "duration": 0.109474,
     "end_time": "2020-11-25T04:41:46.891994",
     "exception": false,
     "start_time": "2020-11-25T04:41:46.782520",
     "status": "completed"
    },
    "tags": []
   },
   "source": [
    "The target feature we are trying to predict is the dependent variable, in other words the 'y' of the linear equation.  \n",
    "\n",
    "In this case our target is the Rating feature."
   ]
  },
  {
   "cell_type": "code",
   "execution_count": 57,
   "metadata": {
    "execution": {
     "iopub.execute_input": "2020-11-25T04:41:47.124188Z",
     "iopub.status.busy": "2020-11-25T04:41:47.123401Z",
     "iopub.status.idle": "2020-11-25T04:41:47.128673Z",
     "shell.execute_reply": "2020-11-25T04:41:47.128016Z"
    },
    "papermill": {
     "duration": 0.124263,
     "end_time": "2020-11-25T04:41:47.128813",
     "exception": false,
     "start_time": "2020-11-25T04:41:47.004550",
     "status": "completed"
    },
    "tags": []
   },
   "outputs": [],
   "source": [
    "Y_target = master_features['Rating'][master_features['MovieID']< 50]"
   ]
  },
  {
   "cell_type": "code",
   "execution_count": 58,
   "metadata": {
    "execution": {
     "iopub.execute_input": "2020-11-25T04:41:47.358794Z",
     "iopub.status.busy": "2020-11-25T04:41:47.357901Z",
     "iopub.status.idle": "2020-11-25T04:41:47.362592Z",
     "shell.execute_reply": "2020-11-25T04:41:47.361887Z"
    },
    "papermill": {
     "duration": 0.121249,
     "end_time": "2020-11-25T04:41:47.362724",
     "exception": false,
     "start_time": "2020-11-25T04:41:47.241475",
     "status": "completed"
    },
    "tags": []
   },
   "outputs": [
    {
     "data": {
      "text/plain": [
       "(23302,)"
      ]
     },
     "execution_count": 58,
     "metadata": {},
     "output_type": "execute_result"
    }
   ],
   "source": [
    "Y_target.shape"
   ]
  },
  {
   "cell_type": "markdown",
   "metadata": {
    "papermill": {
     "duration": 0.110631,
     "end_time": "2020-11-25T04:41:47.590302",
     "exception": false,
     "start_time": "2020-11-25T04:41:47.479671",
     "status": "completed"
    },
    "tags": []
   },
   "source": [
    "***"
   ]
  },
  {
   "cell_type": "markdown",
   "metadata": {
    "papermill": {
     "duration": 0.110451,
     "end_time": "2020-11-25T04:41:47.812904",
     "exception": false,
     "start_time": "2020-11-25T04:41:47.702453",
     "status": "completed"
    },
    "tags": []
   },
   "source": [
    "### Develop an appropriate model to predict the movie ratings"
   ]
  },
  {
   "cell_type": "markdown",
   "metadata": {
    "papermill": {
     "duration": 0.111145,
     "end_time": "2020-11-25T04:41:48.033983",
     "exception": false,
     "start_time": "2020-11-25T04:41:47.922838",
     "status": "completed"
    },
    "tags": []
   },
   "source": [
    "Split the data into training and testing data.  By default this is 75% training and 25% testing"
   ]
  },
  {
   "cell_type": "code",
   "execution_count": 59,
   "metadata": {
    "execution": {
     "iopub.execute_input": "2020-11-25T04:41:48.261328Z",
     "iopub.status.busy": "2020-11-25T04:41:48.260481Z",
     "iopub.status.idle": "2020-11-25T04:41:48.338866Z",
     "shell.execute_reply": "2020-11-25T04:41:48.338146Z"
    },
    "papermill": {
     "duration": 0.194081,
     "end_time": "2020-11-25T04:41:48.339018",
     "exception": false,
     "start_time": "2020-11-25T04:41:48.144937",
     "status": "completed"
    },
    "tags": []
   },
   "outputs": [],
   "source": [
    "from sklearn.model_selection import train_test_split\n",
    "x_train, x_test, y_train, y_test = train_test_split(X_feature_small_trimmed,Y_target,random_state=1)"
   ]
  },
  {
   "cell_type": "code",
   "execution_count": 60,
   "metadata": {
    "execution": {
     "iopub.execute_input": "2020-11-25T04:41:48.567546Z",
     "iopub.status.busy": "2020-11-25T04:41:48.566596Z",
     "iopub.status.idle": "2020-11-25T04:41:48.686818Z",
     "shell.execute_reply": "2020-11-25T04:41:48.687455Z"
    },
    "papermill": {
     "duration": 0.236409,
     "end_time": "2020-11-25T04:41:48.687670",
     "exception": false,
     "start_time": "2020-11-25T04:41:48.451261",
     "status": "completed"
    },
    "tags": []
   },
   "outputs": [],
   "source": [
    "from sklearn.linear_model import LogisticRegression"
   ]
  },
  {
   "cell_type": "markdown",
   "metadata": {
    "papermill": {
     "duration": 0.111448,
     "end_time": "2020-11-25T04:41:48.932998",
     "exception": false,
     "start_time": "2020-11-25T04:41:48.821550",
     "status": "completed"
    },
    "tags": []
   },
   "source": [
    "Logistic regression is best used for predicting categorical data\n",
    "\n",
    "need to do logistic regression on the training data so we can see how well our test data does the prediction\n",
    "\n",
    "The dataset kept throwing off a non-convergence error where max iterations had been reached.  I used the code below to increase the max iter."
   ]
  },
  {
   "cell_type": "code",
   "execution_count": 61,
   "metadata": {
    "execution": {
     "iopub.execute_input": "2020-11-25T04:41:49.163028Z",
     "iopub.status.busy": "2020-11-25T04:41:49.162274Z",
     "iopub.status.idle": "2020-11-25T04:41:49.165489Z",
     "shell.execute_reply": "2020-11-25T04:41:49.164709Z"
    },
    "papermill": {
     "duration": 0.120427,
     "end_time": "2020-11-25T04:41:49.165621",
     "exception": false,
     "start_time": "2020-11-25T04:41:49.045194",
     "status": "completed"
    },
    "tags": []
   },
   "outputs": [],
   "source": [
    "#logreg = LogisticRegression(solver='lbfgs',class_weight='balanced', max_iter=100000)\n",
    "logreg = LogisticRegression(max_iter=100000)"
   ]
  },
  {
   "cell_type": "code",
   "execution_count": 62,
   "metadata": {
    "execution": {
     "iopub.execute_input": "2020-11-25T04:41:49.396338Z",
     "iopub.status.busy": "2020-11-25T04:41:49.395587Z",
     "iopub.status.idle": "2020-11-25T04:41:52.081733Z",
     "shell.execute_reply": "2020-11-25T04:41:52.080524Z"
    },
    "papermill": {
     "duration": 2.804192,
     "end_time": "2020-11-25T04:41:52.081919",
     "exception": false,
     "start_time": "2020-11-25T04:41:49.277727",
     "status": "completed"
    },
    "tags": []
   },
   "outputs": [
    {
     "data": {
      "text/plain": [
       "LogisticRegression(max_iter=100000)"
      ]
     },
     "execution_count": 62,
     "metadata": {},
     "output_type": "execute_result"
    }
   ],
   "source": [
    "logreg.fit(x_train,y_train)"
   ]
  },
  {
   "cell_type": "markdown",
   "metadata": {
    "papermill": {
     "duration": 0.112207,
     "end_time": "2020-11-25T04:41:52.311360",
     "exception": false,
     "start_time": "2020-11-25T04:41:52.199153",
     "status": "completed"
    },
    "tags": []
   },
   "source": [
    "Let's predict the outcome based on test set"
   ]
  },
  {
   "cell_type": "code",
   "execution_count": 63,
   "metadata": {
    "execution": {
     "iopub.execute_input": "2020-11-25T04:41:52.544969Z",
     "iopub.status.busy": "2020-11-25T04:41:52.544188Z",
     "iopub.status.idle": "2020-11-25T04:41:52.547708Z",
     "shell.execute_reply": "2020-11-25T04:41:52.547051Z"
    },
    "papermill": {
     "duration": 0.123881,
     "end_time": "2020-11-25T04:41:52.547835",
     "exception": false,
     "start_time": "2020-11-25T04:41:52.423954",
     "status": "completed"
    },
    "tags": []
   },
   "outputs": [],
   "source": [
    "y_pred = logreg.predict(x_test)"
   ]
  },
  {
   "cell_type": "markdown",
   "metadata": {
    "papermill": {
     "duration": 0.111797,
     "end_time": "2020-11-25T04:41:52.775063",
     "exception": false,
     "start_time": "2020-11-25T04:41:52.663266",
     "status": "completed"
    },
    "tags": []
   },
   "source": [
    "let's get the accuracy score of the test data"
   ]
  },
  {
   "cell_type": "code",
   "execution_count": 64,
   "metadata": {
    "execution": {
     "iopub.execute_input": "2020-11-25T04:41:53.006521Z",
     "iopub.status.busy": "2020-11-25T04:41:53.005720Z",
     "iopub.status.idle": "2020-11-25T04:41:53.012225Z",
     "shell.execute_reply": "2020-11-25T04:41:53.012861Z"
    },
    "papermill": {
     "duration": 0.125101,
     "end_time": "2020-11-25T04:41:53.013023",
     "exception": false,
     "start_time": "2020-11-25T04:41:52.887922",
     "status": "completed"
    },
    "tags": []
   },
   "outputs": [
    {
     "data": {
      "text/plain": [
       "0.36611740473738413"
      ]
     },
     "execution_count": 64,
     "metadata": {},
     "output_type": "execute_result"
    }
   ],
   "source": [
    "from sklearn import metrics\n",
    "metrics.accuracy_score(y_test,y_pred)"
   ]
  },
  {
   "cell_type": "code",
   "execution_count": 65,
   "metadata": {
    "execution": {
     "iopub.execute_input": "2020-11-25T04:41:53.245754Z",
     "iopub.status.busy": "2020-11-25T04:41:53.244990Z",
     "iopub.status.idle": "2020-11-25T04:41:53.249323Z",
     "shell.execute_reply": "2020-11-25T04:41:53.248367Z"
    },
    "papermill": {
     "duration": 0.123689,
     "end_time": "2020-11-25T04:41:53.249489",
     "exception": false,
     "start_time": "2020-11-25T04:41:53.125800",
     "status": "completed"
    },
    "tags": []
   },
   "outputs": [
    {
     "name": "stdout",
     "output_type": "stream",
     "text": [
      "actual:     [4 4 4 5 2 4 4 3 3 2 4 3 5 3 4 5 3 4 3 5 5 5 1 3 1 5 4 3 3 4]\n",
      "predicted:  [4 4 4 4 4 4 4 4 4 4 4 4 4 4 4 4 4 4 4 4 4 4 4 4 4 4 4 4 4 4]\n"
     ]
    }
   ],
   "source": [
    "# print the first 30 true and predicted responses\n",
    "print ('actual:    ', y_test.values[0:30])\n",
    "print ('predicted: ', y_pred[0:30])"
   ]
  },
  {
   "cell_type": "markdown",
   "metadata": {
    "papermill": {
     "duration": 0.113249,
     "end_time": "2020-11-25T04:41:53.477389",
     "exception": false,
     "start_time": "2020-11-25T04:41:53.364140",
     "status": "completed"
    },
    "tags": []
   },
   "source": [
    "***"
   ]
  },
  {
   "cell_type": "markdown",
   "metadata": {
    "papermill": {
     "duration": 0.11458,
     "end_time": "2020-11-25T04:41:53.705786",
     "exception": false,
     "start_time": "2020-11-25T04:41:53.591206",
     "status": "completed"
    },
    "tags": []
   },
   "source": [
    "### Summary"
   ]
  },
  {
   "cell_type": "markdown",
   "metadata": {
    "papermill": {
     "duration": 0.114178,
     "end_time": "2020-11-25T04:41:53.934706",
     "exception": false,
     "start_time": "2020-11-25T04:41:53.820528",
     "status": "completed"
    },
    "tags": []
   },
   "source": [
    "- The best accuracy score was 36.6% reached with 23302 rows corresponding to 50 movies being evaluated\n",
    "\n",
    "- Relative to the best score, a decrease in accuracy to 35% was observed when 25 movies were evaluated corresponding to 12476 rows.\n",
    "\n",
    "- Relative to the best score, a decrease in accuracy to 34% was observed when 100 movies were evaluated corresponding to 32244 rows.\n",
    "\n",
    "* - These observations remained the same when including or excluding \"Occupation\" and \"Gender\" as these two features had the least influence on the outcome.\n"
   ]
  },
  {
   "cell_type": "code",
   "execution_count": null,
   "metadata": {
    "papermill": {
     "duration": 0.115279,
     "end_time": "2020-11-25T04:41:54.167213",
     "exception": false,
     "start_time": "2020-11-25T04:41:54.051934",
     "status": "completed"
    },
    "tags": []
   },
   "outputs": [],
   "source": []
  }
 ],
 "metadata": {
  "kernelspec": {
   "display_name": "Python 3",
   "language": "python",
   "name": "python3"
  },
  "language_info": {
   "codemirror_mode": {
    "name": "ipython",
    "version": 3
   },
   "file_extension": ".py",
   "mimetype": "text/x-python",
   "name": "python",
   "nbconvert_exporter": "python",
   "pygments_lexer": "ipython3",
   "version": "3.7.6"
  },
  "papermill": {
   "duration": 57.305999,
   "end_time": "2020-11-25T04:41:54.388457",
   "environment_variables": {},
   "exception": null,
   "input_path": "__notebook__.ipynb",
   "output_path": "__notebook__.ipynb",
   "parameters": {},
   "start_time": "2020-11-25T04:40:57.082458",
   "version": "2.1.0"
  }
 },
 "nbformat": 4,
 "nbformat_minor": 4
}
